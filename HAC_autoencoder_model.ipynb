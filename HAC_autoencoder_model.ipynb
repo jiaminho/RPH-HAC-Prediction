{
  "cells": [
    {
      "cell_type": "markdown",
      "metadata": {
        "id": "view-in-github",
        "colab_type": "text"
      },
      "source": [
        "<a href=\"https://colab.research.google.com/github/jiaminho/RPH-HAC-Prediction/blob/jiamin_branch/HAC_autoencoder_model.ipynb\" target=\"_parent\"><img src=\"https://colab.research.google.com/assets/colab-badge.svg\" alt=\"Open In Colab\"/></a>"
      ]
    },
    {
      "cell_type": "markdown",
      "source": [
        "# Hospital Acquired Complications (HACs) Model Training and Evaluation"
      ],
      "metadata": {
        "id": "nrYbP44CHIV0"
      },
      "id": "nrYbP44CHIV0"
    },
    {
      "cell_type": "code",
      "source": [
        "# mount google drive for google colab\n",
        "from google.colab import drive\n",
        "drive.mount('/content/drive')"
      ],
      "metadata": {
        "colab": {
          "base_uri": "https://localhost:8080/"
        },
        "id": "UM18cVwuHHh_",
        "outputId": "f91ba9dd-f537-46ca-8776-88a0762b00c1"
      },
      "id": "UM18cVwuHHh_",
      "execution_count": 1,
      "outputs": [
        {
          "output_type": "stream",
          "name": "stdout",
          "text": [
            "Mounted at /content/drive\n"
          ]
        }
      ]
    },
    {
      "cell_type": "code",
      "source": [
        "path_prefix = '/content/drive/My Drive/CITS5553 Capstone Project/Capstone Project - HAC/hacks_project/'"
      ],
      "metadata": {
        "id": "Je11z70nHi-U"
      },
      "id": "Je11z70nHi-U",
      "execution_count": 2,
      "outputs": []
    },
    {
      "cell_type": "markdown",
      "source": [
        "Import libraries"
      ],
      "metadata": {
        "id": "E6IHVg8tHcLu"
      },
      "id": "E6IHVg8tHcLu"
    },
    {
      "cell_type": "code",
      "source": [
        "import matplotlib.pyplot as plt\n",
        "import seaborn as sns\n",
        "import pandas as pd\n",
        "import numpy as np\n",
        "import networkx as nx\n",
        "import os\n",
        "from sklearn.preprocessing import StandardScaler, OneHotEncoder\n",
        "from sklearn.model_selection import train_test_split\n",
        "from sklearn.compose import ColumnTransformer\n",
        "from sklearn.pipeline import Pipeline\n",
        "import warnings\n",
        "from keras.layers import Input, Dense\n",
        "from keras.models import Model\n",
        "import numpy as np\n",
        "import tensorflow as tf\n",
        "from tensorflow.keras.layers import Input, Dense\n",
        "from tensorflow.keras.models import Model\n",
        "from keras.models import Sequential\n",
        "from keras.layers import Dense, Dropout\n",
        "from keras.optimizers import Adam\n",
        "from sklearn.metrics import classification_report, confusion_matrix\n",
        "pd.set_option('display.max_columns', None)  # None ensures all columns are shown\n",
        "warnings.simplefilter(action='ignore', category=FutureWarning)"
      ],
      "metadata": {
        "id": "hFxLDoGqHH3t"
      },
      "id": "hFxLDoGqHH3t",
      "execution_count": 35,
      "outputs": []
    },
    {
      "cell_type": "markdown",
      "source": [
        "Read pre-processed data \"all_encoded_df\""
      ],
      "metadata": {
        "id": "cY4ZYAmfJPqb"
      },
      "id": "cY4ZYAmfJPqb"
    },
    {
      "cell_type": "code",
      "source": [
        "encoded_df = pd.read_csv(path_prefix + 'data/all_encoded_df.csv')"
      ],
      "metadata": {
        "id": "mcPBR7uvHm8w"
      },
      "id": "mcPBR7uvHm8w",
      "execution_count": 4,
      "outputs": []
    },
    {
      "cell_type": "code",
      "source": [
        "encoded_df.shape"
      ],
      "metadata": {
        "colab": {
          "base_uri": "https://localhost:8080/"
        },
        "id": "0wsHL_skLanb",
        "outputId": "e82c2162-7db4-422b-c9ba-a90a870e3565"
      },
      "id": "0wsHL_skLanb",
      "execution_count": 5,
      "outputs": [
        {
          "output_type": "execute_result",
          "data": {
            "text/plain": [
              "(58976, 18495)"
            ]
          },
          "metadata": {},
          "execution_count": 5
        }
      ]
    },
    {
      "cell_type": "code",
      "source": [
        "encoded_df['uti'] = encoded_df['uti'].replace({True: 1, False: 0})"
      ],
      "metadata": {
        "id": "RqjDk-75O1KX"
      },
      "id": "RqjDk-75O1KX",
      "execution_count": 80,
      "outputs": []
    },
    {
      "cell_type": "code",
      "source": [
        "print(encoded_df['uti'].value_counts())"
      ],
      "metadata": {
        "colab": {
          "base_uri": "https://localhost:8080/"
        },
        "id": "Y_DJGq8ehrz0",
        "outputId": "9dd82cce-e9a9-4ea0-9952-39b1c3a21e52"
      },
      "id": "Y_DJGq8ehrz0",
      "execution_count": 97,
      "outputs": [
        {
          "output_type": "stream",
          "name": "stdout",
          "text": [
            "0    52421\n",
            "1     6555\n",
            "Name: uti, dtype: int64\n"
          ]
        }
      ]
    },
    {
      "cell_type": "markdown",
      "source": [
        "train test split"
      ],
      "metadata": {
        "id": "ixp0_f-RLQ-3"
      },
      "id": "ixp0_f-RLQ-3"
    },
    {
      "cell_type": "code",
      "source": [
        "X = encoded_df.drop('uti', axis=1)\n",
        "y = encoded_df['uti']\n",
        "\n",
        "X_train, X_test, y_train, y_test = train_test_split(X, y, test_size=0.2, random_state=42)"
      ],
      "metadata": {
        "id": "qGUCL6mFJNkn"
      },
      "id": "qGUCL6mFJNkn",
      "execution_count": 81,
      "outputs": []
    },
    {
      "cell_type": "code",
      "source": [
        "# Scale data\n",
        "scaler_original = StandardScaler()\n",
        "X_scaled = scaler_original.fit_transform(X_train)"
      ],
      "metadata": {
        "id": "9vRcI9mOMA0G"
      },
      "id": "9vRcI9mOMA0G",
      "execution_count": 82,
      "outputs": []
    },
    {
      "cell_type": "markdown",
      "source": [
        "## Autoencoder\n",
        "\n",
        "Dimensionality Reduction"
      ],
      "metadata": {
        "id": "hz4fRV91Kzwh"
      },
      "id": "hz4fRV91Kzwh"
    },
    {
      "cell_type": "code",
      "source": [
        "encoding_dim = 100  # adjust this based on requirements\n",
        "input_dim = X_scaled.shape[1]\n",
        "\n",
        "# Define input layer\n",
        "input_layer = Input(shape=(input_dim,))\n",
        "\n",
        "# Define encoding layer\n",
        "encoder = Dense(encoding_dim, activation='relu')(input_layer)\n",
        "\n",
        "# Define decoding layer\n",
        "#decoded = Dense(input_dim, activation='sigmoid')(encoded)\n",
        "\n",
        "# Create autoencoder model\n",
        "autoencoder = Model(input_layer, encoder)"
      ],
      "metadata": {
        "id": "ETyoCOa_Mi5f"
      },
      "id": "ETyoCOa_Mi5f",
      "execution_count": 83,
      "outputs": []
    },
    {
      "cell_type": "code",
      "source": [
        "encoded = autoencoder.predict(X_scaled)\n",
        "encoded_test = autoencoder.predict(X_test)"
      ],
      "metadata": {
        "colab": {
          "base_uri": "https://localhost:8080/"
        },
        "id": "38imHDtNM4wc",
        "outputId": "127ce06d-5b63-47a1-defe-b98cfdb09bd1"
      },
      "id": "38imHDtNM4wc",
      "execution_count": 84,
      "outputs": [
        {
          "output_type": "stream",
          "name": "stdout",
          "text": [
            "1475/1475 [==============================] - 3s 2ms/step\n",
            "369/369 [==============================] - 1s 2ms/step\n"
          ]
        }
      ]
    },
    {
      "cell_type": "markdown",
      "source": [
        "## Deep Neural Network (DNN)"
      ],
      "metadata": {
        "id": "frpV3R9ZNwVf"
      },
      "id": "frpV3R9ZNwVf"
    },
    {
      "cell_type": "code",
      "source": [
        "# Adjust class weight\n",
        "class_weight_0 = len(y_train) / (2 * np.sum(y_train == 0))\n",
        "class_weight_1 = len(y_train) / (2 * np.sum(y_train == 1))\n",
        "class_weights = {0: class_weight_0, 1: class_weight_1}\n",
        "\n",
        "model = Sequential()\n",
        "model.add(Dense(64, input_dim=encoding_dim, activation='relu'))\n",
        "model.add(Dropout(0.2))\n",
        "model.add(Dense(32, activation='relu'))\n",
        "model.add(Dropout(0.2))\n",
        "model.add(Dense(16, activation='relu'))\n",
        "model.add(Dropout(0.2))\n",
        "model.add(Dense(1, activation='sigmoid'))\n",
        "\n",
        "model.compile(loss='binary_crossentropy', optimizer='Adam', metrics=['accuracy'])\n",
        "history = model.fit(encoded, y_train, epochs=100, batch_size=64, class_weight=class_weights)"
      ],
      "metadata": {
        "colab": {
          "base_uri": "https://localhost:8080/"
        },
        "id": "iDRdGR_4NsSB",
        "outputId": "9fe7e874-65ee-4083-a02e-92482fdb4dce"
      },
      "id": "iDRdGR_4NsSB",
      "execution_count": 85,
      "outputs": [
        {
          "output_type": "stream",
          "name": "stdout",
          "text": [
            "Epoch 1/100\n",
            "738/738 [==============================] - 4s 3ms/step - loss: 0.6941 - accuracy: 0.5483\n",
            "Epoch 2/100\n",
            "738/738 [==============================] - 2s 3ms/step - loss: 0.6569 - accuracy: 0.5238\n",
            "Epoch 3/100\n",
            "738/738 [==============================] - 3s 3ms/step - loss: 0.6302 - accuracy: 0.4976\n",
            "Epoch 4/100\n",
            "738/738 [==============================] - 3s 3ms/step - loss: 0.6196 - accuracy: 0.5063\n",
            "Epoch 5/100\n",
            "738/738 [==============================] - 2s 3ms/step - loss: 0.6137 - accuracy: 0.5038\n",
            "Epoch 6/100\n",
            "738/738 [==============================] - 2s 3ms/step - loss: 0.6034 - accuracy: 0.5163\n",
            "Epoch 7/100\n",
            "738/738 [==============================] - 2s 3ms/step - loss: 0.5982 - accuracy: 0.5199\n",
            "Epoch 8/100\n",
            "738/738 [==============================] - 2s 3ms/step - loss: 0.5927 - accuracy: 0.5423\n",
            "Epoch 9/100\n",
            "738/738 [==============================] - 2s 3ms/step - loss: 0.5889 - accuracy: 0.5517\n",
            "Epoch 10/100\n",
            "738/738 [==============================] - 3s 3ms/step - loss: 0.5827 - accuracy: 0.5828\n",
            "Epoch 11/100\n",
            "738/738 [==============================] - 2s 3ms/step - loss: 0.5735 - accuracy: 0.5768\n",
            "Epoch 12/100\n",
            "738/738 [==============================] - 2s 3ms/step - loss: 0.5695 - accuracy: 0.5843\n",
            "Epoch 13/100\n",
            "738/738 [==============================] - 3s 3ms/step - loss: 0.5678 - accuracy: 0.5930\n",
            "Epoch 14/100\n",
            "738/738 [==============================] - 3s 3ms/step - loss: 0.5586 - accuracy: 0.5961\n",
            "Epoch 15/100\n",
            "738/738 [==============================] - 3s 4ms/step - loss: 0.5571 - accuracy: 0.6040\n",
            "Epoch 16/100\n",
            "738/738 [==============================] - 3s 3ms/step - loss: 0.5489 - accuracy: 0.6232\n",
            "Epoch 17/100\n",
            "738/738 [==============================] - 2s 3ms/step - loss: 0.5474 - accuracy: 0.6221\n",
            "Epoch 18/100\n",
            "738/738 [==============================] - 2s 3ms/step - loss: 0.5411 - accuracy: 0.6350\n",
            "Epoch 19/100\n",
            "738/738 [==============================] - 2s 3ms/step - loss: 0.5353 - accuracy: 0.6311\n",
            "Epoch 20/100\n",
            "738/738 [==============================] - 3s 3ms/step - loss: 0.5334 - accuracy: 0.6296\n",
            "Epoch 21/100\n",
            "738/738 [==============================] - 2s 3ms/step - loss: 0.5338 - accuracy: 0.6383\n",
            "Epoch 22/100\n",
            "738/738 [==============================] - 2s 3ms/step - loss: 0.5295 - accuracy: 0.6442\n",
            "Epoch 23/100\n",
            "738/738 [==============================] - 2s 3ms/step - loss: 0.5244 - accuracy: 0.6433\n",
            "Epoch 24/100\n",
            "738/738 [==============================] - 2s 3ms/step - loss: 0.5211 - accuracy: 0.6458\n",
            "Epoch 25/100\n",
            "738/738 [==============================] - 2s 3ms/step - loss: 0.5207 - accuracy: 0.6511\n",
            "Epoch 26/100\n",
            "738/738 [==============================] - 2s 3ms/step - loss: 0.5168 - accuracy: 0.6581\n",
            "Epoch 27/100\n",
            "738/738 [==============================] - 2s 3ms/step - loss: 0.5133 - accuracy: 0.6676\n",
            "Epoch 28/100\n",
            "738/738 [==============================] - 2s 3ms/step - loss: 0.5137 - accuracy: 0.6611\n",
            "Epoch 29/100\n",
            "738/738 [==============================] - 2s 3ms/step - loss: 0.5148 - accuracy: 0.6524\n",
            "Epoch 30/100\n",
            "738/738 [==============================] - 3s 3ms/step - loss: 0.5041 - accuracy: 0.6729\n",
            "Epoch 31/100\n",
            "738/738 [==============================] - 2s 3ms/step - loss: 0.5076 - accuracy: 0.6680\n",
            "Epoch 32/100\n",
            "738/738 [==============================] - 2s 3ms/step - loss: 0.5062 - accuracy: 0.6833\n",
            "Epoch 33/100\n",
            "738/738 [==============================] - 2s 3ms/step - loss: 0.4924 - accuracy: 0.6813\n",
            "Epoch 34/100\n",
            "738/738 [==============================] - 2s 3ms/step - loss: 0.4967 - accuracy: 0.6797\n",
            "Epoch 35/100\n",
            "738/738 [==============================] - 2s 3ms/step - loss: 0.4945 - accuracy: 0.6853\n",
            "Epoch 36/100\n",
            "738/738 [==============================] - 2s 3ms/step - loss: 0.4958 - accuracy: 0.6708\n",
            "Epoch 37/100\n",
            "738/738 [==============================] - 2s 3ms/step - loss: 0.4925 - accuracy: 0.6798\n",
            "Epoch 38/100\n",
            "738/738 [==============================] - 3s 4ms/step - loss: 0.4857 - accuracy: 0.6859\n",
            "Epoch 39/100\n",
            "738/738 [==============================] - 3s 4ms/step - loss: 0.4876 - accuracy: 0.6807\n",
            "Epoch 40/100\n",
            "738/738 [==============================] - 3s 3ms/step - loss: 0.4853 - accuracy: 0.6916\n",
            "Epoch 41/100\n",
            "738/738 [==============================] - 3s 3ms/step - loss: 0.4918 - accuracy: 0.6774\n",
            "Epoch 42/100\n",
            "738/738 [==============================] - 2s 3ms/step - loss: 0.4834 - accuracy: 0.6899\n",
            "Epoch 43/100\n",
            "738/738 [==============================] - 2s 3ms/step - loss: 0.4757 - accuracy: 0.6942\n",
            "Epoch 44/100\n",
            "738/738 [==============================] - 2s 3ms/step - loss: 0.4778 - accuracy: 0.7043\n",
            "Epoch 45/100\n",
            "738/738 [==============================] - 2s 3ms/step - loss: 0.4760 - accuracy: 0.7038\n",
            "Epoch 46/100\n",
            "738/738 [==============================] - 2s 3ms/step - loss: 0.4795 - accuracy: 0.7031\n",
            "Epoch 47/100\n",
            "738/738 [==============================] - 3s 3ms/step - loss: 0.4686 - accuracy: 0.7030\n",
            "Epoch 48/100\n",
            "738/738 [==============================] - 3s 3ms/step - loss: 0.4780 - accuracy: 0.7014\n",
            "Epoch 49/100\n",
            "738/738 [==============================] - 2s 3ms/step - loss: 0.4712 - accuracy: 0.6999\n",
            "Epoch 50/100\n",
            "738/738 [==============================] - 3s 3ms/step - loss: 0.4701 - accuracy: 0.7108\n",
            "Epoch 51/100\n",
            "738/738 [==============================] - 2s 3ms/step - loss: 0.4667 - accuracy: 0.7055\n",
            "Epoch 52/100\n",
            "738/738 [==============================] - 2s 3ms/step - loss: 0.4656 - accuracy: 0.7089\n",
            "Epoch 53/100\n",
            "738/738 [==============================] - 2s 3ms/step - loss: 0.4699 - accuracy: 0.7021\n",
            "Epoch 54/100\n",
            "738/738 [==============================] - 2s 3ms/step - loss: 0.4637 - accuracy: 0.7120\n",
            "Epoch 55/100\n",
            "738/738 [==============================] - 2s 3ms/step - loss: 0.4635 - accuracy: 0.7130\n",
            "Epoch 56/100\n",
            "738/738 [==============================] - 2s 3ms/step - loss: 0.4665 - accuracy: 0.7102\n",
            "Epoch 57/100\n",
            "738/738 [==============================] - 2s 3ms/step - loss: 0.4604 - accuracy: 0.7091\n",
            "Epoch 58/100\n",
            "738/738 [==============================] - 2s 3ms/step - loss: 0.4579 - accuracy: 0.7181\n",
            "Epoch 59/100\n",
            "738/738 [==============================] - 2s 3ms/step - loss: 0.4614 - accuracy: 0.7157\n",
            "Epoch 60/100\n",
            "738/738 [==============================] - 2s 3ms/step - loss: 0.4595 - accuracy: 0.7159\n",
            "Epoch 61/100\n",
            "738/738 [==============================] - 2s 3ms/step - loss: 0.4588 - accuracy: 0.7211\n",
            "Epoch 62/100\n",
            "738/738 [==============================] - 2s 3ms/step - loss: 0.4566 - accuracy: 0.7252\n",
            "Epoch 63/100\n",
            "738/738 [==============================] - 2s 3ms/step - loss: 0.4515 - accuracy: 0.7239\n",
            "Epoch 64/100\n",
            "738/738 [==============================] - 2s 3ms/step - loss: 0.4516 - accuracy: 0.7210\n",
            "Epoch 65/100\n",
            "738/738 [==============================] - 3s 4ms/step - loss: 0.4585 - accuracy: 0.7136\n",
            "Epoch 66/100\n",
            "738/738 [==============================] - 3s 4ms/step - loss: 0.4558 - accuracy: 0.7240\n",
            "Epoch 67/100\n",
            "738/738 [==============================] - 2s 3ms/step - loss: 0.4528 - accuracy: 0.7223\n",
            "Epoch 68/100\n",
            "738/738 [==============================] - 2s 3ms/step - loss: 0.4478 - accuracy: 0.7286\n",
            "Epoch 69/100\n",
            "738/738 [==============================] - 2s 3ms/step - loss: 0.4522 - accuracy: 0.7264\n",
            "Epoch 70/100\n",
            "738/738 [==============================] - 2s 3ms/step - loss: 0.4490 - accuracy: 0.7253\n",
            "Epoch 71/100\n",
            "738/738 [==============================] - 2s 3ms/step - loss: 0.4471 - accuracy: 0.7256\n",
            "Epoch 72/100\n",
            "738/738 [==============================] - 2s 3ms/step - loss: 0.4464 - accuracy: 0.7219\n",
            "Epoch 73/100\n",
            "738/738 [==============================] - 2s 3ms/step - loss: 0.4528 - accuracy: 0.7199\n",
            "Epoch 74/100\n",
            "738/738 [==============================] - 2s 3ms/step - loss: 0.4523 - accuracy: 0.7258\n",
            "Epoch 75/100\n",
            "738/738 [==============================] - 2s 3ms/step - loss: 0.4502 - accuracy: 0.7298\n",
            "Epoch 76/100\n",
            "738/738 [==============================] - 2s 3ms/step - loss: 0.4430 - accuracy: 0.7339\n",
            "Epoch 77/100\n",
            "738/738 [==============================] - 2s 3ms/step - loss: 0.4493 - accuracy: 0.7272\n",
            "Epoch 78/100\n",
            "738/738 [==============================] - 2s 3ms/step - loss: 0.4469 - accuracy: 0.7285\n",
            "Epoch 79/100\n",
            "738/738 [==============================] - 2s 3ms/step - loss: 0.4440 - accuracy: 0.7308\n",
            "Epoch 80/100\n",
            "738/738 [==============================] - 2s 3ms/step - loss: 0.4413 - accuracy: 0.7316\n",
            "Epoch 81/100\n",
            "738/738 [==============================] - 2s 3ms/step - loss: 0.4438 - accuracy: 0.7320\n",
            "Epoch 82/100\n",
            "738/738 [==============================] - 2s 3ms/step - loss: 0.4422 - accuracy: 0.7321\n",
            "Epoch 83/100\n",
            "738/738 [==============================] - 2s 3ms/step - loss: 0.4384 - accuracy: 0.7329\n",
            "Epoch 84/100\n",
            "738/738 [==============================] - 2s 3ms/step - loss: 0.4358 - accuracy: 0.7357\n",
            "Epoch 85/100\n",
            "738/738 [==============================] - 2s 3ms/step - loss: 0.4419 - accuracy: 0.7293\n",
            "Epoch 86/100\n",
            "738/738 [==============================] - 2s 3ms/step - loss: 0.4388 - accuracy: 0.7378\n",
            "Epoch 87/100\n",
            "738/738 [==============================] - 2s 3ms/step - loss: 0.4394 - accuracy: 0.7391\n",
            "Epoch 88/100\n",
            "738/738 [==============================] - 2s 3ms/step - loss: 0.4316 - accuracy: 0.7417\n",
            "Epoch 89/100\n",
            "738/738 [==============================] - 2s 3ms/step - loss: 0.4313 - accuracy: 0.7387\n",
            "Epoch 90/100\n",
            "738/738 [==============================] - 2s 3ms/step - loss: 0.4399 - accuracy: 0.7336\n",
            "Epoch 91/100\n",
            "738/738 [==============================] - 2s 3ms/step - loss: 0.4335 - accuracy: 0.7376\n",
            "Epoch 92/100\n",
            "738/738 [==============================] - 2s 3ms/step - loss: 0.4290 - accuracy: 0.7447\n",
            "Epoch 93/100\n",
            "738/738 [==============================] - 2s 3ms/step - loss: 0.4324 - accuracy: 0.7426\n",
            "Epoch 94/100\n",
            "738/738 [==============================] - 2s 3ms/step - loss: 0.4344 - accuracy: 0.7409\n",
            "Epoch 95/100\n",
            "738/738 [==============================] - 2s 3ms/step - loss: 0.4338 - accuracy: 0.7414\n",
            "Epoch 96/100\n",
            "738/738 [==============================] - 2s 3ms/step - loss: 0.4294 - accuracy: 0.7455\n",
            "Epoch 97/100\n",
            "738/738 [==============================] - 2s 3ms/step - loss: 0.4358 - accuracy: 0.7412\n",
            "Epoch 98/100\n",
            "738/738 [==============================] - 2s 3ms/step - loss: 0.4391 - accuracy: 0.7377\n",
            "Epoch 99/100\n",
            "738/738 [==============================] - 2s 3ms/step - loss: 0.4292 - accuracy: 0.7446\n",
            "Epoch 100/100\n",
            "738/738 [==============================] - 2s 3ms/step - loss: 0.4294 - accuracy: 0.7489\n"
          ]
        }
      ]
    },
    {
      "cell_type": "code",
      "source": [
        "model.summary()"
      ],
      "metadata": {
        "colab": {
          "base_uri": "https://localhost:8080/"
        },
        "id": "tts8L5mrOIxB",
        "outputId": "6e028294-f900-422e-8f4f-11b5ccb4c47c"
      },
      "id": "tts8L5mrOIxB",
      "execution_count": 86,
      "outputs": [
        {
          "output_type": "stream",
          "name": "stdout",
          "text": [
            "Model: \"sequential_2\"\n",
            "_________________________________________________________________\n",
            " Layer (type)                Output Shape              Param #   \n",
            "=================================================================\n",
            " dense_14 (Dense)            (None, 64)                6464      \n",
            "                                                                 \n",
            " dropout_6 (Dropout)         (None, 64)                0         \n",
            "                                                                 \n",
            " dense_15 (Dense)            (None, 32)                2080      \n",
            "                                                                 \n",
            " dropout_7 (Dropout)         (None, 32)                0         \n",
            "                                                                 \n",
            " dense_16 (Dense)            (None, 16)                528       \n",
            "                                                                 \n",
            " dropout_8 (Dropout)         (None, 16)                0         \n",
            "                                                                 \n",
            " dense_17 (Dense)            (None, 1)                 17        \n",
            "                                                                 \n",
            "=================================================================\n",
            "Total params: 9089 (35.50 KB)\n",
            "Trainable params: 9089 (35.50 KB)\n",
            "Non-trainable params: 0 (0.00 Byte)\n",
            "_________________________________________________________________\n"
          ]
        }
      ]
    },
    {
      "cell_type": "markdown",
      "source": [
        "Plot Learning Curves"
      ],
      "metadata": {
        "id": "Wm434JB0P52-"
      },
      "id": "Wm434JB0P52-"
    },
    {
      "cell_type": "code",
      "source": [
        "def plot_learning_curves(history):\n",
        "    # Extract the training and validation losses & accuracies\n",
        "    train_loss = history.history['loss']\n",
        "    #val_loss = history.history['val_loss']\n",
        "    train_acc = history.history['accuracy']\n",
        "    #val_acc = history.history['val_accuracy']\n",
        "\n",
        "    epochs = range(1, len(train_loss) + 1)\n",
        "\n",
        "    plt.figure(figsize=(18, 5))\n",
        "\n",
        "    # Plot training and validation accuracies\n",
        "    plt.subplot(1, 2, 1)\n",
        "    plt.plot(epochs, train_acc, 'r', label='Training Accuracy')\n",
        "    #plt.plot(epochs, val_acc, 'b', label='Validation Accuracy')\n",
        "    plt.title('Training Accuracy')\n",
        "    plt.xlabel('Epochs')\n",
        "    plt.ylabel('Accuracy')\n",
        "    plt.legend()\n",
        "    plt.grid(True)\n",
        "\n",
        "    # Plot training and validation losses\n",
        "    plt.subplot(1, 2, 2)\n",
        "    plt.plot(epochs, train_loss, 'r', label='Training Loss')\n",
        "    #plt.plot(epochs, val_loss, 'b', label='Validation Loss')\n",
        "    plt.title('Training Loss')\n",
        "    plt.xlabel('Epochs')\n",
        "    plt.ylabel('Loss')\n",
        "    plt.legend()\n",
        "    plt.grid(True)\n",
        "\n",
        "    plt.tight_layout()\n",
        "    plt.show()\n",
        "\n",
        "plot_learning_curves(history)"
      ],
      "metadata": {
        "colab": {
          "base_uri": "https://localhost:8080/",
          "height": 215
        },
        "id": "yZADAYKpP3WQ",
        "outputId": "654ca03c-fd56-4e35-be27-55861763755e"
      },
      "id": "yZADAYKpP3WQ",
      "execution_count": 87,
      "outputs": [
        {
          "output_type": "display_data",
          "data": {
            "text/plain": [
              "<Figure size 1800x500 with 2 Axes>"
            ],
            "image/png": "[encoded data removed]"
          },
          "metadata": {}
        }
      ]
    },
    {
      "cell_type": "markdown",
      "source": [
        "**DNN Model Evaluation**"
      ],
      "metadata": {
        "id": "mu3jIyojQGiH"
      },
      "id": "mu3jIyojQGiH"
    },
    {
      "cell_type": "code",
      "source": [
        "# train and test predictions\n",
        "dnn_y_test_pred = model.predict(encoded_test)\n",
        "dnn_y_train_pred = model.predict(encoded)"
      ],
      "metadata": {
        "colab": {
          "base_uri": "https://localhost:8080/"
        },
        "id": "zSaNWJ-UZDEM",
        "outputId": "3e4cca0f-e6c4-42f7-ae0d-ecadd2c6b6ce"
      },
      "id": "zSaNWJ-UZDEM",
      "execution_count": 88,
      "outputs": [
        {
          "output_type": "stream",
          "name": "stdout",
          "text": [
            "369/369 [==============================] - 1s 1ms/step\n",
            "1475/1475 [==============================] - 2s 1ms/step\n"
          ]
        }
      ]
    },
    {
      "cell_type": "code",
      "source": [
        "print(classification_report(y_test, dnn_y_test_pred.round()))"
      ],
      "metadata": {
        "colab": {
          "base_uri": "https://localhost:8080/"
        },
        "id": "wuewJwfXboj0",
        "outputId": "b7f25d76-10e6-4de7-8df4-5f4ef7e95753"
      },
      "id": "wuewJwfXboj0",
      "execution_count": 90,
      "outputs": [
        {
          "output_type": "stream",
          "name": "stdout",
          "text": [
            "              precision    recall  f1-score   support\n",
            "\n",
            "           0       0.91      0.82      0.86     10565\n",
            "           1       0.15      0.26      0.19      1231\n",
            "\n",
            "    accuracy                           0.76     11796\n",
            "   macro avg       0.53      0.54      0.53     11796\n",
            "weighted avg       0.83      0.76      0.79     11796\n",
            "\n"
          ]
        }
      ]
    },
    {
      "cell_type": "code",
      "source": [
        "# calculate balanced accuracy\n",
        "from sklearn.metrics import balanced_accuracy_score\n",
        "print(f\"{balanced_accuracy_score(y_test, dnn_y_test_pred.round()) * 100:.2f}% - Balanced accuracy Test\")\n",
        "print(f\"{balanced_accuracy_score(y_train, dnn_y_train_pred.round()) * 100:.2f}% - Balanced accuracy Train\")"
      ],
      "metadata": {
        "colab": {
          "base_uri": "https://localhost:8080/"
        },
        "id": "KbSOv5nmVTSx",
        "outputId": "6b0fc30a-c402-4e49-a70c-96bdb8cefe86"
      },
      "id": "KbSOv5nmVTSx",
      "execution_count": 91,
      "outputs": [
        {
          "output_type": "stream",
          "name": "stdout",
          "text": [
            "54.30% - Balanced accuracy Test\n",
            "85.87% - Balanced accuracy Train\n"
          ]
        }
      ]
    },
    {
      "cell_type": "code",
      "source": [
        "# define labels\n",
        "labels = ['0', '1']\n",
        "\n",
        "# confusion matrix\n",
        "test_cm = confusion_matrix(y_test, dnn_y_test_pred.round())\n",
        "train_cm = confusion_matrix(y_train, dnn_y_train_pred.round())\n",
        "fig, ax = plt.subplots(figsize=(5, 4))\n",
        "sns.heatmap(test_cm, annot=True, fmt='d', cmap='Blues', xticklabels=labels, yticklabels=labels, ax=ax)\n",
        "ax.set_title('Confusion Matrix for Test Set')\n",
        "ax.set_xlabel('Predicted')\n",
        "ax.set_ylabel('Actual')"
      ],
      "metadata": {
        "colab": {
          "base_uri": "https://localhost:8080/",
          "height": 427
        },
        "id": "TK6e8f89ZsZc",
        "outputId": "b691cdc3-19e6-4fc2-86fb-ef9e0e935d20"
      },
      "id": "TK6e8f89ZsZc",
      "execution_count": 106,
      "outputs": [
        {
          "output_type": "execute_result",
          "data": {
            "text/plain": [
              "Text(33.22222222222222, 0.5, 'Actual')"
            ]
          },
          "metadata": {},
          "execution_count": 106
        },
        {
          "output_type": "display_data",
          "data": {
            "text/plain": [
              "<Figure size 500x400 with 2 Axes>"
            ],
            "image/png": "[encoded data removed]"
          },
          "metadata": {}
        }
      ]
    },
    {
      "cell_type": "markdown",
      "source": [
        "## Random Forest"
      ],
      "metadata": {
        "id": "uJ0hwgBGasVA"
      },
      "id": "uJ0hwgBGasVA"
    },
    {
      "cell_type": "code",
      "source": [
        "from sklearn.ensemble import RandomForestClassifier\n",
        "\n",
        "rf = RandomForestClassifier(n_estimators=100, random_state=42)\n",
        "rf.fit(encoded, y_train)"
      ],
      "metadata": {
        "colab": {
          "base_uri": "https://localhost:8080/",
          "height": 74
        },
        "id": "bt4C8Q8iVZXM",
        "outputId": "91f866b6-0840-4b9c-e5f1-ce6bac4621e6"
      },
      "id": "bt4C8Q8iVZXM",
      "execution_count": 92,
      "outputs": [
        {
          "output_type": "execute_result",
          "data": {
            "text/plain": [
              "RandomForestClassifier(random_state=42)"
            ],
            "text/html": [
              "<style>#sk-container-id-2 {color: black;background-color: white;}#sk-container-id-2 pre{padding: 0;}#sk-container-id-2 div.sk-toggleable {background-color: white;}#sk-container-id-2 label.sk-toggleable__label {cursor: pointer;display: block;width: 100%;margin-bottom: 0;padding: 0.3em;box-sizing: border-box;text-align: center;}#sk-container-id-2 label.sk-toggleable__label-arrow:before {content: \"▸\";float: left;margin-right: 0.25em;color: #696969;}#sk-container-id-2 label.sk-toggleable__label-arrow:hover:before {color: black;}#sk-container-id-2 div.sk-estimator:hover label.sk-toggleable__label-arrow:before {color: black;}#sk-container-id-2 div.sk-toggleable__content {max-height: 0;max-width: 0;overflow: hidden;text-align: left;background-color: #f0f8ff;}#sk-container-id-2 div.sk-toggleable__content pre {margin: 0.2em;color: black;border-radius: 0.25em;background-color: #f0f8ff;}#sk-container-id-2 input.sk-toggleable__control:checked~div.sk-toggleable__content {max-height: 200px;max-width: 100%;overflow: auto;}#sk-container-id-2 input.sk-toggleable__control:checked~label.sk-toggleable__label-arrow:before {content: \"▾\";}#sk-container-id-2 div.sk-estimator input.sk-toggleable__control:checked~label.sk-toggleable__label {background-color: #d4ebff;}#sk-container-id-2 div.sk-label input.sk-toggleable__control:checked~label.sk-toggleable__label {background-color: #d4ebff;}#sk-container-id-2 input.sk-hidden--visually {border: 0;clip: rect(1px 1px 1px 1px);clip: rect(1px, 1px, 1px, 1px);height: 1px;margin: -1px;overflow: hidden;padding: 0;position: absolute;width: 1px;}#sk-container-id-2 div.sk-estimator {font-family: monospace;background-color: #f0f8ff;border: 1px dotted black;border-radius: 0.25em;box-sizing: border-box;margin-bottom: 0.5em;}#sk-container-id-2 div.sk-estimator:hover {background-color: #d4ebff;}#sk-container-id-2 div.sk-parallel-item::after {content: \"\";width: 100%;border-bottom: 1px solid gray;flex-grow: 1;}#sk-container-id-2 div.sk-label:hover label.sk-toggleable__label {background-color: #d4ebff;}#sk-container-id-2 div.sk-serial::before {content: \"\";position: absolute;border-left: 1px solid gray;box-sizing: border-box;top: 0;bottom: 0;left: 50%;z-index: 0;}#sk-container-id-2 div.sk-serial {display: flex;flex-direction: column;align-items: center;background-color: white;padding-right: 0.2em;padding-left: 0.2em;position: relative;}#sk-container-id-2 div.sk-item {position: relative;z-index: 1;}#sk-container-id-2 div.sk-parallel {display: flex;align-items: stretch;justify-content: center;background-color: white;position: relative;}#sk-container-id-2 div.sk-item::before, #sk-container-id-2 div.sk-parallel-item::before {content: \"\";position: absolute;border-left: 1px solid gray;box-sizing: border-box;top: 0;bottom: 0;left: 50%;z-index: -1;}#sk-container-id-2 div.sk-parallel-item {display: flex;flex-direction: column;z-index: 1;position: relative;background-color: white;}#sk-container-id-2 div.sk-parallel-item:first-child::after {align-self: flex-end;width: 50%;}#sk-container-id-2 div.sk-parallel-item:last-child::after {align-self: flex-start;width: 50%;}#sk-container-id-2 div.sk-parallel-item:only-child::after {width: 0;}#sk-container-id-2 div.sk-dashed-wrapped {border: 1px dashed gray;margin: 0 0.4em 0.5em 0.4em;box-sizing: border-box;padding-bottom: 0.4em;background-color: white;}#sk-container-id-2 div.sk-label label {font-family: monospace;font-weight: bold;display: inline-block;line-height: 1.2em;}#sk-container-id-2 div.sk-label-container {text-align: center;}#sk-container-id-2 div.sk-container {/* jupyter's `normalize.less` sets `[hidden] { display: none; }` but bootstrap.min.css set `[hidden] { display: none !important; }` so we also need the `!important` here to be able to override the default hidden behavior on the sphinx rendered scikit-learn.org. See: https://github.com/scikit-learn/scikit-learn/issues/21755 */display: inline-block !important;position: relative;}#sk-container-id-2 div.sk-text-repr-fallback {display: none;}</style><div id=\"sk-container-id-2\" class=\"sk-top-container\"><div class=\"sk-text-repr-fallback\"><pre>RandomForestClassifier(random_state=42)</pre><b>In a Jupyter environment, please rerun this cell to show the HTML representation or trust the notebook. <br />On GitHub, the HTML representation is unable to render, please try loading this page with nbviewer.org.</b></div><div class=\"sk-container\" hidden><div class=\"sk-item\"><div class=\"sk-estimator sk-toggleable\"><input class=\"sk-toggleable__control sk-hidden--visually\" id=\"sk-estimator-id-2\" type=\"checkbox\" checked><label for=\"sk-estimator-id-2\" class=\"sk-toggleable__label sk-toggleable__label-arrow\">RandomForestClassifier</label><div class=\"sk-toggleable__content\"><pre>RandomForestClassifier(random_state=42)</pre></div></div></div></div></div>"
            ]
          },
          "metadata": {},
          "execution_count": 92
        }
      ]
    },
    {
      "cell_type": "code",
      "source": [
        "rf_y_pred = rf.predict(encoded_test)\n",
        "rf_y_train_pred = rf.predict(encoded)\n",
        "print(classification_report(y_test, rf_y_pred))"
      ],
      "metadata": {
        "colab": {
          "base_uri": "https://localhost:8080/"
        },
        "id": "C3ozgTIta1WX",
        "outputId": "3ccc7ff3-4814-4320-e71f-c23db254f13e"
      },
      "id": "C3ozgTIta1WX",
      "execution_count": 93,
      "outputs": [
        {
          "output_type": "stream",
          "name": "stdout",
          "text": [
            "              precision    recall  f1-score   support\n",
            "\n",
            "           0       0.90      1.00      0.94     10565\n",
            "           1       0.00      0.00      0.00      1231\n",
            "\n",
            "    accuracy                           0.90     11796\n",
            "   macro avg       0.45      0.50      0.47     11796\n",
            "weighted avg       0.80      0.90      0.85     11796\n",
            "\n"
          ]
        },
        {
          "output_type": "stream",
          "name": "stderr",
          "text": [
            "/usr/local/lib/python3.10/dist-packages/sklearn/metrics/_classification.py:1344: UndefinedMetricWarning: Precision and F-score are ill-defined and being set to 0.0 in labels with no predicted samples. Use `zero_division` parameter to control this behavior.\n",
            "  _warn_prf(average, modifier, msg_start, len(result))\n",
            "/usr/local/lib/python3.10/dist-packages/sklearn/metrics/_classification.py:1344: UndefinedMetricWarning: Precision and F-score are ill-defined and being set to 0.0 in labels with no predicted samples. Use `zero_division` parameter to control this behavior.\n",
            "  _warn_prf(average, modifier, msg_start, len(result))\n",
            "/usr/local/lib/python3.10/dist-packages/sklearn/metrics/_classification.py:1344: UndefinedMetricWarning: Precision and F-score are ill-defined and being set to 0.0 in labels with no predicted samples. Use `zero_division` parameter to control this behavior.\n",
            "  _warn_prf(average, modifier, msg_start, len(result))\n"
          ]
        }
      ]
    },
    {
      "cell_type": "code",
      "source": [
        "# calculate balanced accuracy\n",
        "from sklearn.metrics import balanced_accuracy_score\n",
        "print(f\"{balanced_accuracy_score(y_test, rf_y_pred.round()) * 100:.2f}% - Balanced accuracy Test\")\n",
        "print(f\"{balanced_accuracy_score(y_train, rf_y_train_pred.round()) * 100:.2f}% - Balanced accuracy Train\")"
      ],
      "metadata": {
        "colab": {
          "base_uri": "https://localhost:8080/"
        },
        "id": "hnjBtxXGcnnj",
        "outputId": "2193f452-4ad6-4927-84ab-53d4708084b5"
      },
      "id": "hnjBtxXGcnnj",
      "execution_count": 94,
      "outputs": [
        {
          "output_type": "stream",
          "name": "stdout",
          "text": [
            "50.00% - Balanced accuracy Test\n",
            "99.98% - Balanced accuracy Train\n"
          ]
        }
      ]
    },
    {
      "cell_type": "code",
      "source": [
        "# define labels\n",
        "labels = ['0', '1']\n",
        "\n",
        "# confusion matrix\n",
        "test_cm = confusion_matrix(y_test, rf_y_pred.round())\n",
        "train_cm = confusion_matrix(y_train, rf_y_train_pred.round())\n",
        "fig, ax = plt.subplots(figsize=(5, 4))\n",
        "sns.heatmap(test_cm, annot=True, fmt='d', cmap='Blues', xticklabels=labels, yticklabels=labels, ax=ax)\n",
        "ax.set_title('Confusion Matrix for Test Set')\n",
        "ax.set_xlabel('Predicted')\n",
        "ax.set_ylabel('Actual')"
      ],
      "metadata": {
        "colab": {
          "base_uri": "https://localhost:8080/",
          "height": 427
        },
        "id": "6XoguqCzqJ0f",
        "outputId": "8ca6f36c-a993-4fa8-ea8a-d6a1d8d29681"
      },
      "id": "6XoguqCzqJ0f",
      "execution_count": 105,
      "outputs": [
        {
          "output_type": "execute_result",
          "data": {
            "text/plain": [
              "Text(33.22222222222222, 0.5, 'Actual')"
            ]
          },
          "metadata": {},
          "execution_count": 105
        },
        {
          "output_type": "display_data",
          "data": {
            "text/plain": [
              "<Figure size 500x400 with 2 Axes>"
            ],
            "image/png": "[encoded data removed]"
          },
          "metadata": {}
        }
      ]
    },
    {
      "cell_type": "markdown",
      "source": [
        "## XGBoost"
      ],
      "metadata": {
        "id": "RxP-mSEXbYUR"
      },
      "id": "RxP-mSEXbYUR"
    },
    {
      "cell_type": "code",
      "source": [
        "import xgboost as xgb\n",
        "\n",
        "# Create and train the model\n",
        "xgb_model = xgb.XGBClassifier(objective=\"binary:logistic\", random_state=42)\n",
        "xgb_model.fit(encoded, y_train)\n",
        "\n",
        "# predict using test set\n",
        "xgb_predictions = xgb_model.predict(encoded_test)\n",
        "xgb_train_predictions = xgb_model.predict(encoded)\n",
        "\n",
        "# show classification report\n",
        "print(\"XGBoost Classification Report:\\n\")\n",
        "print(classification_report(y_test, xgb_predictions))"
      ],
      "metadata": {
        "colab": {
          "base_uri": "https://localhost:8080/"
        },
        "id": "zUxFK2TYa8iB",
        "outputId": "892c4992-27bd-4381-e52f-c728f21245f3"
      },
      "id": "zUxFK2TYa8iB",
      "execution_count": 95,
      "outputs": [
        {
          "output_type": "stream",
          "name": "stdout",
          "text": [
            "XGBoost Classification Report:\n",
            "\n",
            "              precision    recall  f1-score   support\n",
            "\n",
            "           0       0.90      1.00      0.94     10565\n",
            "           1       0.00      0.00      0.00      1231\n",
            "\n",
            "    accuracy                           0.90     11796\n",
            "   macro avg       0.45      0.50      0.47     11796\n",
            "weighted avg       0.80      0.90      0.85     11796\n",
            "\n"
          ]
        }
      ]
    },
    {
      "cell_type": "code",
      "source": [
        "# calculate balanced accuracy\n",
        "from sklearn.metrics import balanced_accuracy_score\n",
        "print(f\"{balanced_accuracy_score(y_test, xgb_predictions.round()) * 100:.2f}% - Balanced accuracy Test\")\n",
        "print(f\"{balanced_accuracy_score(y_train, xgb_train_predictions.round()) * 100:.2f}% - Balanced accuracy Train\")"
      ],
      "metadata": {
        "colab": {
          "base_uri": "https://localhost:8080/"
        },
        "id": "H67t9_n3bjcq",
        "outputId": "299a3ed4-2af8-4702-e4f6-3af5b5ffccaa"
      },
      "id": "H67t9_n3bjcq",
      "execution_count": 96,
      "outputs": [
        {
          "output_type": "stream",
          "name": "stdout",
          "text": [
            "49.99% - Balanced accuracy Test\n",
            "72.88% - Balanced accuracy Train\n"
          ]
        }
      ]
    },
    {
      "cell_type": "code",
      "source": [
        "# define labels\n",
        "labels = ['0', '1']\n",
        "\n",
        "# confusion matrix\n",
        "test_cm = confusion_matrix(y_test, xgb_predictions.round())\n",
        "train_cm = confusion_matrix(y_train, xgb_train_predictions.round())\n",
        "fig, ax = plt.subplots(figsize=(5, 4))\n",
        "sns.heatmap(test_cm, annot=True, fmt='d', cmap='Blues', xticklabels=labels, yticklabels=labels, ax=ax)\n",
        "ax.set_title('Confusion Matrix for Test Set')\n",
        "ax.set_xlabel('Predicted')\n",
        "ax.set_ylabel('Actual')"
      ],
      "metadata": {
        "colab": {
          "base_uri": "https://localhost:8080/",
          "height": 427
        },
        "id": "T7DnvBe-qUoD",
        "outputId": "2f326c36-9a0f-412d-8cda-1e13811f6e12"
      },
      "id": "T7DnvBe-qUoD",
      "execution_count": 104,
      "outputs": [
        {
          "output_type": "execute_result",
          "data": {
            "text/plain": [
              "Text(33.22222222222222, 0.5, 'Actual')"
            ]
          },
          "metadata": {},
          "execution_count": 104
        },
        {
          "output_type": "display_data",
          "data": {
            "text/plain": [
              "<Figure size 500x400 with 2 Axes>"
            ],
            "image/png": "[encoded data removed]"
          },
          "metadata": {}
        }
      ]
    },
    {
      "cell_type": "markdown",
      "source": [
        "## LightGBM"
      ],
      "metadata": {
        "id": "f0EMRPnJpqP3"
      },
      "id": "f0EMRPnJpqP3"
    },
    {
      "cell_type": "code",
      "source": [
        "import lightgbm as lgb\n",
        "\n",
        "# Create and train the model\n",
        "lgb_model = lgb.LGBMClassifier(objective=\"binary\", random_state=42)\n",
        "lgb_model.fit(encoded, y_train)\n",
        "\n",
        "# predict using test set\n",
        "lgb_predictions = lgb_model.predict(encoded_test)\n",
        "lgb_train_predictions = lgb_model.predict(encoded)\n",
        "\n",
        "# show classification report\n",
        "print(\"LightGBM Classification Report:\\n\")\n",
        "print(classification_report(y_test, lgb_predictions))"
      ],
      "metadata": {
        "colab": {
          "base_uri": "https://localhost:8080/"
        },
        "id": "EYlW1NTud1yl",
        "outputId": "61d4dede-fe3d-4207-e1c9-41a5595859a6"
      },
      "id": "EYlW1NTud1yl",
      "execution_count": 98,
      "outputs": [
        {
          "output_type": "stream",
          "name": "stdout",
          "text": [
            "[LightGBM] [Info] Number of positive: 5324, number of negative: 41856\n",
            "[LightGBM] [Warning] Auto-choosing row-wise multi-threading, the overhead of testing was 0.004282 seconds.\n",
            "You can set `force_row_wise=true` to remove the overhead.\n",
            "And if memory is not enough, you can set `force_col_wise=true`.\n",
            "[LightGBM] [Info] Total Bins 25500\n",
            "[LightGBM] [Info] Number of data points in the train set: 47180, number of used features: 100\n",
            "[LightGBM] [Info] [binary:BoostFromScore]: pavg=0.112844 -> initscore=-2.062010\n",
            "[LightGBM] [Info] Start training from score -2.062010\n",
            "LightGBM Classification Report:\n",
            "\n",
            "              precision    recall  f1-score   support\n",
            "\n",
            "           0       0.90      1.00      0.94     10565\n",
            "           1       0.00      0.00      0.00      1231\n",
            "\n",
            "    accuracy                           0.90     11796\n",
            "   macro avg       0.45      0.50      0.47     11796\n",
            "weighted avg       0.80      0.90      0.85     11796\n",
            "\n"
          ]
        }
      ]
    },
    {
      "cell_type": "code",
      "source": [
        "# calculate balanced accuracy\n",
        "from sklearn.metrics import balanced_accuracy_score\n",
        "print(f\"{balanced_accuracy_score(y_test, lgb_predictions.round()) * 100:.2f}% - Balanced accuracy Test\")\n",
        "print(f\"{balanced_accuracy_score(y_train, lgb_train_predictions.round()) * 100:.2f}% - Balanced accuracy Train\")"
      ],
      "metadata": {
        "colab": {
          "base_uri": "https://localhost:8080/"
        },
        "id": "HV5Rg3uup7ih",
        "outputId": "f5c27469-5415-499f-a8b6-f0908c9221ba"
      },
      "id": "HV5Rg3uup7ih",
      "execution_count": 99,
      "outputs": [
        {
          "output_type": "stream",
          "name": "stdout",
          "text": [
            "50.00% - Balanced accuracy Test\n",
            "53.19% - Balanced accuracy Train\n"
          ]
        }
      ]
    },
    {
      "cell_type": "code",
      "source": [
        "# define labels\n",
        "labels = ['0', '1']\n",
        "\n",
        "# confusion matrix\n",
        "test_cm = confusion_matrix(y_test, lgb_predictions.round())\n",
        "train_cm = confusion_matrix(y_train, lgb_train_predictions.round())\n",
        "fig, ax = plt.subplots(figsize=(5, 4))\n",
        "sns.heatmap(test_cm, annot=True, fmt='d', cmap='Blues', xticklabels=labels, yticklabels=labels, ax=ax)\n",
        "ax.set_title('Confusion Matrix for Test Set')\n",
        "ax.set_xlabel('Predicted')\n",
        "ax.set_ylabel('Actual')"
      ],
      "metadata": {
        "colab": {
          "base_uri": "https://localhost:8080/",
          "height": 427
        },
        "id": "8rKx_XPAp_yA",
        "outputId": "82e95590-565c-423d-8b07-f67b9c00747f"
      },
      "id": "8rKx_XPAp_yA",
      "execution_count": 103,
      "outputs": [
        {
          "output_type": "execute_result",
          "data": {
            "text/plain": [
              "Text(33.22222222222222, 0.5, 'Actual')"
            ]
          },
          "metadata": {},
          "execution_count": 103
        },
        {
          "output_type": "display_data",
          "data": {
            "text/plain": [
              "<Figure size 500x400 with 2 Axes>"
            ],
            "image/png": "[encoded data removed]"
          },
          "metadata": {}
        }
      ]
    },
    {
      "cell_type": "code",
      "source": [],
      "metadata": {
        "id": "VtX0iE7DqjNM"
      },
      "id": "VtX0iE7DqjNM",
      "execution_count": null,
      "outputs": []
    }
  ],
  "metadata": {
    "colab": {
      "provenance": [],
      "toc_visible": true,
      "machine_shape": "hm",
      "gpuType": "A100",
      "include_colab_link": true
    },
    "language_info": {
      "name": "python"
    },
    "kernelspec": {
      "name": "python3",
      "display_name": "Python 3"
    },
    "accelerator": "GPU"
  },
  "nbformat": 4,
  "nbformat_minor": 5
}