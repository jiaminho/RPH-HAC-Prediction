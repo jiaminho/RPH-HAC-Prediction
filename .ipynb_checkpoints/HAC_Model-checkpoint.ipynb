{
 "cells": [
  {
   "cell_type": "markdown",
   "id": "4f63e01a",
   "metadata": {
    "colab_type": "text",
    "id": "view-in-github"
   },
   "source": [
    "<a href=\"https://colab.research.google.com/github/jiaminho/RPH-HAC-Prediction/blob/jiamin_branch/HAC_Model.ipynb\" target=\"_parent\"><img src=\"https://colab.research.google.com/assets/colab-badge.svg\" alt=\"Open In Colab\"/></a>"
   ]
  },
  {
   "cell_type": "markdown",
   "id": "nrYbP44CHIV0",
   "metadata": {
    "id": "nrYbP44CHIV0"
   },
   "source": [
    "# Hospital Acquired Complications (HACs) Model Training and Evaluation"
   ]
  },
  {
   "cell_type": "markdown",
   "id": "E6IHVg8tHcLu",
   "metadata": {
    "id": "E6IHVg8tHcLu"
   },
   "source": [
    "Import libraries"
   ]
  },
  {
   "cell_type": "code",
   "execution_count": 1,
   "id": "hFxLDoGqHH3t",
   "metadata": {
    "id": "hFxLDoGqHH3t",
    "tags": []
   },
   "outputs": [
    {
     "name": "stderr",
     "output_type": "stream",
     "text": [
      "2023-10-03 08:07:03.211466: E tensorflow/compiler/xla/stream_executor/cuda/cuda_dnn.cc:9342] Unable to register cuDNN factory: Attempting to register factory for plugin cuDNN when one has already been registered\n",
      "2023-10-03 08:07:03.211532: E tensorflow/compiler/xla/stream_executor/cuda/cuda_fft.cc:609] Unable to register cuFFT factory: Attempting to register factory for plugin cuFFT when one has already been registered\n",
      "2023-10-03 08:07:03.213949: E tensorflow/compiler/xla/stream_executor/cuda/cuda_blas.cc:1518] Unable to register cuBLAS factory: Attempting to register factory for plugin cuBLAS when one has already been registered\n",
      "2023-10-03 08:07:03.406715: I tensorflow/core/platform/cpu_feature_guard.cc:182] This TensorFlow binary is optimized to use available CPU instructions in performance-critical operations.\n",
      "To enable the following instructions: AVX2 FMA, in other operations, rebuild TensorFlow with the appropriate compiler flags.\n"
     ]
    }
   ],
   "source": [
    "import matplotlib.pyplot as plt\n",
    "import seaborn as sns\n",
    "import pandas as pd\n",
    "import numpy as np\n",
    "import networkx as nx\n",
    "import os\n",
    "from sklearn.preprocessing import StandardScaler, OneHotEncoder\n",
    "from sklearn.model_selection import train_test_split\n",
    "from sklearn.compose import ColumnTransformer\n",
    "from sklearn.pipeline import Pipeline\n",
    "import warnings\n",
    "from keras.layers import Input, Dense\n",
    "from keras.models import Model\n",
    "import numpy as np\n",
    "import tensorflow as tf\n",
    "from tensorflow.keras.layers import Input, Dense, BatchNormalization\n",
    "from tensorflow.keras.models import Model\n",
    "from sklearn.utils.class_weight import compute_sample_weight\n",
    "from keras.models import Sequential\n",
    "from keras.layers import Dense, Dropout\n",
    "from keras.optimizers import Adam\n",
    "from sklearn.metrics import classification_report, confusion_matrix\n",
    "from sklearn.metrics import balanced_accuracy_score\n",
    "from sklearn.calibration import calibration_curve\n",
    "from sklearn.metrics import roc_curve, auc\n",
    "\n",
    "\n",
    "\n",
    "from tensorflow.keras.callbacks import EarlyStopping, ModelCheckpoint, ReduceLROnPlateau, LearningRateScheduler\n",
    "pd.set_option('display.max_columns', None)  # None ensures all columns are shown\n",
    "warnings.simplefilter(action='ignore', category=FutureWarning)"
   ]
  },
  {
   "cell_type": "markdown",
   "id": "cY4ZYAmfJPqb",
   "metadata": {
    "id": "cY4ZYAmfJPqb"
   },
   "source": [
    "Read pre-processed data \"all_encoded_df\""
   ]
  },
  {
   "cell_type": "code",
   "execution_count": null,
   "id": "Je11z70nHi-U",
   "metadata": {
    "colab": {
     "base_uri": "https://localhost:8080/"
    },
    "id": "Je11z70nHi-U",
    "outputId": "03d4f2f8-c016-46d6-ee92-28b6619738c2"
   },
   "outputs": [],
   "source": [
    "!pip install -U -q PyDrive\n",
    "from pydrive.auth import GoogleAuth\n",
    "from pydrive.drive import GoogleDrive\n",
    "from google.colab import auth\n",
    "from oauth2client.client import GoogleCredentials\n",
    "import pandas as pd\n",
    "\n",
    "# Authenticate and create the PyDrive client\n",
    "auth.authenticate_user()\n",
    "gauth = GoogleAuth()\n",
    "gauth.credentials = GoogleCredentials.get_application_default()\n",
    "drive = GoogleDrive(gauth)\n",
    "\n",
    "# Download the file\n",
    "file_id = '1-9Tp6ZMZG9zKieBTO_Sd6W-HdzXPy5OL'\n",
    "file_name = 'selected_features_500.csv'\n",
    "downloaded = drive.CreateFile({'id': file_id})\n",
    "downloaded.GetContentFile(file_name)\n",
    "\n",
    "# Read into DataFrame\n",
    "selected_features_df = pd.read_csv(file_name)\n",
    "selected_features_df.shape"
   ]
  },
  {
   "cell_type": "code",
   "execution_count": 2,
   "id": "bc09aa1a-581a-49b2-a927-d073c031a447",
   "metadata": {
    "tags": []
   },
   "outputs": [],
   "source": [
    "selected_features_df = pd.read_csv('selected_features_500.csv')"
   ]
  },
  {
   "cell_type": "code",
   "execution_count": 3,
   "id": "5747466f-1464-4c33-b61f-1288c73e2841",
   "metadata": {
    "tags": []
   },
   "outputs": [],
   "source": [
    "selected_features_df['uti'] = selected_features_df['uti'].replace({True: 1, False: 0})\n",
    "selected_features_df = selected_features_df.astype(int)"
   ]
  },
  {
   "cell_type": "code",
   "execution_count": 4,
   "id": "9u2CfKd5F7QO",
   "metadata": {
    "colab": {
     "base_uri": "https://localhost:8080/",
     "height": 330
    },
    "id": "9u2CfKd5F7QO",
    "outputId": "d50b50ea-ee7a-49c6-8b40-0777f077ae70",
    "tags": []
   },
   "outputs": [
    {
     "data": {
      "text/plain": [
       "(10000, 500)"
      ]
     },
     "execution_count": 4,
     "metadata": {},
     "output_type": "execute_result"
    }
   ],
   "source": [
    "selected_features_df.head()\n",
    "selected_features_df.shape"
   ]
  },
  {
   "cell_type": "markdown",
   "id": "ixp0_f-RLQ-3",
   "metadata": {
    "id": "ixp0_f-RLQ-3"
   },
   "source": [
    "train test split"
   ]
  },
  {
   "cell_type": "code",
   "execution_count": 5,
   "id": "qGUCL6mFJNkn",
   "metadata": {
    "id": "qGUCL6mFJNkn",
    "tags": []
   },
   "outputs": [],
   "source": [
    "X = selected_features_df.drop('uti', axis=1)\n",
    "y = selected_features_df['uti']\n",
    "\n",
    "X_temp, X_test, y_temp, y_test = train_test_split(X, y, test_size=0.2, random_state=42)\n",
    "X_train, X_val, y_train, y_val = train_test_split(X_temp, y_temp, test_size=0.2, random_state=42)"
   ]
  },
  {
   "cell_type": "code",
   "execution_count": null,
   "id": "9vRcI9mOMA0G",
   "metadata": {
    "id": "9vRcI9mOMA0G",
    "tags": []
   },
   "outputs": [],
   "source": [
    "# Scale data\n",
    "# scaler_original = StandardScaler()\n",
    "# X_train_scaled = scaler_original.fit_transform(X_train)\n",
    "# X_test_scaled = scaler_original.transform(X_test)"
   ]
  },
  {
   "cell_type": "markdown",
   "id": "qXy_TIphATZk",
   "metadata": {
    "id": "qXy_TIphATZk"
   },
   "source": [
    "train val split"
   ]
  },
  {
   "cell_type": "markdown",
   "id": "d4a407fe-775c-4874-b5e1-ea542f7b22a6",
   "metadata": {},
   "source": [
    "### DNN (Leon)"
   ]
  },
  {
   "cell_type": "code",
   "execution_count": 6,
   "id": "385faf87-3daf-4c99-8b5e-5992d3950289",
   "metadata": {
    "tags": []
   },
   "outputs": [],
   "source": [
    "# Compute sample weights\n",
    "sample_weights = compute_sample_weight(class_weight='balanced', y=y_train)\n",
    "sample_weights\n",
    "\n",
    "# Performance Scheduling\n",
    "lr_scheduler = tf.keras.callbacks.ReduceLROnPlateau(factor=0.5, patience=5)\n",
    "\n",
    "# early stopping\n",
    "early_stopping_cb = tf.keras.callbacks.EarlyStopping(monitor='val_loss', patience=10, restore_best_weights=True)  # val_loss is the defaul"
   ]
  },
  {
   "cell_type": "code",
   "execution_count": 12,
   "id": "0c4acb1e-1707-4a55-955b-6808dc1be5c5",
   "metadata": {
    "tags": []
   },
   "outputs": [
    {
     "name": "stdout",
     "output_type": "stream",
     "text": [
      "Epoch 1/10\n",
      "100/100 [==============================] - 2s 7ms/step - loss: 0.6619 - accuracy: 0.6241 - val_loss: 0.5777 - val_accuracy: 0.6869 - lr: 0.0010\n",
      "Epoch 2/10\n",
      "100/100 [==============================] - 0s 5ms/step - loss: 0.5131 - accuracy: 0.7470 - val_loss: 0.4881 - val_accuracy: 0.7738 - lr: 0.0010\n",
      "Epoch 3/10\n",
      "100/100 [==============================] - 0s 5ms/step - loss: 0.4329 - accuracy: 0.7998 - val_loss: 0.4503 - val_accuracy: 0.8000 - lr: 0.0010\n",
      "Epoch 4/10\n",
      "100/100 [==============================] - 0s 5ms/step - loss: 0.3802 - accuracy: 0.8288 - val_loss: 0.4394 - val_accuracy: 0.8012 - lr: 0.0010\n",
      "Epoch 5/10\n",
      "100/100 [==============================] - 1s 5ms/step - loss: 0.3423 - accuracy: 0.8481 - val_loss: 0.4359 - val_accuracy: 0.8081 - lr: 0.0010\n",
      "Epoch 6/10\n",
      "100/100 [==============================] - 0s 5ms/step - loss: 0.3130 - accuracy: 0.8611 - val_loss: 0.4433 - val_accuracy: 0.8044 - lr: 0.0010\n",
      "Epoch 7/10\n",
      "100/100 [==============================] - 0s 5ms/step - loss: 0.2890 - accuracy: 0.8745 - val_loss: 0.4571 - val_accuracy: 0.8025 - lr: 0.0010\n",
      "Epoch 8/10\n",
      "100/100 [==============================] - 0s 5ms/step - loss: 0.2702 - accuracy: 0.8859 - val_loss: 0.4753 - val_accuracy: 0.8031 - lr: 0.0010\n",
      "Epoch 9/10\n",
      "100/100 [==============================] - 0s 5ms/step - loss: 0.2529 - accuracy: 0.8900 - val_loss: 0.4893 - val_accuracy: 0.8050 - lr: 0.0010\n",
      "Epoch 10/10\n",
      "100/100 [==============================] - 1s 5ms/step - loss: 0.2387 - accuracy: 0.8980 - val_loss: 0.5090 - val_accuracy: 0.8037 - lr: 0.0010\n"
     ]
    }
   ],
   "source": [
    "tf.keras.backend.clear_session()\n",
    "tf.random.set_seed(42)\n",
    "\n",
    "norm_layer = tf.keras.layers.Normalization(input_shape=X_train.shape[1:])\n",
    "\n",
    "model = tf.keras.Sequential([\n",
    "    norm_layer,\n",
    "    tf.keras.layers.Dense(5, activation=\"swish\", kernel_initializer=\"he_normal\"),\n",
    "    tf.keras.layers.Dense(5, activation=\"swish\", kernel_initializer=\"he_normal\"),\n",
    "    tf.keras.layers.Dense(5, activation=\"swish\", kernel_initializer=\"he_normal\"),\n",
    "    tf.keras.layers.Dense(1, activation=\"sigmoid\")\n",
    "])\n",
    "\n",
    "norm_layer.adapt(X_train)\n",
    "\n",
    "# lr_scheduler = tf.keras.callbacks.ReduceLROnPlateau(factor=0.5, patience=5)\n",
    "optimiser = Adam(learning_rate = 0.1)\n",
    "early_stopping_cb = tf.keras.callbacks.EarlyStopping(monitor='val_loss', patience=10, restore_best_weights=True) \n",
    "\n",
    "model.compile(loss=\"binary_crossentropy\",\n",
    "              optimizer=\"Adam\",\n",
    "              metrics=[\"accuracy\"])\n",
    "\n",
    "history = model.fit(X_train, y_train, epochs=10,\n",
    "                    validation_data=(X_val, y_val),\n",
    "                    batch_size=64, sample_weight=sample_weights,\n",
    "                    callbacks=[early_stopping_cb, lr_scheduler])"
   ]
  },
  {
   "cell_type": "markdown",
   "id": "5PwmzrDkWLSL",
   "metadata": {
    "id": "5PwmzrDkWLSL"
   },
   "source": [
    "### DNN (Shiv)"
   ]
  },
  {
   "cell_type": "code",
   "execution_count": null,
   "id": "Op44Jl_UhmgO",
   "metadata": {
    "id": "Op44Jl_UhmgO",
    "tags": []
   },
   "outputs": [],
   "source": [
    "dims = 500\n",
    "\n",
    "X_train_scaled_new = X_train_scaled[:,:dims]\n",
    "X_val_new = X_val[:,:dims]\n",
    "X_test_scaled_new = X_test_scaled[:,:dims]\n",
    "\n",
    "import tensorflow as tf"
   ]
  },
  {
   "cell_type": "code",
   "execution_count": null,
   "id": "8Qjntb7AzyYk",
   "metadata": {
    "colab": {
     "base_uri": "https://localhost:8080/"
    },
    "id": "8Qjntb7AzyYk",
    "outputId": "7fec4d43-c1ef-4173-9881-2ca3467d3a53"
   },
   "outputs": [],
   "source": [
    "inp = Input(shape=[dims,])\n",
    "out = inp\n",
    "\n",
    "# Compute sample weights\n",
    "sample_weights = compute_sample_weight(class_weight='balanced', y=y_train)\n",
    "\n",
    "# Performance Scheduling\n",
    "lr_scheduler = tf.keras.callbacks.ReduceLROnPlateau(factor=0.5, patience=5)\n",
    "\n",
    "# early stopping\n",
    "early_stopping = EarlyStopping(patience=10, restore_best_weights=True)\n",
    "\n",
    "\n",
    "for ix in range(3):\n",
    "  out = Dense(64,activation='swish')(out)\n",
    "  out = Dropout(0.2)(out)\n",
    "out_encoder = Dense(64)(out)\n",
    "out = Dense(1,activation='sigmoid')(out)\n",
    "model = Model(inp,out)\n",
    "model_encoder = Model(inp,out_encoder)\n",
    "model.compile(loss='binary_crossentropy', optimizer='Adam', metrics=['accuracy'])\n",
    "history = model.fit(X_train_scaled_new, y_train, epochs=100, batch_size=64, validation_data=(X_val_new, y_val),sample_weight=sample_weights,\n",
    "                   callbacks=[early_stopping, lr_scheduler])"
   ]
  },
  {
   "cell_type": "code",
   "execution_count": null,
   "id": "EIxbBYFKIZ4b",
   "metadata": {
    "colab": {
     "base_uri": "https://localhost:8080/"
    },
    "id": "EIxbBYFKIZ4b",
    "outputId": "48513ecb-e9c2-4589-d662-90f5f481d700"
   },
   "outputs": [],
   "source": [
    "# train and test predictions\n",
    "dnn_y_test_pred = model.predict(X_test_scaled_new)\n",
    "dnn_y_train_pred = model.predict(X_train_scaled_new)\n",
    "print(classification_report(y_test, dnn_y_test_pred.round()))"
   ]
  },
  {
   "cell_type": "code",
   "execution_count": null,
   "id": "CNoYubIwIbxq",
   "metadata": {
    "colab": {
     "base_uri": "https://localhost:8080/"
    },
    "id": "CNoYubIwIbxq",
    "outputId": "94f7f7b8-57ce-4246-8103-e0a746ff90f8"
   },
   "outputs": [],
   "source": [
    "# calculate balanced accuracy\n",
    "print(f\"{balanced_accuracy_score(y_test, dnn_y_test_pred.round()) * 100:.2f}% - Balanced accuracy Test\")\n",
    "print(f\"{balanced_accuracy_score(y_train, dnn_y_train_pred.round()) * 100:.2f}% - Balanced accuracy Train\")"
   ]
  },
  {
   "cell_type": "markdown",
   "id": "L4i2vQQ4POTJ",
   "metadata": {
    "id": "L4i2vQQ4POTJ"
   },
   "source": [
    "#### UMAP and Agglomerative clustering\n",
    "\n",
    "- Use a pre-trained model encoder to transform the training and testing data (X_train_scaled_new and X_test_scaled_new).\n",
    "- Apply UMAP (Uniform Manifold Approximation and Projection) dimensionality reduction to the encoded test data.\n",
    "- Use agglomerative clustering on the encoded test data.\n",
    "- Identify clusters that contain prediction errors and summarizes these errors.\n",
    "- Visualize the data points in the 2D UMAP space, highlighting errors and true labels."
   ]
  },
  {
   "cell_type": "code",
   "execution_count": null,
   "id": "WSzNjl8aPLX6",
   "metadata": {
    "id": "WSzNjl8aPLX6"
   },
   "outputs": [],
   "source": [
    "# Installing Packages\n",
    "!pip install umap-learn\n",
    "!pip install bokeh\n",
    "!pip install bokeh holoviews colorcet scikit-image datashader"
   ]
  },
  {
   "cell_type": "code",
   "execution_count": null,
   "id": "nMEnLNPWIbz2",
   "metadata": {
    "colab": {
     "base_uri": "https://localhost:8080/"
    },
    "id": "nMEnLNPWIbz2",
    "outputId": "14fa684f-163e-4f3d-f886-aaaa2942eae6"
   },
   "outputs": [],
   "source": [
    "# Using a Pre-trained Model Encoder to Transform Data\n",
    "Xenc_train = model_encoder(X_train_scaled_new).numpy()\n",
    "Xenc_test = model_encoder(X_test_scaled_new)\n",
    "\n",
    "# Applying UMAP Dimensionality Reduction\n",
    "reducer = umap.UMAP(n_components=2, random_state=42)\n",
    "embedding = reducer.fit_transform(Xenc_test)\n",
    "\n",
    "# Model Prediction\n",
    "y_pred = model(X_test_scaled_new).numpy().round()\n",
    "\n",
    "# Fitting UMAP to Test Data\n",
    "mapper = umap.UMAP().fit(Xenc_test)\n",
    "\n",
    "# Applying Agglomerative Clustering\n",
    "cluster = AgglomerativeClustering(metric=\"cosine\", distance_threshold=0.5, n_clusters=None, linkage='average')\n",
    "cluster_test = cluster.fit_predict(Xenc_test.numpy())\n",
    "\n",
    "# Identifying Errors\n",
    "error = [cluster_test[ix] for ix in range(len(y_pred[:,0])) if (not y_pred[ix,0] == y_test.values[ix]) and  y_pred[ix,0] == 1]\n",
    "print(Counter(cluster_test).most_common(10))\n",
    "print(Counter(error).most_common(10))"
   ]
  },
  {
   "cell_type": "code",
   "execution_count": null,
   "id": "pQTm8kLDPoj8",
   "metadata": {
    "colab": {
     "base_uri": "https://localhost:8080/",
     "height": 1000
    },
    "id": "pQTm8kLDPoj8",
    "outputId": "699a9e7a-c680-47a9-fc8e-05c0cd00ef5a"
   },
   "outputs": [],
   "source": [
    "# Error and Label Lists\n",
    "errors = [0 if y_pred[ix,0] == y_test.values[ix] else 1 for ix in range(len(y_pred[:,0]))]\n",
    "labels = [y_test.values[ix] for ix in range(len(y_pred[:,0]))]\n",
    "\n",
    "# Visualization using UMAP\n",
    "umap.plot.points(mapper, labels=np.array(errors), theme='fire')\n",
    "plt.gca().set_title('UMAP Visualization Highlighting Prediction Errors')\n",
    "plt.xlabel('UMAP 1st Component')\n",
    "plt.ylabel('UMAP 2nd Component')\n",
    "plt.show()\n",
    "\n",
    "umap.plot.points(mapper, labels=np.array(labels), theme='fire')\n",
    "plt.gca().set_title('UMAP Visualization with True Labels')\n",
    "plt.xlabel('UMAP 1st Component')\n",
    "plt.ylabel('UMAP 2nd Component')\n",
    "plt.show()\n",
    "\n",
    "# # Scatter Plot for 2D UMAP Visualization\n",
    "# x_coords = embedding[:, 0]\n",
    "# y_coords = embedding[:, 1]\n",
    "# plt.scatter(x_coords, y_coords, c=labels, cmap='jet', s=15, alpha=0.6, edgecolors='w')\n",
    "# plt.xlabel('UMAP 1st component')\n",
    "# plt.ylabel('UMAP 2nd component')\n",
    "# plt.colorbar(label='Label')\n",
    "# plt.title('2D UMAP Visualization with Labels')\n",
    "# plt.show()"
   ]
  },
  {
   "cell_type": "markdown",
   "id": "QQnLNDKaWomw",
   "metadata": {
    "id": "QQnLNDKaWomw"
   },
   "source": [
    "#### SHAP Analysis"
   ]
  },
  {
   "cell_type": "code",
   "execution_count": null,
   "id": "Es54yR81O14Z",
   "metadata": {
    "colab": {
     "base_uri": "https://localhost:8080/",
     "height": 1000
    },
    "id": "Es54yR81O14Z",
    "outputId": "8c7b42dd-70f3-4145-ef86-e004ecd16db4"
   },
   "outputs": [],
   "source": [
    "# SHAP analysis\n",
    "import shap\n",
    "\n",
    "# Convert pandas DataFrame to numpy array if needed\n",
    "X_train_scaled_new_array = np.array(X_train_scaled_new)\n",
    "X_test_scaled_new_array = np.array(X_test_scaled_new)\n",
    "\n",
    "# Use a smaller random sample for background\n",
    "background_sample = X_train_scaled_new_array[np.random.choice(X_train_scaled_new_array.shape[0], 1000, replace=False)]\n",
    "\n",
    "# Initialize the explainer object\n",
    "explainer = shap.DeepExplainer(model, background_sample)\n",
    "\n",
    "# Compute the SHAP values\n",
    "shap_values = explainer.shap_values(X_test_scaled_new_array)\n",
    "\n",
    "# Summary plot to show feature importance for the entire dataset\n",
    "shap.summary_plot(shap_values, X_test_scaled_new_array)\n",
    "\n"
   ]
  },
  {
   "cell_type": "code",
   "execution_count": null,
   "id": "hsajMNUHO160",
   "metadata": {
    "id": "hsajMNUHO160"
   },
   "outputs": [],
   "source": []
  },
  {
   "cell_type": "markdown",
   "id": "frpV3R9ZNwVf",
   "metadata": {
    "id": "frpV3R9ZNwVf"
   },
   "source": [
    "## Deep Neural Network (DNN)"
   ]
  },
  {
   "cell_type": "code",
   "execution_count": null,
   "id": "iDRdGR_4NsSB",
   "metadata": {
    "colab": {
     "base_uri": "https://localhost:8080/"
    },
    "id": "iDRdGR_4NsSB",
    "outputId": "a697d0a1-5f6e-41cb-8ac6-3912613dee13"
   },
   "outputs": [],
   "source": [
    "# Adjust class weight\n",
    "# class_weight_0 = len(y_train) / (2 * np.sum(y_train == 0))\n",
    "# class_weight_1 = len(y_train) / (2 * np.sum(y_train == 1))\n",
    "# class_weights = {0: class_weight_0, 1: class_weight_1}\n",
    "\n",
    "from sklearn.utils.class_weight import compute_sample_weight\n",
    "\n",
    "# Compute sample weights\n",
    "sample_weights = compute_sample_weight(class_weight='balanced', y=y_train)\n",
    "\n",
    "# Performance Scheduling\n",
    "lr_scheduler = tf.keras.callbacks.ReduceLROnPlateau(factor=0.5, patience=5)\n",
    "\n",
    "# early stopping\n",
    "early_stopping = EarlyStopping(patience=10, restore_best_weights=True)\n",
    "\n",
    "\n",
    "model = Sequential()\n",
    "model.add(Dense(64, input_shape=(X_train_scaled.shape[1],), activation='relu'))\n",
    "model.add(Dropout(0.2))\n",
    "model.add(Dense(32, activation='relu'))\n",
    "model.add(Dropout(0.2))\n",
    "model.add(Dense(16, activation='relu'))\n",
    "model.add(Dropout(0.2))\n",
    "model.add(Dense(1, activation='sigmoid'))\n",
    "\n",
    "model.compile(loss='binary_crossentropy', optimizer='Adam', metrics=['accuracy'])\n",
    "history = model.fit(X_train_scaled, y_train, epochs=100, batch_size=64, sample_weight=sample_weights, validation_data=(X_val, y_val),\n",
    "                    callbacks=[early_stopping, lr_scheduler])"
   ]
  },
  {
   "cell_type": "code",
   "execution_count": null,
   "id": "tts8L5mrOIxB",
   "metadata": {
    "colab": {
     "base_uri": "https://localhost:8080/"
    },
    "id": "tts8L5mrOIxB",
    "outputId": "e6dce326-db97-41d1-8f23-fb6217b8e0db"
   },
   "outputs": [],
   "source": [
    "model.summary()"
   ]
  },
  {
   "cell_type": "markdown",
   "id": "Wm434JB0P52-",
   "metadata": {
    "id": "Wm434JB0P52-"
   },
   "source": [
    "Plot Learning Curves"
   ]
  },
  {
   "cell_type": "code",
   "execution_count": null,
   "id": "yZADAYKpP3WQ",
   "metadata": {
    "colab": {
     "base_uri": "https://localhost:8080/",
     "height": 407
    },
    "id": "yZADAYKpP3WQ",
    "outputId": "60e2e006-6f6f-43de-b682-b0eaee4ee0eb"
   },
   "outputs": [],
   "source": [
    "def plot_learning_curves(history):\n",
    "    # Extract the training and validation losses & accuracies\n",
    "    train_loss = history.history['loss']\n",
    "    val_loss = history.history['val_loss']\n",
    "    train_acc = history.history['accuracy']\n",
    "    val_acc = history.history['val_accuracy']\n",
    "\n",
    "    epochs = range(1, len(train_loss) + 1)\n",
    "\n",
    "    plt.figure(figsize=(12, 4))\n",
    "\n",
    "    # Plot training and validation accuracies\n",
    "    plt.subplot(1, 2, 1)\n",
    "    plt.plot(epochs, train_acc, 'r', label='Training Accuracy')\n",
    "    plt.plot(epochs, val_acc, 'b', label='Validation Accuracy')\n",
    "    plt.title('Training Accuracy')\n",
    "    plt.xlabel('Epochs')\n",
    "    plt.ylabel('Accuracy')\n",
    "    plt.legend()\n",
    "    plt.grid(True)\n",
    "\n",
    "    # Plot training and validation losses\n",
    "    plt.subplot(1, 2, 2)\n",
    "    plt.plot(epochs, train_loss, 'r', label='Training Loss')\n",
    "    plt.plot(epochs, val_loss, 'b', label='Validation Loss')\n",
    "    plt.title('Training Loss')\n",
    "    plt.xlabel('Epochs')\n",
    "    plt.ylabel('Loss')\n",
    "    plt.legend()\n",
    "    plt.grid(True)\n",
    "\n",
    "    plt.tight_layout()\n",
    "    plt.show()\n",
    "\n",
    "plot_learning_curves(history)"
   ]
  },
  {
   "cell_type": "markdown",
   "id": "mu3jIyojQGiH",
   "metadata": {
    "id": "mu3jIyojQGiH"
   },
   "source": [
    "**DNN Model Evaluation**"
   ]
  },
  {
   "cell_type": "code",
   "execution_count": null,
   "id": "zSaNWJ-UZDEM",
   "metadata": {
    "colab": {
     "base_uri": "https://localhost:8080/"
    },
    "id": "zSaNWJ-UZDEM",
    "outputId": "0b843768-2fe1-4659-e484-441de65305f1"
   },
   "outputs": [],
   "source": [
    "# train and test predictions\n",
    "dnn_y_test_pred = model.predict(X_test_scaled)\n",
    "dnn_y_train_pred = model.predict(X_train_scaled)"
   ]
  },
  {
   "cell_type": "code",
   "execution_count": null,
   "id": "wuewJwfXboj0",
   "metadata": {
    "colab": {
     "base_uri": "https://localhost:8080/"
    },
    "id": "wuewJwfXboj0",
    "outputId": "769948e7-32e0-489a-aa91-64e4f6cb85b6"
   },
   "outputs": [],
   "source": [
    "print(classification_report(y_test, dnn_y_test_pred.round()))"
   ]
  },
  {
   "cell_type": "code",
   "execution_count": null,
   "id": "KbSOv5nmVTSx",
   "metadata": {
    "colab": {
     "base_uri": "https://localhost:8080/"
    },
    "id": "KbSOv5nmVTSx",
    "outputId": "60718602-0851-4cac-dbd1-d2306df662de"
   },
   "outputs": [],
   "source": [
    "# calculate balanced accuracy\n",
    "print(f\"{balanced_accuracy_score(y_test, dnn_y_test_pred.round()) * 100:.2f}% - Balanced accuracy Test\")\n",
    "print(f\"{balanced_accuracy_score(y_train, dnn_y_train_pred.round()) * 100:.2f}% - Balanced accuracy Train\")"
   ]
  },
  {
   "cell_type": "code",
   "execution_count": null,
   "id": "TK6e8f89ZsZc",
   "metadata": {
    "colab": {
     "base_uri": "https://localhost:8080/",
     "height": 428
    },
    "id": "TK6e8f89ZsZc",
    "outputId": "705ec0b7-2add-451d-b9df-2d89f892e233"
   },
   "outputs": [],
   "source": [
    "# define labels\n",
    "labels = ['0', '1']\n",
    "\n",
    "# confusion matrix\n",
    "test_cm = confusion_matrix(y_test, dnn_y_test_pred.round())\n",
    "#train_cm = confusion_matrix(y_train, dnn_y_train_pred.round())\n",
    "fig, ax = plt.subplots(figsize=(5, 4))\n",
    "sns.heatmap(test_cm, annot=True, fmt='d', cmap='Blues', xticklabels=labels, yticklabels=labels, ax=ax)\n",
    "ax.set_title('Confusion Matrix for Test Set')\n",
    "ax.set_xlabel('Predicted')\n",
    "ax.set_ylabel('Actual')"
   ]
  },
  {
   "cell_type": "code",
   "execution_count": null,
   "id": "OWN68c9Nq-l9",
   "metadata": {
    "colab": {
     "base_uri": "https://localhost:8080/",
     "height": 487
    },
    "id": "OWN68c9Nq-l9",
    "outputId": "01f3fcbd-0397-43ba-ed63-64ce04e2b1b9"
   },
   "outputs": [],
   "source": [
    "# calibration curve\n",
    "\n",
    "prob_true, prob_pred = calibration_curve(y_test, dnn_y_test_pred, n_bins=10, strategy='uniform')\n",
    "\n",
    "plt.figure(figsize=(5, 5))\n",
    "plt.plot([0, 1], [0, 1], 'k:', label='Perfectly calibrated')\n",
    "plt.plot(prob_pred, prob_true, 's-', label='Calibration curve')\n",
    "plt.ylabel('Fraction of Positives')\n",
    "plt.xlabel('Mean Predicted Value')\n",
    "plt.legend()\n",
    "plt.title('Calibration Curve')\n",
    "plt.show()"
   ]
  },
  {
   "cell_type": "markdown",
   "id": "m01v0SzCsl8V",
   "metadata": {
    "id": "m01v0SzCsl8V"
   },
   "source": [
    "Perfectly Calibrated: In a perfectly calibrated model, the calibration curve would be a diagonal line, going from the bottom left corner to the top right corner of the plot (i.e., a 45-degree line, often labeled as \"Perfectly calibrated\"). This would mean that for items where the model predicts, say, a 70% chance, 70% of those items actually belong to the positive class.\n",
    "\n",
    "Over-confident: If the curve is below the diagonal line, the model's predicted probabilities are generally higher than the actual fraction of positives, indicating over-confidence."
   ]
  },
  {
   "cell_type": "markdown",
   "id": "uJ0hwgBGasVA",
   "metadata": {
    "id": "uJ0hwgBGasVA"
   },
   "source": [
    "## Random Forest"
   ]
  },
  {
   "cell_type": "code",
   "execution_count": null,
   "id": "bt4C8Q8iVZXM",
   "metadata": {
    "colab": {
     "base_uri": "https://localhost:8080/",
     "height": 75
    },
    "id": "bt4C8Q8iVZXM",
    "outputId": "76cebf1c-adb5-4935-ff97-62c41c742520"
   },
   "outputs": [],
   "source": [
    "from sklearn.ensemble import RandomForestClassifier\n",
    "\n",
    "rf = RandomForestClassifier(n_estimators=100, random_state=42)\n",
    "rf.fit(X_train_scaled, y_train)"
   ]
  },
  {
   "cell_type": "code",
   "execution_count": null,
   "id": "C3ozgTIta1WX",
   "metadata": {
    "colab": {
     "base_uri": "https://localhost:8080/"
    },
    "id": "C3ozgTIta1WX",
    "outputId": "2b76be64-d2ad-4bb3-e624-f99ef9dfb495"
   },
   "outputs": [],
   "source": [
    "rf_y_pred = rf.predict(X_test_scaled)\n",
    "rf_y_train_pred = rf.predict(X_train_scaled)\n",
    "print(classification_report(y_test, rf_y_pred))"
   ]
  },
  {
   "cell_type": "code",
   "execution_count": null,
   "id": "hnjBtxXGcnnj",
   "metadata": {
    "colab": {
     "base_uri": "https://localhost:8080/"
    },
    "id": "hnjBtxXGcnnj",
    "outputId": "8c38a243-1bfc-4c50-8df7-aeab67843dd3"
   },
   "outputs": [],
   "source": [
    "# calculate balanced accuracy\n",
    "from sklearn.metrics import balanced_accuracy_score\n",
    "print(f\"{balanced_accuracy_score(y_test, rf_y_pred.round()) * 100:.2f}% - Balanced accuracy Test\")\n",
    "print(f\"{balanced_accuracy_score(y_train, rf_y_train_pred.round()) * 100:.2f}% - Balanced accuracy Train\")"
   ]
  },
  {
   "cell_type": "code",
   "execution_count": null,
   "id": "6XoguqCzqJ0f",
   "metadata": {
    "colab": {
     "base_uri": "https://localhost:8080/",
     "height": 428
    },
    "id": "6XoguqCzqJ0f",
    "outputId": "8531fd8a-b098-4131-950c-d9f7b1730642"
   },
   "outputs": [],
   "source": [
    "# define labels\n",
    "labels = ['0', '1']\n",
    "\n",
    "# confusion matrix\n",
    "test_cm = confusion_matrix(y_test, rf_y_pred.round())\n",
    "train_cm = confusion_matrix(y_train, rf_y_train_pred.round())\n",
    "fig, ax = plt.subplots(figsize=(5, 4))\n",
    "sns.heatmap(test_cm, annot=True, fmt='d', cmap='Blues', xticklabels=labels, yticklabels=labels, ax=ax)\n",
    "ax.set_title('Confusion Matrix for Test Set')\n",
    "ax.set_xlabel('Predicted')\n",
    "ax.set_ylabel('Actual')"
   ]
  },
  {
   "cell_type": "code",
   "execution_count": null,
   "id": "PcM3jy5mGF09",
   "metadata": {
    "colab": {
     "base_uri": "https://localhost:8080/",
     "height": 807
    },
    "id": "PcM3jy5mGF09",
    "outputId": "ba5da0d0-273d-4338-b8a1-5d2b56e584b8"
   },
   "outputs": [],
   "source": [
    "from sklearn.tree import plot_tree\n",
    "\n",
    "# Visualizing the first decision tree\n",
    "plt.figure(figsize=(20,10))\n",
    "plot_tree(rf.estimators_[0], filled=True, max_depth=2, feature_names=X.columns)\n",
    "plt.show()"
   ]
  },
  {
   "cell_type": "code",
   "execution_count": null,
   "id": "zwRk8Co6GMq-",
   "metadata": {
    "colab": {
     "base_uri": "https://localhost:8080/",
     "height": 1000
    },
    "id": "zwRk8Co6GMq-",
    "outputId": "5eb700dd-e02a-4d4f-958a-ecae372d8003"
   },
   "outputs": [],
   "source": [
    "importances = rf.feature_importances_\n",
    "features = X.columns\n",
    "\n",
    "# Get the indices of the top 50 features\n",
    "sorted_indices = np.argsort(importances)[-50:]\n",
    "\n",
    "plt.figure(figsize=(10,18))\n",
    "plt.barh(features[sorted_indices], importances[sorted_indices])\n",
    "plt.xlabel('Importance Score')\n",
    "plt.ylabel('Features')\n",
    "plt.title('Top 50 Feature Importance Scores')\n",
    "plt.show()\n"
   ]
  },
  {
   "cell_type": "markdown",
   "id": "RxP-mSEXbYUR",
   "metadata": {
    "id": "RxP-mSEXbYUR"
   },
   "source": [
    "## XGBoost"
   ]
  },
  {
   "cell_type": "code",
   "execution_count": null,
   "id": "zUxFK2TYa8iB",
   "metadata": {
    "colab": {
     "base_uri": "https://localhost:8080/"
    },
    "id": "zUxFK2TYa8iB",
    "outputId": "3aed5370-f93a-4cf6-8096-32aaed95e416"
   },
   "outputs": [],
   "source": [
    "import xgboost as xgb\n",
    "\n",
    "# Create and train the model\n",
    "xgb_model = xgb.XGBClassifier(objective=\"binary:logistic\", random_state=42)\n",
    "xgb_model.fit(X_train_scaled, y_train)\n",
    "\n",
    "# predict using test set\n",
    "xgb_predictions = xgb_model.predict(X_test_scaled)\n",
    "xgb_train_predictions = xgb_model.predict(X_train_scaled)\n",
    "\n",
    "# show classification report\n",
    "print(\"XGBoost Classification Report:\\n\")\n",
    "print(classification_report(y_test, xgb_predictions))"
   ]
  },
  {
   "cell_type": "code",
   "execution_count": null,
   "id": "H67t9_n3bjcq",
   "metadata": {
    "colab": {
     "base_uri": "https://localhost:8080/"
    },
    "id": "H67t9_n3bjcq",
    "outputId": "be34a99e-7dc3-4d43-a63b-95d78b27afb4"
   },
   "outputs": [],
   "source": [
    "# calculate balanced accuracy\n",
    "from sklearn.metrics import balanced_accuracy_score\n",
    "print(f\"{balanced_accuracy_score(y_test, xgb_predictions.round()) * 100:.2f}% - Balanced accuracy Test\")\n",
    "print(f\"{balanced_accuracy_score(y_train, xgb_train_predictions.round()) * 100:.2f}% - Balanced accuracy Train\")"
   ]
  },
  {
   "cell_type": "code",
   "execution_count": null,
   "id": "T7DnvBe-qUoD",
   "metadata": {
    "colab": {
     "base_uri": "https://localhost:8080/",
     "height": 428
    },
    "id": "T7DnvBe-qUoD",
    "outputId": "07cf0eb6-b571-47b2-b46f-ff41b15b9b19"
   },
   "outputs": [],
   "source": [
    "# define labels\n",
    "labels = ['0', '1']\n",
    "\n",
    "# confusion matrix\n",
    "test_cm = confusion_matrix(y_test, xgb_predictions.round())\n",
    "train_cm = confusion_matrix(y_train, xgb_train_predictions.round())\n",
    "fig, ax = plt.subplots(figsize=(5, 4))\n",
    "sns.heatmap(test_cm, annot=True, fmt='d', cmap='Blues', xticklabels=labels, yticklabels=labels, ax=ax)\n",
    "ax.set_title('XGBoost Confusion Matrix for Test Set')\n",
    "ax.set_xlabel('Predicted')\n",
    "ax.set_ylabel('Actual')"
   ]
  },
  {
   "cell_type": "markdown",
   "id": "f0EMRPnJpqP3",
   "metadata": {
    "id": "f0EMRPnJpqP3"
   },
   "source": [
    "## LightGBM"
   ]
  },
  {
   "cell_type": "code",
   "execution_count": null,
   "id": "EYlW1NTud1yl",
   "metadata": {
    "colab": {
     "base_uri": "https://localhost:8080/"
    },
    "id": "EYlW1NTud1yl",
    "outputId": "04434f06-3c04-4779-a245-5b834d9e307f"
   },
   "outputs": [],
   "source": [
    "import lightgbm as lgb\n",
    "\n",
    "# Create and train the model\n",
    "lgb_model = lgb.LGBMClassifier(objective=\"binary\", random_state=42)\n",
    "lgb_model.fit(X_train_scaled, y_train)\n",
    "\n",
    "# predict using test set\n",
    "lgb_predictions = lgb_model.predict(X_test_scaled)\n",
    "lgb_train_predictions = lgb_model.predict(X_train_scaled)\n",
    "\n",
    "# show classification report\n",
    "print(\"LightGBM Classification Report:\\n\")\n",
    "print(classification_report(y_test, lgb_predictions))"
   ]
  },
  {
   "cell_type": "code",
   "execution_count": null,
   "id": "HV5Rg3uup7ih",
   "metadata": {
    "colab": {
     "base_uri": "https://localhost:8080/"
    },
    "id": "HV5Rg3uup7ih",
    "outputId": "141df3e0-de07-49ed-a7df-f8ed4060f3c5"
   },
   "outputs": [],
   "source": [
    "# calculate balanced accuracy\n",
    "from sklearn.metrics import balanced_accuracy_score\n",
    "print(f\"{balanced_accuracy_score(y_test, lgb_predictions.round()) * 100:.2f}% - Balanced accuracy Test\")\n",
    "print(f\"{balanced_accuracy_score(y_train, lgb_train_predictions.round()) * 100:.2f}% - Balanced accuracy Train\")"
   ]
  },
  {
   "cell_type": "code",
   "execution_count": null,
   "id": "8rKx_XPAp_yA",
   "metadata": {
    "colab": {
     "base_uri": "https://localhost:8080/",
     "height": 428
    },
    "id": "8rKx_XPAp_yA",
    "outputId": "fc2f5660-e90e-4da3-8d1b-f94a49889c25"
   },
   "outputs": [],
   "source": [
    "# define labels\n",
    "labels = ['0', '1']\n",
    "\n",
    "# confusion matrix\n",
    "test_cm = confusion_matrix(y_test, lgb_predictions.round())\n",
    "train_cm = confusion_matrix(y_train, lgb_train_predictions.round())\n",
    "fig, ax = plt.subplots(figsize=(5, 4))\n",
    "sns.heatmap(test_cm, annot=True, fmt='d', cmap='Blues', xticklabels=labels, yticklabels=labels, ax=ax)\n",
    "ax.set_title('Light GBM Confusion Matrix for Test Set')\n",
    "ax.set_xlabel('Predicted')\n",
    "ax.set_ylabel('Actual')"
   ]
  },
  {
   "cell_type": "markdown",
   "id": "ps8rM4U_s-Dp",
   "metadata": {
    "id": "ps8rM4U_s-Dp"
   },
   "source": [
    "## Logistic Regression"
   ]
  },
  {
   "cell_type": "code",
   "execution_count": null,
   "id": "2rGXbNdps_gt",
   "metadata": {
    "colab": {
     "base_uri": "https://localhost:8080/"
    },
    "id": "2rGXbNdps_gt",
    "outputId": "9737b90e-c36a-4cfa-94d1-bc4b4e6dbf78"
   },
   "outputs": [],
   "source": [
    "from sklearn.linear_model import LogisticRegression\n",
    "from sklearn.metrics import classification_report\n",
    "\n",
    "# Create and train the model with balanced class weights and increased iterations\n",
    "logistic_model = LogisticRegression(random_state=42, class_weight='balanced', max_iter=1000)\n",
    "logistic_model.fit(X_train_scaled, y_train)\n",
    "\n",
    "# Predict using test set\n",
    "logistic_predictions = logistic_model.predict(X_test_scaled)\n",
    "logistic_train_predictions = logistic_model.predict(X_train_scaled)\n",
    "\n",
    "# Show classification report\n",
    "print(\"Logistic Regression Classification Report:\\n\")\n",
    "print(classification_report(y_test, logistic_predictions))\n"
   ]
  },
  {
   "cell_type": "code",
   "execution_count": null,
   "id": "YcST2QV2tGqg",
   "metadata": {
    "colab": {
     "base_uri": "https://localhost:8080/"
    },
    "id": "YcST2QV2tGqg",
    "outputId": "2e426905-c39a-4013-e7e5-2093c75cf2d7"
   },
   "outputs": [],
   "source": [
    "# calculate balanced accuracy\n",
    "from sklearn.metrics import balanced_accuracy_score\n",
    "print(f\"{balanced_accuracy_score(y_test, logistic_predictions.round()) * 100:.2f}% - Balanced accuracy Test\")\n",
    "print(f\"{balanced_accuracy_score(y_train, logistic_train_predictions.round()) * 100:.2f}% - Balanced accuracy Train\")"
   ]
  },
  {
   "cell_type": "code",
   "execution_count": null,
   "id": "boQRya2etRz_",
   "metadata": {
    "colab": {
     "base_uri": "https://localhost:8080/",
     "height": 428
    },
    "id": "boQRya2etRz_",
    "outputId": "af8dd758-0647-4576-ea18-b829df4c9141"
   },
   "outputs": [],
   "source": [
    "# define labels\n",
    "labels = ['0', '1']\n",
    "\n",
    "# confusion matrix\n",
    "test_cm = confusion_matrix(y_test, logistic_predictions.round())\n",
    "train_cm = confusion_matrix(y_train, logistic_train_predictions.round())\n",
    "fig, ax = plt.subplots(figsize=(5, 4))\n",
    "sns.heatmap(test_cm, annot=True, fmt='d', cmap='Blues', xticklabels=labels, yticklabels=labels, ax=ax)\n",
    "ax.set_title('Logistic Regression Confusion Matrix for Test Set')\n",
    "ax.set_xlabel('Predicted')\n",
    "ax.set_ylabel('Actual')"
   ]
  },
  {
   "cell_type": "markdown",
   "id": "i3b1xbRb5p_u",
   "metadata": {
    "id": "i3b1xbRb5p_u"
   },
   "source": [
    "**SHAP (SHapley Additive exPlanations)**\n",
    "\n",
    "Explain the output of machine learning models and identifying feature importance by using Shapley values to fairly allocate contributions of each feature for individual predictions."
   ]
  },
  {
   "cell_type": "code",
   "execution_count": null,
   "id": "QeMvXLpO6QWP",
   "metadata": {
    "colab": {
     "base_uri": "https://localhost:8080/"
    },
    "id": "QeMvXLpO6QWP",
    "outputId": "272af8c9-9062-46d2-db25-e98666bbd574"
   },
   "outputs": [],
   "source": [
    "!pip install shap"
   ]
  },
  {
   "cell_type": "code",
   "execution_count": null,
   "id": "O9wjZ0jo9Qis",
   "metadata": {
    "id": "O9wjZ0jo9Qis"
   },
   "outputs": [],
   "source": [
    "import shap\n",
    "\n",
    "# Get feature names\n",
    "feature_names = X.columns.tolist()\n",
    "\n",
    "# # Convert training and test sets to DataFrames with those feature names\n",
    "X_train_scaled = pd.DataFrame(X_train_scaled, columns=feature_names)\n",
    "X_test_scaled = pd.DataFrame(X_test_scaled, columns=feature_names)\n",
    "\n",
    "# Initialize the explainer object with the appropriate masker\n",
    "masker = shap.maskers.Independent(data=X_train_scaled)\n",
    "explainer = shap.LinearExplainer(logistic_model, masker=masker)\n",
    "\n",
    "# Compute SHAP values for a particular set (e.g., test set)\n",
    "shap_values = explainer(X_test_scaled)\n",
    "\n",
    "# force plot for the first instance\n",
    "# shap.initjs()\n",
    "# shap.plots.force(shap_values[0])\n",
    "\n",
    "# Summary plot to show feature importance for the entire dataset\n",
    "shap.summary_plot(shap_values, X_test_scaled)"
   ]
  },
  {
   "cell_type": "code",
   "execution_count": null,
   "id": "0vUnSnVYtXUw",
   "metadata": {
    "colab": {
     "base_uri": "https://localhost:8080/",
     "height": 975
    },
    "id": "0vUnSnVYtXUw",
    "outputId": "340fe9c2-cae0-4139-c4e0-4cc8cf79e45b"
   },
   "outputs": [],
   "source": []
  },
  {
   "cell_type": "markdown",
   "id": "xSFjCVEJAv1B",
   "metadata": {
    "id": "xSFjCVEJAv1B"
   },
   "source": [
    "Red: Feature has a high value for that observation\n",
    "\n",
    "Blue: Feature has a low value for that observation\n",
    "\n",
    "Position on the x-axis: Indicates the effect of that value on the output"
   ]
  },
  {
   "cell_type": "markdown",
   "id": "ziHvCiD8900u",
   "metadata": {
    "id": "ziHvCiD8900u"
   },
   "source": [
    "## ROC Curve for all models"
   ]
  },
  {
   "cell_type": "code",
   "execution_count": null,
   "id": "G7qda2-X925_",
   "metadata": {
    "colab": {
     "base_uri": "https://localhost:8080/",
     "height": 509
    },
    "id": "G7qda2-X925_",
    "outputId": "3d44e945-7184-4d90-fc16-a9fc705acd01"
   },
   "outputs": [],
   "source": [
    "from sklearn.metrics import roc_curve, auc\n",
    "\n",
    "# For DNN\n",
    "y_pred_dnn = model.predict(X_test_scaled).ravel()\n",
    "fpr_dnn, tpr_dnn, thresholds_dnn = roc_curve(y_test, y_pred_dnn)\n",
    "roc_auc_dnn = auc(fpr_dnn, tpr_dnn)\n",
    "\n",
    "# For Random Forest\n",
    "y_pred_rf = rf.predict_proba(X_test_scaled)[:, 1]\n",
    "fpr_rf, tpr_rf, thresholds_rf = roc_curve(y_test, y_pred_rf)\n",
    "roc_auc_rf = auc(fpr_rf, tpr_rf)\n",
    "\n",
    "# For XGBoost\n",
    "y_pred_xgb = xgb_model.predict_proba(X_test_scaled)[:, 1]\n",
    "fpr_xgb, tpr_xgb, thresholds_xgb = roc_curve(y_test, y_pred_xgb)\n",
    "roc_auc_xgb = auc(fpr_xgb, tpr_xgb)\n",
    "\n",
    "# For LightGBM\n",
    "y_pred_lgb = lgb_model.predict_proba(X_test_scaled)[:, 1]\n",
    "fpr_lgb, tpr_lgb, thresholds_lgb = roc_curve(y_test, y_pred_lgb)\n",
    "roc_auc_lgb = auc(fpr_lgb, tpr_lgb)\n",
    "\n",
    "# For Logistic Regression\n",
    "y_pred_logistic = logistic_model.predict_proba(X_test_scaled)[:, 1]\n",
    "fpr_logistic, tpr_logistic, thresholds_logistic = roc_curve(y_test, y_pred_logistic)\n",
    "roc_auc_logistic = auc(fpr_logistic, tpr_logistic)\n",
    "\n",
    "# Plotting\n",
    "plt.figure()\n",
    "plt.plot(fpr_dnn, tpr_dnn, label=f'DNN (area = {roc_auc_dnn:.2f})')\n",
    "plt.plot(fpr_rf, tpr_rf, label=f'Random Forest (area = {roc_auc_rf:.2f})')\n",
    "plt.plot(fpr_xgb, tpr_xgb, label=f'XGBoost (area = {roc_auc_xgb:.2f})')\n",
    "plt.plot(fpr_lgb, tpr_lgb, label=f'LightGBM (area = {roc_auc_lgb:.2f})')\n",
    "plt.plot(fpr_logistic, tpr_logistic, label=f'Logistic Regression (area = {roc_auc_logistic:.2f})')\n",
    "\n",
    "plt.plot([0, 1], [0, 1], 'k--')\n",
    "plt.xlim([0.0, 1.0])\n",
    "plt.ylim([0.0, 1.05])\n",
    "plt.xlabel('False Positive Rate')\n",
    "plt.ylabel('True Positive Rate')\n",
    "plt.title('Receiver Operating Characteristic')\n",
    "plt.legend(loc=\"lower right\")\n",
    "plt.show()\n"
   ]
  }
 ],
 "metadata": {
  "accelerator": "GPU",
  "colab": {
   "gpuType": "T4",
   "include_colab_link": true,
   "machine_shape": "hm",
   "provenance": [],
   "toc_visible": true
  },
  "kernelspec": {
   "display_name": "Python 3 (ipykernel)",
   "language": "python",
   "name": "python3"
  },
  "language_info": {
   "codemirror_mode": {
    "name": "ipython",
    "version": 3
   },
   "file_extension": ".py",
   "mimetype": "text/x-python",
   "name": "python",
   "nbconvert_exporter": "python",
   "pygments_lexer": "ipython3",
   "version": "3.11.0rc1"
  },
  "toc-showtags": false
 },
 "nbformat": 4,
 "nbformat_minor": 5
}
