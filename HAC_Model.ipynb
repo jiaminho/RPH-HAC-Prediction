{
 "cells": [
  {
   "cell_type": "markdown",
   "id": "4f63e01a",
   "metadata": {
    "colab_type": "text",
    "id": "view-in-github"
   },
   "source": [
    "<a href=\"https://colab.research.google.com/github/jiaminho/RPH-HAC-Prediction/blob/jiamin_branch/HAC_Model.ipynb\" target=\"_parent\"><img src=\"https://colab.research.google.com/assets/colab-badge.svg\" alt=\"Open In Colab\"/></a>"
   ]
  },
  {
   "cell_type": "markdown",
   "id": "nrYbP44CHIV0",
   "metadata": {
    "id": "nrYbP44CHIV0"
   },
   "source": [
    "# Hospital Acquired Complications (HACs) Model Training and Evaluation"
   ]
  },
  {
   "cell_type": "markdown",
   "id": "E6IHVg8tHcLu",
   "metadata": {
    "id": "E6IHVg8tHcLu"
   },
   "source": [
    "Import libraries"
   ]
  },
  {
   "cell_type": "code",
   "execution_count": 1,
   "id": "hFxLDoGqHH3t",
   "metadata": {
    "id": "hFxLDoGqHH3t",
    "tags": []
   },
   "outputs": [
    {
     "name": "stdout",
     "output_type": "stream",
     "text": [
      "Using TensorFlow backend\n"
     ]
    },
    {
     "name": "stderr",
     "output_type": "stream",
     "text": [
      "2023-10-05 04:45:35.017072: E tensorflow/compiler/xla/stream_executor/cuda/cuda_dnn.cc:9342] Unable to register cuDNN factory: Attempting to register factory for plugin cuDNN when one has already been registered\n",
      "2023-10-05 04:45:35.017132: E tensorflow/compiler/xla/stream_executor/cuda/cuda_fft.cc:609] Unable to register cuFFT factory: Attempting to register factory for plugin cuFFT when one has already been registered\n",
      "2023-10-05 04:45:35.018931: E tensorflow/compiler/xla/stream_executor/cuda/cuda_blas.cc:1518] Unable to register cuBLAS factory: Attempting to register factory for plugin cuBLAS when one has already been registered\n",
      "2023-10-05 04:45:35.130143: I tensorflow/core/platform/cpu_feature_guard.cc:182] This TensorFlow binary is optimized to use available CPU instructions in performance-critical operations.\n",
      "To enable the following instructions: AVX2 FMA, in other operations, rebuild TensorFlow with the appropriate compiler flags.\n"
     ]
    }
   ],
   "source": [
    "import matplotlib.pyplot as plt\n",
    "import keras_tuner as kt\n",
    "import seaborn as sns\n",
    "import pandas as pd\n",
    "import numpy as np\n",
    "import networkx as nx\n",
    "import os\n",
    "from sklearn.preprocessing import StandardScaler, OneHotEncoder\n",
    "from sklearn.model_selection import train_test_split\n",
    "from sklearn.compose import ColumnTransformer\n",
    "from sklearn.pipeline import Pipeline\n",
    "import warnings\n",
    "from keras.layers import Input, Dense\n",
    "from keras.models import Model\n",
    "import numpy as np\n",
    "import tensorflow as tf\n",
    "from tensorflow.keras.layers import Input, Dense, BatchNormalization\n",
    "from tensorflow.keras.models import Model\n",
    "from sklearn.utils.class_weight import compute_sample_weight\n",
    "from keras.models import Sequential\n",
    "from keras.layers import Dense, Dropout\n",
    "from keras.optimizers import Adam\n",
    "from sklearn.metrics import classification_report, confusion_matrix\n",
    "from sklearn.metrics import balanced_accuracy_score\n",
    "from sklearn.calibration import calibration_curve\n",
    "from sklearn.metrics import roc_curve, auc\n",
    "from tensorflow.keras.optimizers import Adam\n",
    "\n",
    "\n",
    "\n",
    "from tensorflow.keras.callbacks import EarlyStopping, ModelCheckpoint, ReduceLROnPlateau, LearningRateScheduler\n",
    "pd.set_option('display.max_columns', None)  # None ensures all columns are shown\n",
    "warnings.simplefilter(action='ignore', category=FutureWarning)"
   ]
  },
  {
   "cell_type": "markdown",
   "id": "cY4ZYAmfJPqb",
   "metadata": {
    "id": "cY4ZYAmfJPqb"
   },
   "source": [
    "Read pre-processed data \"all_encoded_df\""
   ]
  },
  {
   "cell_type": "code",
   "execution_count": null,
   "id": "Je11z70nHi-U",
   "metadata": {
    "colab": {
     "base_uri": "https://localhost:8080/"
    },
    "id": "Je11z70nHi-U",
    "outputId": "03d4f2f8-c016-46d6-ee92-28b6619738c2"
   },
   "outputs": [],
   "source": [
    "!pip install -U -q PyDrive\n",
    "from pydrive.auth import GoogleAuth\n",
    "from pydrive.drive import GoogleDrive\n",
    "from google.colab import auth\n",
    "from oauth2client.client import GoogleCredentials\n",
    "import pandas as pd\n",
    "\n",
    "# Authenticate and create the PyDrive client\n",
    "auth.authenticate_user()\n",
    "gauth = GoogleAuth()\n",
    "gauth.credentials = GoogleCredentials.get_application_default()\n",
    "drive = GoogleDrive(gauth)\n",
    "\n",
    "# Download the file\n",
    "file_id = '1-9Tp6ZMZG9zKieBTO_Sd6W-HdzXPy5OL'\n",
    "file_name = 'selected_features_500.csv'\n",
    "downloaded = drive.CreateFile({'id': file_id})\n",
    "downloaded.GetContentFile(file_name)\n",
    "\n",
    "# Read into DataFrame\n",
    "selected_features_df = pd.read_csv(file_name)\n",
    "selected_features_df.shape"
   ]
  },
  {
   "cell_type": "code",
   "execution_count": 2,
   "id": "bc09aa1a-581a-49b2-a927-d073c031a447",
   "metadata": {
    "tags": []
   },
   "outputs": [],
   "source": [
    "selected_features_df = pd.read_csv('selected_features_150.csv')"
   ]
  },
  {
   "cell_type": "code",
   "execution_count": 3,
   "id": "5747466f-1464-4c33-b61f-1288c73e2841",
   "metadata": {
    "tags": []
   },
   "outputs": [],
   "source": [
    "selected_features_df['uti'] = selected_features_df['uti'].replace({True: 1, False: 0})\n",
    "selected_features_df = selected_features_df.astype(int)"
   ]
  },
  {
   "cell_type": "code",
   "execution_count": 4,
   "id": "9u2CfKd5F7QO",
   "metadata": {
    "colab": {
     "base_uri": "https://localhost:8080/",
     "height": 330
    },
    "id": "9u2CfKd5F7QO",
    "outputId": "d50b50ea-ee7a-49c6-8b40-0777f077ae70",
    "tags": []
   },
   "outputs": [
    {
     "data": {
      "text/plain": [
       "(10000, 151)"
      ]
     },
     "execution_count": 4,
     "metadata": {},
     "output_type": "execute_result"
    }
   ],
   "source": [
    "selected_features_df.head()\n",
    "selected_features_df.shape"
   ]
  },
  {
   "cell_type": "markdown",
   "id": "ixp0_f-RLQ-3",
   "metadata": {
    "id": "ixp0_f-RLQ-3"
   },
   "source": [
    "train test split"
   ]
  },
  {
   "cell_type": "code",
   "execution_count": 5,
   "id": "qGUCL6mFJNkn",
   "metadata": {
    "id": "qGUCL6mFJNkn",
    "tags": []
   },
   "outputs": [],
   "source": [
    "X = selected_features_df.drop('uti', axis=1)\n",
    "y = selected_features_df['uti']\n",
    "\n",
    "X_temp, X_test, y_temp, y_test = train_test_split(X, y, test_size=0.2, random_state=42)\n",
    "X_train, X_val, y_train, y_val = train_test_split(X_temp, y_temp, test_size=0.2, random_state=42)"
   ]
  },
  {
   "cell_type": "code",
   "execution_count": 6,
   "id": "9vRcI9mOMA0G",
   "metadata": {
    "id": "9vRcI9mOMA0G",
    "tags": []
   },
   "outputs": [],
   "source": [
    "from sklearn.preprocessing import StandardScaler\n",
    "\n",
    "# Scale data\n",
    "StdScaler = StandardScaler()\n",
    "X_train_scaled = StdScaler.fit_transform(X_train)\n",
    "X_val_scaled = StdScaler.transform(X_val)\n",
    "X_test_scaled = StdScaler.transform(X_test)"
   ]
  },
  {
   "cell_type": "markdown",
   "id": "qXy_TIphATZk",
   "metadata": {
    "id": "qXy_TIphATZk"
   },
   "source": [
    "train val split"
   ]
  },
  {
   "cell_type": "markdown",
   "id": "d4a407fe-775c-4874-b5e1-ea542f7b22a6",
   "metadata": {},
   "source": [
    "### DNN (Leon)"
   ]
  },
  {
   "cell_type": "code",
   "execution_count": 14,
   "id": "9bf4b661-f8dc-498d-b582-e21995931a41",
   "metadata": {
    "tags": []
   },
   "outputs": [],
   "source": [
    "from keras import backend as K\n",
    "\n",
    "# Define the balanced accuracy metric\n",
    "def balanced_accuracy(y_true, y_pred):\n",
    "    y_pred_labels = K.round(y_pred)\n",
    "    recall_pos = K.sum(K.round(K.clip(y_true * y_pred_labels, 0, 1))) / (K.sum(K.round(K.clip(y_true, 0, 1))) + K.epsilon())\n",
    "    recall_neg = K.sum(K.round(K.clip((1-y_true) * (1-y_pred_labels), 0, 1))) / (K.sum(K.round(K.clip(1-y_true, 0, 1))) + K.epsilon())\n",
    "    balanced_acc = (recall_pos + recall_neg) / 2.0\n",
    "    return balanced_acc\n",
    "\n",
    "# function that plots the \n",
    "def plot_history(history, title):\n",
    "    plt.figure(figsize=(12, 12))  # se\n",
    "\n",
    "    plt.subplot(4, 2, 1) \n",
    "    plt.plot(history.history['loss'], label='Train Loss')\n",
    "    plt.plot(history.history['val_loss'], label='Val Loss')\n",
    "    plt.xlabel(\"Epoch\")  # xlabel\n",
    "    plt.grid(True)\n",
    "    plt.title('Training & Validation Loss per Epoch')\n",
    "    plt.legend()\n",
    "\n",
    "    plt.subplot(4, 2, 2)\n",
    "    plt.plot(history.history['balanced_accuracy'], label='Train Balanced Accuracy')\n",
    "    plt.plot(history.history['val_balanced_accuracy'], label='Val Balanced Accuracy')\n",
    "    plt.title('Training & Validation Accuracy per Epoch')\n",
    "    plt.xlabel(\"Epoch\")  # xlabel\n",
    "    plt.grid(True)\n",
    "    plt.legend() \n",
    "    \n",
    "    plt.suptitle(title, fontweight='bold')\n",
    "    plt.tight_layout() \n",
    "    plt.show()"
   ]
  },
  {
   "cell_type": "code",
   "execution_count": 44,
   "id": "3a6496bd-9123-4533-8785-9c2e4319667b",
   "metadata": {
    "tags": []
   },
   "outputs": [
    {
     "name": "stdout",
     "output_type": "stream",
     "text": [
      "Epoch 1/100\n",
      "100/100 [==============================] - 2s 9ms/step - loss: 0.7351 - balanced_accuracy: 0.5687 - val_loss: 0.6270 - val_balanced_accuracy: 0.6441 - lr: 0.0010\n",
      "Epoch 2/100\n",
      "100/100 [==============================] - 1s 7ms/step - loss: 0.6427 - balanced_accuracy: 0.6293 - val_loss: 0.5687 - val_balanced_accuracy: 0.7052 - lr: 0.0010\n",
      "Epoch 3/100\n",
      "100/100 [==============================] - 1s 7ms/step - loss: 0.5960 - balanced_accuracy: 0.6795 - val_loss: 0.5261 - val_balanced_accuracy: 0.7392 - lr: 0.0010\n",
      "Epoch 4/100\n",
      "100/100 [==============================] - 1s 8ms/step - loss: 0.5543 - balanced_accuracy: 0.7276 - val_loss: 0.4978 - val_balanced_accuracy: 0.7639 - lr: 0.0010\n",
      "Epoch 5/100\n",
      "100/100 [==============================] - 1s 7ms/step - loss: 0.5217 - balanced_accuracy: 0.7487 - val_loss: 0.4812 - val_balanced_accuracy: 0.7719 - lr: 0.0010\n",
      "Epoch 6/100\n",
      "100/100 [==============================] - 1s 7ms/step - loss: 0.5104 - balanced_accuracy: 0.7603 - val_loss: 0.4686 - val_balanced_accuracy: 0.7692 - lr: 0.0010\n",
      "Epoch 7/100\n",
      "100/100 [==============================] - 1s 7ms/step - loss: 0.4896 - balanced_accuracy: 0.7703 - val_loss: 0.4621 - val_balanced_accuracy: 0.7805 - lr: 0.0010\n",
      "Epoch 8/100\n",
      "100/100 [==============================] - 1s 7ms/step - loss: 0.4783 - balanced_accuracy: 0.7759 - val_loss: 0.4638 - val_balanced_accuracy: 0.7788 - lr: 0.0010\n",
      "Epoch 9/100\n",
      "100/100 [==============================] - 1s 6ms/step - loss: 0.4714 - balanced_accuracy: 0.7863 - val_loss: 0.4548 - val_balanced_accuracy: 0.7839 - lr: 0.0010\n",
      "Epoch 10/100\n",
      "100/100 [==============================] - 1s 7ms/step - loss: 0.4661 - balanced_accuracy: 0.7920 - val_loss: 0.4553 - val_balanced_accuracy: 0.7881 - lr: 0.0010\n",
      "Epoch 11/100\n",
      "100/100 [==============================] - 1s 7ms/step - loss: 0.4624 - balanced_accuracy: 0.7861 - val_loss: 0.4560 - val_balanced_accuracy: 0.7848 - lr: 0.0010\n",
      "Epoch 12/100\n",
      "100/100 [==============================] - 1s 6ms/step - loss: 0.4567 - balanced_accuracy: 0.7950 - val_loss: 0.4535 - val_balanced_accuracy: 0.7869 - lr: 0.0010\n",
      "Epoch 13/100\n",
      "100/100 [==============================] - 1s 6ms/step - loss: 0.4511 - balanced_accuracy: 0.7973 - val_loss: 0.4525 - val_balanced_accuracy: 0.7862 - lr: 0.0010\n",
      "Epoch 14/100\n",
      "100/100 [==============================] - 1s 7ms/step - loss: 0.4458 - balanced_accuracy: 0.7967 - val_loss: 0.4577 - val_balanced_accuracy: 0.7871 - lr: 0.0010\n",
      "Epoch 15/100\n",
      "100/100 [==============================] - 1s 6ms/step - loss: 0.4432 - balanced_accuracy: 0.8023 - val_loss: 0.4566 - val_balanced_accuracy: 0.7839 - lr: 0.0010\n",
      "Epoch 16/100\n",
      "100/100 [==============================] - 1s 7ms/step - loss: 0.4380 - balanced_accuracy: 0.8076 - val_loss: 0.4517 - val_balanced_accuracy: 0.7820 - lr: 0.0010\n",
      "Epoch 17/100\n",
      "100/100 [==============================] - 1s 7ms/step - loss: 0.4355 - balanced_accuracy: 0.8056 - val_loss: 0.4545 - val_balanced_accuracy: 0.7816 - lr: 0.0010\n",
      "Epoch 18/100\n",
      "100/100 [==============================] - 1s 7ms/step - loss: 0.4351 - balanced_accuracy: 0.8031 - val_loss: 0.4535 - val_balanced_accuracy: 0.7856 - lr: 0.0010\n",
      "Epoch 19/100\n",
      "100/100 [==============================] - 1s 7ms/step - loss: 0.4292 - balanced_accuracy: 0.8131 - val_loss: 0.4575 - val_balanced_accuracy: 0.7815 - lr: 0.0010\n",
      "Epoch 20/100\n",
      "100/100 [==============================] - 1s 6ms/step - loss: 0.4231 - balanced_accuracy: 0.8097 - val_loss: 0.4622 - val_balanced_accuracy: 0.7823 - lr: 0.0010\n"
     ]
    },
    {
     "data": {
      "image/png": "[encoded data removed]",
      "text/plain": [
       "<Figure size 1200x1200 with 2 Axes>"
      ]
     },
     "metadata": {},
     "output_type": "display_data"
    }
   ],
   "source": [
    "tf.keras.backend.clear_session()\n",
    "tf.random.set_seed(42)\n",
    "\n",
    "norm_layer = tf.keras.layers.Normalization(input_shape=X_train_scaled.shape[1:])\n",
    "sample_weights = compute_sample_weight(class_weight='balanced', y=y_train)\n",
    "\n",
    "model = tf.keras.Sequential([\n",
    "    tf.keras.layers.Dense(15, activation=\"swish\", kernel_initializer=\"he_normal\"),\n",
    "    tf.keras.layers.Dropout(0.2),  # Dropout layer added here\n",
    "    tf.keras.layers.BatchNormalization(),\n",
    "    tf.keras.layers.Dense(15, activation=\"swish\", kernel_initializer=\"he_normal\"),\n",
    "    tf.keras.layers.Dropout(0.2),  # Dropout layer added here\n",
    "    tf.keras.layers.Dense(15, activation=\"swish\", kernel_initializer=\"he_normal\"),\n",
    "    tf.keras.layers.Dropout(0.2),  # Dropout layer added here\n",
    "    tf.keras.layers.Dense(1, activation=\"sigmoid\")\n",
    "])\n",
    "\n",
    "lr_scheduler = tf.keras.callbacks.ReduceLROnPlateau(factor=0.5, patience=5)\n",
    "\n",
    "early_stopping_cb = tf.keras.callbacks.EarlyStopping(monitor='val_balanced_accuracy', mode='max',\n",
    "                                                     patience=10, restore_best_weights=True) \n",
    "\n",
    "model.compile(loss=\"binary_crossentropy\",\n",
    "              optimizer=Adam(learning_rate=0.001),\n",
    "              metrics=[balanced_accuracy])\n",
    "\n",
    "history = model.fit(X_train_scaled, y_train, epochs=100,\n",
    "                    validation_data=(X_val_scaled, y_val),\n",
    "                    batch_size=64, sample_weight=sample_weights,\n",
    "                    callbacks=[early_stopping_cb, lr_scheduler])\n",
    "\n",
    "plot_history(history, 'MLP History Performance')"
   ]
  },
  {
   "cell_type": "code",
   "execution_count": 45,
   "id": "a7cd6004-181c-463b-8bc0-d3ab7a193844",
   "metadata": {
    "tags": []
   },
   "outputs": [
    {
     "name": "stdout",
     "output_type": "stream",
     "text": [
      "63/63 [==============================] - 0s 2ms/step\n",
      "200/200 [==============================] - 0s 2ms/step\n",
      "              precision    recall  f1-score   support\n",
      "\n",
      "           0       0.76      0.75      0.75       870\n",
      "           1       0.81      0.81      0.81      1130\n",
      "\n",
      "    accuracy                           0.79      2000\n",
      "   macro avg       0.78      0.78      0.78      2000\n",
      "weighted avg       0.78      0.79      0.78      2000\n",
      "\n",
      "78.08% - Balanced accuracy Test\n",
      "80.74% - Balanced accuracy Train\n"
     ]
    }
   ],
   "source": [
    "# train and test predictions\n",
    "dnn_y_test_pred = model.predict(X_test_scaled)\n",
    "dnn_y_train_pred = model.predict(X_train_scaled)\n",
    "print(classification_report(y_test, dnn_y_test_pred.round()))\n",
    "\n",
    "# calculate balanced accuracy\n",
    "print(f\"{balanced_accuracy_score(y_test, dnn_y_test_pred.round()) * 100:.2f}% - Balanced accuracy Test\")\n",
    "print(f\"{balanced_accuracy_score(y_train, dnn_y_train_pred.round()) * 100:.2f}% - Balanced accuracy Train\")"
   ]
  },
  {
   "cell_type": "code",
   "execution_count": 43,
   "id": "94deb30e-4dc3-4f8c-844d-324584bdb591",
   "metadata": {
    "tags": []
   },
   "outputs": [
    {
     "name": "stdout",
     "output_type": "stream",
     "text": [
      "[[627 243]\n",
      " [192 938]]\n"
     ]
    },
    {
     "data": {
      "image/png": "[encoded data removed]",
      "text/plain": [
       "<Figure size 500x400 with 2 Axes>"
      ]
     },
     "metadata": {},
     "output_type": "display_data"
    }
   ],
   "source": [
    "# define labels\n",
    "labels = ['0', '1']\n",
    "\n",
    "# confusion matrix\n",
    "test_cm = confusion_matrix(y_test, dnn_y_test_pred.round())\n",
    "#train_cm = confusion_matrix(y_train, dnn_y_train_pred.round())\n",
    "print(test_cm)\n",
    "fig, ax = plt.subplots(figsize=(5, 4))\n",
    "sns.heatmap(test_cm, annot=True, fmt='d', cmap='Blues', xticklabels=labels, yticklabels=labels, ax=ax)\n",
    "ax.set_title('Confusion Matrix for Test Set')\n",
    "ax.set_xlabel('Predicted')\n",
    "ax.set_ylabel('Actual')\n",
    "plt.tight_layout()\n",
    "plt.show()"
   ]
  },
  {
   "cell_type": "code",
   "execution_count": 46,
   "id": "223ab0db-badb-4ff6-9834-678a168e00db",
   "metadata": {
    "tags": []
   },
   "outputs": [
    {
     "data": {
      "image/png": "[encoded data removed]",
      "text/plain": [
       "<Figure size 500x500 with 1 Axes>"
      ]
     },
     "metadata": {},
     "output_type": "display_data"
    }
   ],
   "source": [
    "prob_true, prob_pred = calibration_curve(y_test, dnn_y_test_pred, n_bins=10, strategy='uniform')\n",
    "\n",
    "plt.figure(figsize=(5, 5))\n",
    "plt.plot([0, 1], [0, 1], 'k:', label='Perfectly calibrated')\n",
    "plt.plot(prob_pred, prob_true, 's-', label='Calibration curve')\n",
    "plt.ylabel('Fraction of Positives')\n",
    "plt.xlabel('Mean Predicted Value')\n",
    "plt.legend()\n",
    "plt.title('Calibration Curve')\n",
    "plt.show()"
   ]
  },
  {
   "cell_type": "code",
   "execution_count": 41,
   "id": "be67cdd7-d316-43a1-b26c-805711d65ae1",
   "metadata": {},
   "outputs": [],
   "source": [
    "tf.keras.backend.clear_session()\n",
    "tf.random.set_seed(42)\n",
    "\n",
    "from tensorflow.keras import backend as K\n",
    "\n",
    "def build_model(hp):\n",
    "    n_hidden = hp.Int(\"n_hidden\", min_value=2, max_value=5, step=1, default=3)  # 4 possible options\n",
    "    n_neurons = hp.Int(\"n_neurons\", min_value=5, max_value=75, step=10, default=15)  # 8 possible options\n",
    "    dropout = hp.Float(\"dropout\", min_value=0.1, max_value=0.5, step=0.1) # 5 hyperparams\n",
    "    \n",
    "    model = tf.keras.Sequential()\n",
    "    model.add(tf.keras.layers.Dense(n_neurons, activation=\"swish\", kernel_initializer=\"he_normal\", input_shape=X_train_scaled.shape[1:]))\n",
    "    \n",
    "    for _ in range(n_hidden):\n",
    "        model.add(tf.keras.layers.Dense(n_neurons, activation='swish', kernel_initializer=\"he_normal\"))\n",
    "        model.add(tf.keras.layers.Dropout(dropout))  # Dropout layer \n",
    "        \n",
    "    model.add(tf.keras.layers.Dense(1, activation=\"sigmoid\"))  # output layer\n",
    "\n",
    "    \n",
    "    model.compile(loss=\"binary_crossentropy\",\n",
    "                  optimizer=Adam(learning_rate=0.001),\n",
    "                  metrics=[balanced_accuracy])\n",
    "    return model"
   ]
  },
  {
   "cell_type": "code",
   "execution_count": 47,
   "id": "039e6bae-8a29-423b-b6a1-551e8e47ee80",
   "metadata": {
    "tags": []
   },
   "outputs": [
    {
     "name": "stdout",
     "output_type": "stream",
     "text": [
      "Trial 5 Complete [00h 00m 12s]\n",
      "val_balanced_accuracy: 0.7851131558418274\n",
      "\n",
      "Best val_balanced_accuracy So Far: 0.7939403653144836\n",
      "Total elapsed time: 00h 00m 31s\n",
      "\n",
      "Search: Running Trial #6\n",
      "\n",
      "Value             |Best Value So Far |Hyperparameter\n",
      "3                 |2                 |n_hidden\n",
      "35                |75                |n_neurons\n",
      "0.5               |0.4               |dropout\n",
      "\n",
      "Epoch 1/100\n",
      "100/100 [==============================] - 2s 9ms/step - loss: 0.9187 - balanced_accuracy: 0.5214 - val_loss: 0.6181 - val_balanced_accuracy: 0.6428 - lr: 0.0010\n",
      "Epoch 2/100\n",
      "100/100 [==============================] - 1s 7ms/step - loss: 0.7067 - balanced_accuracy: 0.5738 - val_loss: 0.5793 - val_balanced_accuracy: 0.7029 - lr: 0.0010\n",
      "Epoch 3/100\n",
      " 79/100 [======================>.......] - ETA: 0s - loss: 0.6446 - balanced_accuracy: 0.6334"
     ]
    },
    {
     "ename": "KeyboardInterrupt",
     "evalue": "",
     "output_type": "error",
     "traceback": [
      "\u001b[0;31m---------------------------------------------------------------------------\u001b[0m",
      "\u001b[0;31mKeyboardInterrupt\u001b[0m                         Traceback (most recent call last)",
      "Cell \u001b[0;32mIn[47], line 16\u001b[0m\n\u001b[1;32m      7\u001b[0m random_search_tuner \u001b[38;5;241m=\u001b[39m kt\u001b[38;5;241m.\u001b[39mRandomSearch(\n\u001b[1;32m      8\u001b[0m     build_model, \n\u001b[1;32m      9\u001b[0m     objective\u001b[38;5;241m=\u001b[39mObjective(\u001b[38;5;124m\"\u001b[39m\u001b[38;5;124mval_balanced_accuracy\u001b[39m\u001b[38;5;124m\"\u001b[39m, direction\u001b[38;5;241m=\u001b[39m\u001b[38;5;124m'\u001b[39m\u001b[38;5;124mmax\u001b[39m\u001b[38;5;124m'\u001b[39m), \n\u001b[1;32m     10\u001b[0m     max_trials\u001b[38;5;241m=\u001b[39m\u001b[38;5;241m161\u001b[39m, \n\u001b[1;32m     11\u001b[0m     overwrite\u001b[38;5;241m=\u001b[39m\u001b[38;5;28;01mFalse\u001b[39;00m,  \u001b[38;5;66;03m# overwrite=False Starts where it left from\u001b[39;00m\n\u001b[1;32m     12\u001b[0m     directory\u001b[38;5;241m=\u001b[39m\u001b[38;5;124m\"\u001b[39m\u001b[38;5;124mMLP_model1\u001b[39m\u001b[38;5;124m\"\u001b[39m, project_name\u001b[38;5;241m=\u001b[39m\u001b[38;5;124m\"\u001b[39m\u001b[38;5;124mmlp_rnd_search\u001b[39m\u001b[38;5;124m\"\u001b[39m, seed\u001b[38;5;241m=\u001b[39m\u001b[38;5;241m42\u001b[39m)\n\u001b[1;32m     14\u001b[0m sample_weights \u001b[38;5;241m=\u001b[39m compute_sample_weight(class_weight\u001b[38;5;241m=\u001b[39m\u001b[38;5;124m'\u001b[39m\u001b[38;5;124mbalanced\u001b[39m\u001b[38;5;124m'\u001b[39m, y\u001b[38;5;241m=\u001b[39my_train)\n\u001b[0;32m---> 16\u001b[0m \u001b[43mrandom_search_tuner\u001b[49m\u001b[38;5;241;43m.\u001b[39;49m\u001b[43msearch\u001b[49m\u001b[43m(\u001b[49m\u001b[43mX_train_scaled\u001b[49m\u001b[43m,\u001b[49m\u001b[43m \u001b[49m\u001b[43my_train\u001b[49m\u001b[43m,\u001b[49m\u001b[43m \u001b[49m\u001b[43mepochs\u001b[49m\u001b[38;5;241;43m=\u001b[39;49m\u001b[38;5;241;43m100\u001b[39;49m\u001b[43m,\u001b[49m\u001b[43m \u001b[49m\n\u001b[1;32m     17\u001b[0m \u001b[43m                           \u001b[49m\u001b[43mbatch_size\u001b[49m\u001b[38;5;241;43m=\u001b[39;49m\u001b[38;5;241;43m64\u001b[39;49m\u001b[43m,\u001b[49m\u001b[43m \u001b[49m\u001b[43mvalidation_data\u001b[49m\u001b[38;5;241;43m=\u001b[39;49m\u001b[43m(\u001b[49m\u001b[43mX_val_scaled\u001b[49m\u001b[43m,\u001b[49m\u001b[43m \u001b[49m\u001b[43my_val\u001b[49m\u001b[43m)\u001b[49m\u001b[43m,\u001b[49m\n\u001b[1;32m     18\u001b[0m \u001b[43m                           \u001b[49m\u001b[43mcallbacks\u001b[49m\u001b[38;5;241;43m=\u001b[39;49m\u001b[43m[\u001b[49m\u001b[43mearly_stopping_cb\u001b[49m\u001b[43m,\u001b[49m\u001b[43m \u001b[49m\u001b[43mlr_scheduler\u001b[49m\u001b[43m]\u001b[49m\u001b[43m,\u001b[49m\n\u001b[1;32m     19\u001b[0m \u001b[43m                           \u001b[49m\u001b[43msample_weight\u001b[49m\u001b[38;5;241;43m=\u001b[39;49m\u001b[43msample_weights\u001b[49m\u001b[43m)\u001b[49m\n",
      "File \u001b[0;32m/usr/local/lib/python3.11/dist-packages/keras_tuner/src/engine/base_tuner.py:230\u001b[0m, in \u001b[0;36mBaseTuner.search\u001b[0;34m(self, *fit_args, **fit_kwargs)\u001b[0m\n\u001b[1;32m    227\u001b[0m         \u001b[38;5;28;01mcontinue\u001b[39;00m\n\u001b[1;32m    229\u001b[0m     \u001b[38;5;28mself\u001b[39m\u001b[38;5;241m.\u001b[39mon_trial_begin(trial)\n\u001b[0;32m--> 230\u001b[0m     \u001b[38;5;28;43mself\u001b[39;49m\u001b[38;5;241;43m.\u001b[39;49m\u001b[43m_try_run_and_update_trial\u001b[49m\u001b[43m(\u001b[49m\u001b[43mtrial\u001b[49m\u001b[43m,\u001b[49m\u001b[43m \u001b[49m\u001b[38;5;241;43m*\u001b[39;49m\u001b[43mfit_args\u001b[49m\u001b[43m,\u001b[49m\u001b[43m \u001b[49m\u001b[38;5;241;43m*\u001b[39;49m\u001b[38;5;241;43m*\u001b[39;49m\u001b[43mfit_kwargs\u001b[49m\u001b[43m)\u001b[49m\n\u001b[1;32m    231\u001b[0m     \u001b[38;5;28mself\u001b[39m\u001b[38;5;241m.\u001b[39mon_trial_end(trial)\n\u001b[1;32m    232\u001b[0m \u001b[38;5;28mself\u001b[39m\u001b[38;5;241m.\u001b[39mon_search_end()\n",
      "File \u001b[0;32m/usr/local/lib/python3.11/dist-packages/keras_tuner/src/engine/base_tuner.py:270\u001b[0m, in \u001b[0;36mBaseTuner._try_run_and_update_trial\u001b[0;34m(self, trial, *fit_args, **fit_kwargs)\u001b[0m\n\u001b[1;32m    268\u001b[0m \u001b[38;5;28;01mdef\u001b[39;00m \u001b[38;5;21m_try_run_and_update_trial\u001b[39m(\u001b[38;5;28mself\u001b[39m, trial, \u001b[38;5;241m*\u001b[39mfit_args, \u001b[38;5;241m*\u001b[39m\u001b[38;5;241m*\u001b[39mfit_kwargs):\n\u001b[1;32m    269\u001b[0m     \u001b[38;5;28;01mtry\u001b[39;00m:\n\u001b[0;32m--> 270\u001b[0m         \u001b[38;5;28;43mself\u001b[39;49m\u001b[38;5;241;43m.\u001b[39;49m\u001b[43m_run_and_update_trial\u001b[49m\u001b[43m(\u001b[49m\u001b[43mtrial\u001b[49m\u001b[43m,\u001b[49m\u001b[43m \u001b[49m\u001b[38;5;241;43m*\u001b[39;49m\u001b[43mfit_args\u001b[49m\u001b[43m,\u001b[49m\u001b[43m \u001b[49m\u001b[38;5;241;43m*\u001b[39;49m\u001b[38;5;241;43m*\u001b[39;49m\u001b[43mfit_kwargs\u001b[49m\u001b[43m)\u001b[49m\n\u001b[1;32m    271\u001b[0m         trial\u001b[38;5;241m.\u001b[39mstatus \u001b[38;5;241m=\u001b[39m trial_module\u001b[38;5;241m.\u001b[39mTrialStatus\u001b[38;5;241m.\u001b[39mCOMPLETED\n\u001b[1;32m    272\u001b[0m         \u001b[38;5;28;01mreturn\u001b[39;00m\n",
      "File \u001b[0;32m/usr/local/lib/python3.11/dist-packages/keras_tuner/src/engine/base_tuner.py:235\u001b[0m, in \u001b[0;36mBaseTuner._run_and_update_trial\u001b[0;34m(self, trial, *fit_args, **fit_kwargs)\u001b[0m\n\u001b[1;32m    234\u001b[0m \u001b[38;5;28;01mdef\u001b[39;00m \u001b[38;5;21m_run_and_update_trial\u001b[39m(\u001b[38;5;28mself\u001b[39m, trial, \u001b[38;5;241m*\u001b[39mfit_args, \u001b[38;5;241m*\u001b[39m\u001b[38;5;241m*\u001b[39mfit_kwargs):\n\u001b[0;32m--> 235\u001b[0m     results \u001b[38;5;241m=\u001b[39m \u001b[38;5;28;43mself\u001b[39;49m\u001b[38;5;241;43m.\u001b[39;49m\u001b[43mrun_trial\u001b[49m\u001b[43m(\u001b[49m\u001b[43mtrial\u001b[49m\u001b[43m,\u001b[49m\u001b[43m \u001b[49m\u001b[38;5;241;43m*\u001b[39;49m\u001b[43mfit_args\u001b[49m\u001b[43m,\u001b[49m\u001b[43m \u001b[49m\u001b[38;5;241;43m*\u001b[39;49m\u001b[38;5;241;43m*\u001b[39;49m\u001b[43mfit_kwargs\u001b[49m\u001b[43m)\u001b[49m\n\u001b[1;32m    236\u001b[0m     \u001b[38;5;28;01mif\u001b[39;00m \u001b[38;5;28mself\u001b[39m\u001b[38;5;241m.\u001b[39moracle\u001b[38;5;241m.\u001b[39mget_trial(trial\u001b[38;5;241m.\u001b[39mtrial_id)\u001b[38;5;241m.\u001b[39mmetrics\u001b[38;5;241m.\u001b[39mexists(\n\u001b[1;32m    237\u001b[0m         \u001b[38;5;28mself\u001b[39m\u001b[38;5;241m.\u001b[39moracle\u001b[38;5;241m.\u001b[39mobjective\u001b[38;5;241m.\u001b[39mname\n\u001b[1;32m    238\u001b[0m     ):\n\u001b[1;32m    239\u001b[0m         \u001b[38;5;66;03m# The oracle is updated by calling `self.oracle.update_trial()` in\u001b[39;00m\n\u001b[1;32m    240\u001b[0m         \u001b[38;5;66;03m# `Tuner.run_trial()`. For backward compatibility, we support this\u001b[39;00m\n\u001b[1;32m    241\u001b[0m         \u001b[38;5;66;03m# use case. No further action needed in this case.\u001b[39;00m\n\u001b[1;32m    242\u001b[0m         warnings\u001b[38;5;241m.\u001b[39mwarn(\n\u001b[1;32m    243\u001b[0m             \u001b[38;5;124m\"\u001b[39m\u001b[38;5;124mThe use case of calling \u001b[39m\u001b[38;5;124m\"\u001b[39m\n\u001b[1;32m    244\u001b[0m             \u001b[38;5;124m\"\u001b[39m\u001b[38;5;124m`self.oracle.update_trial(trial_id, metrics)` \u001b[39m\u001b[38;5;124m\"\u001b[39m\n\u001b[0;32m   (...)\u001b[0m\n\u001b[1;32m    250\u001b[0m             stacklevel\u001b[38;5;241m=\u001b[39m\u001b[38;5;241m2\u001b[39m,\n\u001b[1;32m    251\u001b[0m         )\n",
      "File \u001b[0;32m/usr/local/lib/python3.11/dist-packages/keras_tuner/src/engine/tuner.py:307\u001b[0m, in \u001b[0;36mTuner.run_trial\u001b[0;34m(self, trial, *args, **kwargs)\u001b[0m\n\u001b[1;32m    305\u001b[0m     callbacks\u001b[38;5;241m.\u001b[39mappend(model_checkpoint)\n\u001b[1;32m    306\u001b[0m     copied_kwargs[\u001b[38;5;124m\"\u001b[39m\u001b[38;5;124mcallbacks\u001b[39m\u001b[38;5;124m\"\u001b[39m] \u001b[38;5;241m=\u001b[39m callbacks\n\u001b[0;32m--> 307\u001b[0m     obj_value \u001b[38;5;241m=\u001b[39m \u001b[38;5;28;43mself\u001b[39;49m\u001b[38;5;241;43m.\u001b[39;49m\u001b[43m_build_and_fit_model\u001b[49m\u001b[43m(\u001b[49m\u001b[43mtrial\u001b[49m\u001b[43m,\u001b[49m\u001b[43m \u001b[49m\u001b[38;5;241;43m*\u001b[39;49m\u001b[43margs\u001b[49m\u001b[43m,\u001b[49m\u001b[43m \u001b[49m\u001b[38;5;241;43m*\u001b[39;49m\u001b[38;5;241;43m*\u001b[39;49m\u001b[43mcopied_kwargs\u001b[49m\u001b[43m)\u001b[49m\n\u001b[1;32m    309\u001b[0m     histories\u001b[38;5;241m.\u001b[39mappend(obj_value)\n\u001b[1;32m    310\u001b[0m \u001b[38;5;28;01mreturn\u001b[39;00m histories\n",
      "File \u001b[0;32m/usr/local/lib/python3.11/dist-packages/keras_tuner/src/engine/tuner.py:227\u001b[0m, in \u001b[0;36mTuner._build_and_fit_model\u001b[0;34m(self, trial, *args, **kwargs)\u001b[0m\n\u001b[1;32m    225\u001b[0m hp \u001b[38;5;241m=\u001b[39m trial\u001b[38;5;241m.\u001b[39mhyperparameters\n\u001b[1;32m    226\u001b[0m model \u001b[38;5;241m=\u001b[39m \u001b[38;5;28mself\u001b[39m\u001b[38;5;241m.\u001b[39m_try_build(hp)\n\u001b[0;32m--> 227\u001b[0m results \u001b[38;5;241m=\u001b[39m \u001b[38;5;28;43mself\u001b[39;49m\u001b[38;5;241;43m.\u001b[39;49m\u001b[43mhypermodel\u001b[49m\u001b[38;5;241;43m.\u001b[39;49m\u001b[43mfit\u001b[49m\u001b[43m(\u001b[49m\u001b[43mhp\u001b[49m\u001b[43m,\u001b[49m\u001b[43m \u001b[49m\u001b[43mmodel\u001b[49m\u001b[43m,\u001b[49m\u001b[43m \u001b[49m\u001b[38;5;241;43m*\u001b[39;49m\u001b[43margs\u001b[49m\u001b[43m,\u001b[49m\u001b[43m \u001b[49m\u001b[38;5;241;43m*\u001b[39;49m\u001b[38;5;241;43m*\u001b[39;49m\u001b[43mkwargs\u001b[49m\u001b[43m)\u001b[49m\n\u001b[1;32m    229\u001b[0m \u001b[38;5;66;03m# Save the build config for model loading later.\u001b[39;00m\n\u001b[1;32m    230\u001b[0m utils\u001b[38;5;241m.\u001b[39msave_json(\n\u001b[1;32m    231\u001b[0m     \u001b[38;5;28mself\u001b[39m\u001b[38;5;241m.\u001b[39m_get_build_config_fname(trial\u001b[38;5;241m.\u001b[39mtrial_id),\n\u001b[1;32m    232\u001b[0m     model\u001b[38;5;241m.\u001b[39mget_build_config(),\n\u001b[1;32m    233\u001b[0m )\n",
      "File \u001b[0;32m/usr/local/lib/python3.11/dist-packages/keras_tuner/src/engine/hypermodel.py:144\u001b[0m, in \u001b[0;36mHyperModel.fit\u001b[0;34m(self, hp, model, *args, **kwargs)\u001b[0m\n\u001b[1;32m    120\u001b[0m \u001b[38;5;28;01mdef\u001b[39;00m \u001b[38;5;21mfit\u001b[39m(\u001b[38;5;28mself\u001b[39m, hp, model, \u001b[38;5;241m*\u001b[39margs, \u001b[38;5;241m*\u001b[39m\u001b[38;5;241m*\u001b[39mkwargs):\n\u001b[1;32m    121\u001b[0m \u001b[38;5;250m    \u001b[39m\u001b[38;5;124;03m\"\"\"Train the model.\u001b[39;00m\n\u001b[1;32m    122\u001b[0m \n\u001b[1;32m    123\u001b[0m \u001b[38;5;124;03m    Args:\u001b[39;00m\n\u001b[0;32m   (...)\u001b[0m\n\u001b[1;32m    142\u001b[0m \u001b[38;5;124;03m        If return a float, it should be the `objective` value.\u001b[39;00m\n\u001b[1;32m    143\u001b[0m \u001b[38;5;124;03m    \"\"\"\u001b[39;00m\n\u001b[0;32m--> 144\u001b[0m     \u001b[38;5;28;01mreturn\u001b[39;00m \u001b[43mmodel\u001b[49m\u001b[38;5;241;43m.\u001b[39;49m\u001b[43mfit\u001b[49m\u001b[43m(\u001b[49m\u001b[38;5;241;43m*\u001b[39;49m\u001b[43margs\u001b[49m\u001b[43m,\u001b[49m\u001b[43m \u001b[49m\u001b[38;5;241;43m*\u001b[39;49m\u001b[38;5;241;43m*\u001b[39;49m\u001b[43mkwargs\u001b[49m\u001b[43m)\u001b[49m\n",
      "File \u001b[0;32m/usr/local/lib/python3.11/dist-packages/keras/src/utils/traceback_utils.py:65\u001b[0m, in \u001b[0;36mfilter_traceback.<locals>.error_handler\u001b[0;34m(*args, **kwargs)\u001b[0m\n\u001b[1;32m     63\u001b[0m filtered_tb \u001b[38;5;241m=\u001b[39m \u001b[38;5;28;01mNone\u001b[39;00m\n\u001b[1;32m     64\u001b[0m \u001b[38;5;28;01mtry\u001b[39;00m:\n\u001b[0;32m---> 65\u001b[0m     \u001b[38;5;28;01mreturn\u001b[39;00m \u001b[43mfn\u001b[49m\u001b[43m(\u001b[49m\u001b[38;5;241;43m*\u001b[39;49m\u001b[43margs\u001b[49m\u001b[43m,\u001b[49m\u001b[43m \u001b[49m\u001b[38;5;241;43m*\u001b[39;49m\u001b[38;5;241;43m*\u001b[39;49m\u001b[43mkwargs\u001b[49m\u001b[43m)\u001b[49m\n\u001b[1;32m     66\u001b[0m \u001b[38;5;28;01mexcept\u001b[39;00m \u001b[38;5;167;01mException\u001b[39;00m \u001b[38;5;28;01mas\u001b[39;00m e:\n\u001b[1;32m     67\u001b[0m     filtered_tb \u001b[38;5;241m=\u001b[39m _process_traceback_frames(e\u001b[38;5;241m.\u001b[39m__traceback__)\n",
      "File \u001b[0;32m/usr/local/lib/python3.11/dist-packages/keras/src/engine/training.py:1783\u001b[0m, in \u001b[0;36mModel.fit\u001b[0;34m(self, x, y, batch_size, epochs, verbose, callbacks, validation_split, validation_data, shuffle, class_weight, sample_weight, initial_epoch, steps_per_epoch, validation_steps, validation_batch_size, validation_freq, max_queue_size, workers, use_multiprocessing)\u001b[0m\n\u001b[1;32m   1775\u001b[0m \u001b[38;5;28;01mwith\u001b[39;00m tf\u001b[38;5;241m.\u001b[39mprofiler\u001b[38;5;241m.\u001b[39mexperimental\u001b[38;5;241m.\u001b[39mTrace(\n\u001b[1;32m   1776\u001b[0m     \u001b[38;5;124m\"\u001b[39m\u001b[38;5;124mtrain\u001b[39m\u001b[38;5;124m\"\u001b[39m,\n\u001b[1;32m   1777\u001b[0m     epoch_num\u001b[38;5;241m=\u001b[39mepoch,\n\u001b[0;32m   (...)\u001b[0m\n\u001b[1;32m   1780\u001b[0m     _r\u001b[38;5;241m=\u001b[39m\u001b[38;5;241m1\u001b[39m,\n\u001b[1;32m   1781\u001b[0m ):\n\u001b[1;32m   1782\u001b[0m     callbacks\u001b[38;5;241m.\u001b[39mon_train_batch_begin(step)\n\u001b[0;32m-> 1783\u001b[0m     tmp_logs \u001b[38;5;241m=\u001b[39m \u001b[38;5;28;43mself\u001b[39;49m\u001b[38;5;241;43m.\u001b[39;49m\u001b[43mtrain_function\u001b[49m\u001b[43m(\u001b[49m\u001b[43miterator\u001b[49m\u001b[43m)\u001b[49m\n\u001b[1;32m   1784\u001b[0m     \u001b[38;5;28;01mif\u001b[39;00m data_handler\u001b[38;5;241m.\u001b[39mshould_sync:\n\u001b[1;32m   1785\u001b[0m         context\u001b[38;5;241m.\u001b[39masync_wait()\n",
      "File \u001b[0;32m/usr/local/lib/python3.11/dist-packages/tensorflow/python/util/traceback_utils.py:150\u001b[0m, in \u001b[0;36mfilter_traceback.<locals>.error_handler\u001b[0;34m(*args, **kwargs)\u001b[0m\n\u001b[1;32m    148\u001b[0m filtered_tb \u001b[38;5;241m=\u001b[39m \u001b[38;5;28;01mNone\u001b[39;00m\n\u001b[1;32m    149\u001b[0m \u001b[38;5;28;01mtry\u001b[39;00m:\n\u001b[0;32m--> 150\u001b[0m   \u001b[38;5;28;01mreturn\u001b[39;00m \u001b[43mfn\u001b[49m\u001b[43m(\u001b[49m\u001b[38;5;241;43m*\u001b[39;49m\u001b[43margs\u001b[49m\u001b[43m,\u001b[49m\u001b[43m \u001b[49m\u001b[38;5;241;43m*\u001b[39;49m\u001b[38;5;241;43m*\u001b[39;49m\u001b[43mkwargs\u001b[49m\u001b[43m)\u001b[49m\n\u001b[1;32m    151\u001b[0m \u001b[38;5;28;01mexcept\u001b[39;00m \u001b[38;5;167;01mException\u001b[39;00m \u001b[38;5;28;01mas\u001b[39;00m e:\n\u001b[1;32m    152\u001b[0m   filtered_tb \u001b[38;5;241m=\u001b[39m _process_traceback_frames(e\u001b[38;5;241m.\u001b[39m__traceback__)\n",
      "File \u001b[0;32m/usr/local/lib/python3.11/dist-packages/tensorflow/python/eager/polymorphic_function/polymorphic_function.py:831\u001b[0m, in \u001b[0;36mFunction.__call__\u001b[0;34m(self, *args, **kwds)\u001b[0m\n\u001b[1;32m    828\u001b[0m compiler \u001b[38;5;241m=\u001b[39m \u001b[38;5;124m\"\u001b[39m\u001b[38;5;124mxla\u001b[39m\u001b[38;5;124m\"\u001b[39m \u001b[38;5;28;01mif\u001b[39;00m \u001b[38;5;28mself\u001b[39m\u001b[38;5;241m.\u001b[39m_jit_compile \u001b[38;5;28;01melse\u001b[39;00m \u001b[38;5;124m\"\u001b[39m\u001b[38;5;124mnonXla\u001b[39m\u001b[38;5;124m\"\u001b[39m\n\u001b[1;32m    830\u001b[0m \u001b[38;5;28;01mwith\u001b[39;00m OptionalXlaContext(\u001b[38;5;28mself\u001b[39m\u001b[38;5;241m.\u001b[39m_jit_compile):\n\u001b[0;32m--> 831\u001b[0m   result \u001b[38;5;241m=\u001b[39m \u001b[38;5;28;43mself\u001b[39;49m\u001b[38;5;241;43m.\u001b[39;49m\u001b[43m_call\u001b[49m\u001b[43m(\u001b[49m\u001b[38;5;241;43m*\u001b[39;49m\u001b[43margs\u001b[49m\u001b[43m,\u001b[49m\u001b[43m \u001b[49m\u001b[38;5;241;43m*\u001b[39;49m\u001b[38;5;241;43m*\u001b[39;49m\u001b[43mkwds\u001b[49m\u001b[43m)\u001b[49m\n\u001b[1;32m    833\u001b[0m new_tracing_count \u001b[38;5;241m=\u001b[39m \u001b[38;5;28mself\u001b[39m\u001b[38;5;241m.\u001b[39mexperimental_get_tracing_count()\n\u001b[1;32m    834\u001b[0m without_tracing \u001b[38;5;241m=\u001b[39m (tracing_count \u001b[38;5;241m==\u001b[39m new_tracing_count)\n",
      "File \u001b[0;32m/usr/local/lib/python3.11/dist-packages/tensorflow/python/eager/polymorphic_function/polymorphic_function.py:867\u001b[0m, in \u001b[0;36mFunction._call\u001b[0;34m(self, *args, **kwds)\u001b[0m\n\u001b[1;32m    864\u001b[0m   \u001b[38;5;28mself\u001b[39m\u001b[38;5;241m.\u001b[39m_lock\u001b[38;5;241m.\u001b[39mrelease()\n\u001b[1;32m    865\u001b[0m   \u001b[38;5;66;03m# In this case we have created variables on the first call, so we run the\u001b[39;00m\n\u001b[1;32m    866\u001b[0m   \u001b[38;5;66;03m# defunned version which is guaranteed to never create variables.\u001b[39;00m\n\u001b[0;32m--> 867\u001b[0m   \u001b[38;5;28;01mreturn\u001b[39;00m \u001b[43mtracing_compilation\u001b[49m\u001b[38;5;241;43m.\u001b[39;49m\u001b[43mcall_function\u001b[49m\u001b[43m(\u001b[49m\n\u001b[1;32m    868\u001b[0m \u001b[43m      \u001b[49m\u001b[43margs\u001b[49m\u001b[43m,\u001b[49m\u001b[43m \u001b[49m\u001b[43mkwds\u001b[49m\u001b[43m,\u001b[49m\u001b[43m \u001b[49m\u001b[38;5;28;43mself\u001b[39;49m\u001b[38;5;241;43m.\u001b[39;49m\u001b[43m_no_variable_creation_config\u001b[49m\n\u001b[1;32m    869\u001b[0m \u001b[43m  \u001b[49m\u001b[43m)\u001b[49m\n\u001b[1;32m    870\u001b[0m \u001b[38;5;28;01melif\u001b[39;00m \u001b[38;5;28mself\u001b[39m\u001b[38;5;241m.\u001b[39m_variable_creation_config \u001b[38;5;129;01mis\u001b[39;00m \u001b[38;5;129;01mnot\u001b[39;00m \u001b[38;5;28;01mNone\u001b[39;00m:\n\u001b[1;32m    871\u001b[0m   \u001b[38;5;66;03m# Release the lock early so that multiple threads can perform the call\u001b[39;00m\n\u001b[1;32m    872\u001b[0m   \u001b[38;5;66;03m# in parallel.\u001b[39;00m\n\u001b[1;32m    873\u001b[0m   \u001b[38;5;28mself\u001b[39m\u001b[38;5;241m.\u001b[39m_lock\u001b[38;5;241m.\u001b[39mrelease()\n",
      "File \u001b[0;32m/usr/local/lib/python3.11/dist-packages/tensorflow/python/eager/polymorphic_function/tracing_compilation.py:139\u001b[0m, in \u001b[0;36mcall_function\u001b[0;34m(args, kwargs, tracing_options)\u001b[0m\n\u001b[1;32m    137\u001b[0m bound_args \u001b[38;5;241m=\u001b[39m function\u001b[38;5;241m.\u001b[39mfunction_type\u001b[38;5;241m.\u001b[39mbind(\u001b[38;5;241m*\u001b[39margs, \u001b[38;5;241m*\u001b[39m\u001b[38;5;241m*\u001b[39mkwargs)\n\u001b[1;32m    138\u001b[0m flat_inputs \u001b[38;5;241m=\u001b[39m function\u001b[38;5;241m.\u001b[39mfunction_type\u001b[38;5;241m.\u001b[39munpack_inputs(bound_args)\n\u001b[0;32m--> 139\u001b[0m \u001b[38;5;28;01mreturn\u001b[39;00m \u001b[43mfunction\u001b[49m\u001b[38;5;241;43m.\u001b[39;49m\u001b[43m_call_flat\u001b[49m\u001b[43m(\u001b[49m\u001b[43m  \u001b[49m\u001b[38;5;66;43;03m# pylint: disable=protected-access\u001b[39;49;00m\n\u001b[1;32m    140\u001b[0m \u001b[43m    \u001b[49m\u001b[43mflat_inputs\u001b[49m\u001b[43m,\u001b[49m\u001b[43m \u001b[49m\u001b[43mcaptured_inputs\u001b[49m\u001b[38;5;241;43m=\u001b[39;49m\u001b[43mfunction\u001b[49m\u001b[38;5;241;43m.\u001b[39;49m\u001b[43mcaptured_inputs\u001b[49m\n\u001b[1;32m    141\u001b[0m \u001b[43m\u001b[49m\u001b[43m)\u001b[49m\n",
      "File \u001b[0;32m/usr/local/lib/python3.11/dist-packages/tensorflow/python/eager/polymorphic_function/concrete_function.py:1264\u001b[0m, in \u001b[0;36mConcreteFunction._call_flat\u001b[0;34m(self, tensor_inputs, captured_inputs)\u001b[0m\n\u001b[1;32m   1260\u001b[0m possible_gradient_type \u001b[38;5;241m=\u001b[39m gradients_util\u001b[38;5;241m.\u001b[39mPossibleTapeGradientTypes(args)\n\u001b[1;32m   1261\u001b[0m \u001b[38;5;28;01mif\u001b[39;00m (possible_gradient_type \u001b[38;5;241m==\u001b[39m gradients_util\u001b[38;5;241m.\u001b[39mPOSSIBLE_GRADIENT_TYPES_NONE\n\u001b[1;32m   1262\u001b[0m     \u001b[38;5;129;01mand\u001b[39;00m executing_eagerly):\n\u001b[1;32m   1263\u001b[0m   \u001b[38;5;66;03m# No tape is watching; skip to running the function.\u001b[39;00m\n\u001b[0;32m-> 1264\u001b[0m   \u001b[38;5;28;01mreturn\u001b[39;00m \u001b[38;5;28;43mself\u001b[39;49m\u001b[38;5;241;43m.\u001b[39;49m\u001b[43m_inference_function\u001b[49m\u001b[38;5;241;43m.\u001b[39;49m\u001b[43mflat_call\u001b[49m\u001b[43m(\u001b[49m\u001b[43margs\u001b[49m\u001b[43m)\u001b[49m\n\u001b[1;32m   1265\u001b[0m forward_backward \u001b[38;5;241m=\u001b[39m \u001b[38;5;28mself\u001b[39m\u001b[38;5;241m.\u001b[39m_select_forward_and_backward_functions(\n\u001b[1;32m   1266\u001b[0m     args,\n\u001b[1;32m   1267\u001b[0m     possible_gradient_type,\n\u001b[1;32m   1268\u001b[0m     executing_eagerly)\n\u001b[1;32m   1269\u001b[0m forward_function, args_with_tangents \u001b[38;5;241m=\u001b[39m forward_backward\u001b[38;5;241m.\u001b[39mforward()\n",
      "File \u001b[0;32m/usr/local/lib/python3.11/dist-packages/tensorflow/python/eager/polymorphic_function/atomic_function.py:217\u001b[0m, in \u001b[0;36mAtomicFunction.flat_call\u001b[0;34m(self, args)\u001b[0m\n\u001b[1;32m    215\u001b[0m \u001b[38;5;28;01mdef\u001b[39;00m \u001b[38;5;21mflat_call\u001b[39m(\u001b[38;5;28mself\u001b[39m, args: Sequence[core\u001b[38;5;241m.\u001b[39mTensor]) \u001b[38;5;241m-\u001b[39m\u001b[38;5;241m>\u001b[39m Any:\n\u001b[1;32m    216\u001b[0m \u001b[38;5;250m  \u001b[39m\u001b[38;5;124;03m\"\"\"Calls with tensor inputs and returns the structured output.\"\"\"\u001b[39;00m\n\u001b[0;32m--> 217\u001b[0m   flat_outputs \u001b[38;5;241m=\u001b[39m \u001b[38;5;28;43mself\u001b[39;49m\u001b[43m(\u001b[49m\u001b[38;5;241;43m*\u001b[39;49m\u001b[43margs\u001b[49m\u001b[43m)\u001b[49m\n\u001b[1;32m    218\u001b[0m   \u001b[38;5;28;01mreturn\u001b[39;00m \u001b[38;5;28mself\u001b[39m\u001b[38;5;241m.\u001b[39mfunction_type\u001b[38;5;241m.\u001b[39mpack_output(flat_outputs)\n",
      "File \u001b[0;32m/usr/local/lib/python3.11/dist-packages/tensorflow/python/eager/polymorphic_function/atomic_function.py:252\u001b[0m, in \u001b[0;36mAtomicFunction.__call__\u001b[0;34m(self, *args)\u001b[0m\n\u001b[1;32m    250\u001b[0m \u001b[38;5;28;01mwith\u001b[39;00m record\u001b[38;5;241m.\u001b[39mstop_recording():\n\u001b[1;32m    251\u001b[0m   \u001b[38;5;28;01mif\u001b[39;00m \u001b[38;5;28mself\u001b[39m\u001b[38;5;241m.\u001b[39m_bound_context\u001b[38;5;241m.\u001b[39mexecuting_eagerly():\n\u001b[0;32m--> 252\u001b[0m     outputs \u001b[38;5;241m=\u001b[39m \u001b[38;5;28;43mself\u001b[39;49m\u001b[38;5;241;43m.\u001b[39;49m\u001b[43m_bound_context\u001b[49m\u001b[38;5;241;43m.\u001b[39;49m\u001b[43mcall_function\u001b[49m\u001b[43m(\u001b[49m\n\u001b[1;32m    253\u001b[0m \u001b[43m        \u001b[49m\u001b[38;5;28;43mself\u001b[39;49m\u001b[38;5;241;43m.\u001b[39;49m\u001b[43mname\u001b[49m\u001b[43m,\u001b[49m\n\u001b[1;32m    254\u001b[0m \u001b[43m        \u001b[49m\u001b[38;5;28;43mlist\u001b[39;49m\u001b[43m(\u001b[49m\u001b[43margs\u001b[49m\u001b[43m)\u001b[49m\u001b[43m,\u001b[49m\n\u001b[1;32m    255\u001b[0m \u001b[43m        \u001b[49m\u001b[38;5;28;43mlen\u001b[39;49m\u001b[43m(\u001b[49m\u001b[38;5;28;43mself\u001b[39;49m\u001b[38;5;241;43m.\u001b[39;49m\u001b[43mfunction_type\u001b[49m\u001b[38;5;241;43m.\u001b[39;49m\u001b[43mflat_outputs\u001b[49m\u001b[43m)\u001b[49m\u001b[43m,\u001b[49m\n\u001b[1;32m    256\u001b[0m \u001b[43m    \u001b[49m\u001b[43m)\u001b[49m\n\u001b[1;32m    257\u001b[0m   \u001b[38;5;28;01melse\u001b[39;00m:\n\u001b[1;32m    258\u001b[0m     outputs \u001b[38;5;241m=\u001b[39m make_call_op_in_graph(\n\u001b[1;32m    259\u001b[0m         \u001b[38;5;28mself\u001b[39m,\n\u001b[1;32m    260\u001b[0m         \u001b[38;5;28mlist\u001b[39m(args),\n\u001b[1;32m    261\u001b[0m         \u001b[38;5;28mself\u001b[39m\u001b[38;5;241m.\u001b[39m_bound_context\u001b[38;5;241m.\u001b[39mfunction_call_options\u001b[38;5;241m.\u001b[39mas_attrs(),\n\u001b[1;32m    262\u001b[0m     )\n",
      "File \u001b[0;32m/usr/local/lib/python3.11/dist-packages/tensorflow/python/eager/context.py:1479\u001b[0m, in \u001b[0;36mContext.call_function\u001b[0;34m(self, name, tensor_inputs, num_outputs)\u001b[0m\n\u001b[1;32m   1477\u001b[0m cancellation_context \u001b[38;5;241m=\u001b[39m cancellation\u001b[38;5;241m.\u001b[39mcontext()\n\u001b[1;32m   1478\u001b[0m \u001b[38;5;28;01mif\u001b[39;00m cancellation_context \u001b[38;5;129;01mis\u001b[39;00m \u001b[38;5;28;01mNone\u001b[39;00m:\n\u001b[0;32m-> 1479\u001b[0m   outputs \u001b[38;5;241m=\u001b[39m \u001b[43mexecute\u001b[49m\u001b[38;5;241;43m.\u001b[39;49m\u001b[43mexecute\u001b[49m\u001b[43m(\u001b[49m\n\u001b[1;32m   1480\u001b[0m \u001b[43m      \u001b[49m\u001b[43mname\u001b[49m\u001b[38;5;241;43m.\u001b[39;49m\u001b[43mdecode\u001b[49m\u001b[43m(\u001b[49m\u001b[38;5;124;43m\"\u001b[39;49m\u001b[38;5;124;43mutf-8\u001b[39;49m\u001b[38;5;124;43m\"\u001b[39;49m\u001b[43m)\u001b[49m\u001b[43m,\u001b[49m\n\u001b[1;32m   1481\u001b[0m \u001b[43m      \u001b[49m\u001b[43mnum_outputs\u001b[49m\u001b[38;5;241;43m=\u001b[39;49m\u001b[43mnum_outputs\u001b[49m\u001b[43m,\u001b[49m\n\u001b[1;32m   1482\u001b[0m \u001b[43m      \u001b[49m\u001b[43minputs\u001b[49m\u001b[38;5;241;43m=\u001b[39;49m\u001b[43mtensor_inputs\u001b[49m\u001b[43m,\u001b[49m\n\u001b[1;32m   1483\u001b[0m \u001b[43m      \u001b[49m\u001b[43mattrs\u001b[49m\u001b[38;5;241;43m=\u001b[39;49m\u001b[43mattrs\u001b[49m\u001b[43m,\u001b[49m\n\u001b[1;32m   1484\u001b[0m \u001b[43m      \u001b[49m\u001b[43mctx\u001b[49m\u001b[38;5;241;43m=\u001b[39;49m\u001b[38;5;28;43mself\u001b[39;49m\u001b[43m,\u001b[49m\n\u001b[1;32m   1485\u001b[0m \u001b[43m  \u001b[49m\u001b[43m)\u001b[49m\n\u001b[1;32m   1486\u001b[0m \u001b[38;5;28;01melse\u001b[39;00m:\n\u001b[1;32m   1487\u001b[0m   outputs \u001b[38;5;241m=\u001b[39m execute\u001b[38;5;241m.\u001b[39mexecute_with_cancellation(\n\u001b[1;32m   1488\u001b[0m       name\u001b[38;5;241m.\u001b[39mdecode(\u001b[38;5;124m\"\u001b[39m\u001b[38;5;124mutf-8\u001b[39m\u001b[38;5;124m\"\u001b[39m),\n\u001b[1;32m   1489\u001b[0m       num_outputs\u001b[38;5;241m=\u001b[39mnum_outputs,\n\u001b[0;32m   (...)\u001b[0m\n\u001b[1;32m   1493\u001b[0m       cancellation_manager\u001b[38;5;241m=\u001b[39mcancellation_context,\n\u001b[1;32m   1494\u001b[0m   )\n",
      "File \u001b[0;32m/usr/local/lib/python3.11/dist-packages/tensorflow/python/eager/execute.py:60\u001b[0m, in \u001b[0;36mquick_execute\u001b[0;34m(op_name, num_outputs, inputs, attrs, ctx, name)\u001b[0m\n\u001b[1;32m     53\u001b[0m   \u001b[38;5;66;03m# Convert any objects of type core_types.Tensor to Tensor.\u001b[39;00m\n\u001b[1;32m     54\u001b[0m   inputs \u001b[38;5;241m=\u001b[39m [\n\u001b[1;32m     55\u001b[0m       tensor_conversion_registry\u001b[38;5;241m.\u001b[39mconvert(t)\n\u001b[1;32m     56\u001b[0m       \u001b[38;5;28;01mif\u001b[39;00m \u001b[38;5;28misinstance\u001b[39m(t, core_types\u001b[38;5;241m.\u001b[39mTensor)\n\u001b[1;32m     57\u001b[0m       \u001b[38;5;28;01melse\u001b[39;00m t\n\u001b[1;32m     58\u001b[0m       \u001b[38;5;28;01mfor\u001b[39;00m t \u001b[38;5;129;01min\u001b[39;00m inputs\n\u001b[1;32m     59\u001b[0m   ]\n\u001b[0;32m---> 60\u001b[0m   tensors \u001b[38;5;241m=\u001b[39m \u001b[43mpywrap_tfe\u001b[49m\u001b[38;5;241;43m.\u001b[39;49m\u001b[43mTFE_Py_Execute\u001b[49m\u001b[43m(\u001b[49m\u001b[43mctx\u001b[49m\u001b[38;5;241;43m.\u001b[39;49m\u001b[43m_handle\u001b[49m\u001b[43m,\u001b[49m\u001b[43m \u001b[49m\u001b[43mdevice_name\u001b[49m\u001b[43m,\u001b[49m\u001b[43m \u001b[49m\u001b[43mop_name\u001b[49m\u001b[43m,\u001b[49m\n\u001b[1;32m     61\u001b[0m \u001b[43m                                      \u001b[49m\u001b[43minputs\u001b[49m\u001b[43m,\u001b[49m\u001b[43m \u001b[49m\u001b[43mattrs\u001b[49m\u001b[43m,\u001b[49m\u001b[43m \u001b[49m\u001b[43mnum_outputs\u001b[49m\u001b[43m)\u001b[49m\n\u001b[1;32m     62\u001b[0m \u001b[38;5;28;01mexcept\u001b[39;00m core\u001b[38;5;241m.\u001b[39m_NotOkStatusException \u001b[38;5;28;01mas\u001b[39;00m e:\n\u001b[1;32m     63\u001b[0m   \u001b[38;5;28;01mif\u001b[39;00m name \u001b[38;5;129;01mis\u001b[39;00m \u001b[38;5;129;01mnot\u001b[39;00m \u001b[38;5;28;01mNone\u001b[39;00m:\n",
      "\u001b[0;31mKeyboardInterrupt\u001b[0m: "
     ]
    }
   ],
   "source": [
    "from keras_tuner import Objective\n",
    "\n",
    "lr_scheduler = tf.keras.callbacks.ReduceLROnPlateau(factor=0.5, patience=5)\n",
    "early_stopping_cb = tf.keras.callbacks.EarlyStopping(monitor='val_balanced_accuracy', mode='max',\n",
    "                                                     patience=10, restore_best_weights=True)\n",
    "\n",
    "random_search_tuner = kt.RandomSearch(\n",
    "    build_model, \n",
    "    objective=Objective(\"val_balanced_accuracy\", direction='max'), \n",
    "    max_trials=161, \n",
    "    overwrite=False,  # overwrite=False Starts where it left from\n",
    "    directory=\"MLP_model1\", project_name=\"mlp_rnd_search\", seed=42)\n",
    "\n",
    "sample_weights = compute_sample_weight(class_weight='balanced', y=y_train)\n",
    "\n",
    "random_search_tuner.search(X_train_scaled, y_train, epochs=100, \n",
    "                           batch_size=64, validation_data=(X_val_scaled, y_val),\n",
    "                           callbacks=[early_stopping_cb, lr_scheduler],\n",
    "                           sample_weight=sample_weights)"
   ]
  },
  {
   "cell_type": "markdown",
   "id": "5PwmzrDkWLSL",
   "metadata": {
    "id": "5PwmzrDkWLSL"
   },
   "source": [
    "### DNN (Shiv)"
   ]
  },
  {
   "cell_type": "code",
   "execution_count": null,
   "id": "Op44Jl_UhmgO",
   "metadata": {
    "id": "Op44Jl_UhmgO",
    "tags": []
   },
   "outputs": [],
   "source": [
    "dims = 500\n",
    "\n",
    "X_train_scaled_new = X_train_scaled[:,:dims]\n",
    "X_val_new = X_val[:,:dims]\n",
    "X_test_scaled_new = X_test_scaled[:,:dims]\n",
    "\n",
    "import tensorflow as tf"
   ]
  },
  {
   "cell_type": "code",
   "execution_count": null,
   "id": "8Qjntb7AzyYk",
   "metadata": {
    "colab": {
     "base_uri": "https://localhost:8080/"
    },
    "id": "8Qjntb7AzyYk",
    "outputId": "7fec4d43-c1ef-4173-9881-2ca3467d3a53"
   },
   "outputs": [],
   "source": [
    "inp = Input(shape=[dims,])\n",
    "out = inp\n",
    "\n",
    "# Compute sample weights\n",
    "sample_weights = compute_sample_weight(class_weight='balanced', y=y_train)\n",
    "\n",
    "# Performance Scheduling\n",
    "lr_scheduler = tf.keras.callbacks.ReduceLROnPlateau(factor=0.5, patience=5)\n",
    "\n",
    "# early stopping\n",
    "early_stopping = EarlyStopping(patience=10, restore_best_weights=True)\n",
    "\n",
    "\n",
    "for ix in range(3):\n",
    "  out = Dense(64,activation='swish')(out)\n",
    "  out = Dropout(0.2)(out)\n",
    "out_encoder = Dense(64)(out)\n",
    "out = Dense(1,activation='sigmoid')(out)\n",
    "model = Model(inp,out)\n",
    "model_encoder = Model(inp,out_encoder)\n",
    "model.compile(loss='binary_crossentropy', optimizer='Adam', metrics=['accuracy'])\n",
    "history = model.fit(X_train_scaled_new, y_train, epochs=100, batch_size=64, validation_data=(X_val_new, y_val),sample_weight=sample_weights,\n",
    "                   callbacks=[early_stopping, lr_scheduler])"
   ]
  },
  {
   "cell_type": "code",
   "execution_count": null,
   "id": "EIxbBYFKIZ4b",
   "metadata": {
    "colab": {
     "base_uri": "https://localhost:8080/"
    },
    "id": "EIxbBYFKIZ4b",
    "outputId": "48513ecb-e9c2-4589-d662-90f5f481d700"
   },
   "outputs": [],
   "source": [
    "# train and test predictions\n",
    "dnn_y_test_pred = model.predict(X_test_scaled_new)\n",
    "dnn_y_train_pred = model.predict(X_train_scaled_new)\n",
    "print(classification_report(y_test, dnn_y_test_pred.round()))"
   ]
  },
  {
   "cell_type": "code",
   "execution_count": null,
   "id": "CNoYubIwIbxq",
   "metadata": {
    "colab": {
     "base_uri": "https://localhost:8080/"
    },
    "id": "CNoYubIwIbxq",
    "outputId": "94f7f7b8-57ce-4246-8103-e0a746ff90f8"
   },
   "outputs": [],
   "source": [
    "# calculate balanced accuracy\n",
    "print(f\"{balanced_accuracy_score(y_test, dnn_y_test_pred.round()) * 100:.2f}% - Balanced accuracy Test\")\n",
    "print(f\"{balanced_accuracy_score(y_train, dnn_y_train_pred.round()) * 100:.2f}% - Balanced accuracy Train\")"
   ]
  },
  {
   "cell_type": "markdown",
   "id": "L4i2vQQ4POTJ",
   "metadata": {
    "id": "L4i2vQQ4POTJ"
   },
   "source": [
    "#### UMAP and Agglomerative clustering\n",
    "\n",
    "- Use a pre-trained model encoder to transform the training and testing data (X_train_scaled_new and X_test_scaled_new).\n",
    "- Apply UMAP (Uniform Manifold Approximation and Projection) dimensionality reduction to the encoded test data.\n",
    "- Use agglomerative clustering on the encoded test data.\n",
    "- Identify clusters that contain prediction errors and summarizes these errors.\n",
    "- Visualize the data points in the 2D UMAP space, highlighting errors and true labels."
   ]
  },
  {
   "cell_type": "code",
   "execution_count": null,
   "id": "WSzNjl8aPLX6",
   "metadata": {
    "id": "WSzNjl8aPLX6"
   },
   "outputs": [],
   "source": [
    "# Installing Packages\n",
    "!pip install umap-learn\n",
    "!pip install bokeh\n",
    "!pip install bokeh holoviews colorcet scikit-image datashader"
   ]
  },
  {
   "cell_type": "code",
   "execution_count": null,
   "id": "nMEnLNPWIbz2",
   "metadata": {
    "colab": {
     "base_uri": "https://localhost:8080/"
    },
    "id": "nMEnLNPWIbz2",
    "outputId": "14fa684f-163e-4f3d-f886-aaaa2942eae6"
   },
   "outputs": [],
   "source": [
    "# Using a Pre-trained Model Encoder to Transform Data\n",
    "Xenc_train = model_encoder(X_train_scaled_new).numpy()\n",
    "Xenc_test = model_encoder(X_test_scaled_new)\n",
    "\n",
    "# Applying UMAP Dimensionality Reduction\n",
    "reducer = umap.UMAP(n_components=2, random_state=42)\n",
    "embedding = reducer.fit_transform(Xenc_test)\n",
    "\n",
    "# Model Prediction\n",
    "y_pred = model(X_test_scaled_new).numpy().round()\n",
    "\n",
    "# Fitting UMAP to Test Data\n",
    "mapper = umap.UMAP().fit(Xenc_test)\n",
    "\n",
    "# Applying Agglomerative Clustering\n",
    "cluster = AgglomerativeClustering(metric=\"cosine\", distance_threshold=0.5, n_clusters=None, linkage='average')\n",
    "cluster_test = cluster.fit_predict(Xenc_test.numpy())\n",
    "\n",
    "# Identifying Errors\n",
    "error = [cluster_test[ix] for ix in range(len(y_pred[:,0])) if (not y_pred[ix,0] == y_test.values[ix]) and  y_pred[ix,0] == 1]\n",
    "print(Counter(cluster_test).most_common(10))\n",
    "print(Counter(error).most_common(10))"
   ]
  },
  {
   "cell_type": "code",
   "execution_count": null,
   "id": "pQTm8kLDPoj8",
   "metadata": {
    "colab": {
     "base_uri": "https://localhost:8080/",
     "height": 1000
    },
    "id": "pQTm8kLDPoj8",
    "outputId": "699a9e7a-c680-47a9-fc8e-05c0cd00ef5a"
   },
   "outputs": [],
   "source": [
    "# Error and Label Lists\n",
    "errors = [0 if y_pred[ix,0] == y_test.values[ix] else 1 for ix in range(len(y_pred[:,0]))]\n",
    "labels = [y_test.values[ix] for ix in range(len(y_pred[:,0]))]\n",
    "\n",
    "# Visualization using UMAP\n",
    "umap.plot.points(mapper, labels=np.array(errors), theme='fire')\n",
    "plt.gca().set_title('UMAP Visualization Highlighting Prediction Errors')\n",
    "plt.xlabel('UMAP 1st Component')\n",
    "plt.ylabel('UMAP 2nd Component')\n",
    "plt.show()\n",
    "\n",
    "umap.plot.points(mapper, labels=np.array(labels), theme='fire')\n",
    "plt.gca().set_title('UMAP Visualization with True Labels')\n",
    "plt.xlabel('UMAP 1st Component')\n",
    "plt.ylabel('UMAP 2nd Component')\n",
    "plt.show()\n",
    "\n",
    "# # Scatter Plot for 2D UMAP Visualization\n",
    "# x_coords = embedding[:, 0]\n",
    "# y_coords = embedding[:, 1]\n",
    "# plt.scatter(x_coords, y_coords, c=labels, cmap='jet', s=15, alpha=0.6, edgecolors='w')\n",
    "# plt.xlabel('UMAP 1st component')\n",
    "# plt.ylabel('UMAP 2nd component')\n",
    "# plt.colorbar(label='Label')\n",
    "# plt.title('2D UMAP Visualization with Labels')\n",
    "# plt.show()"
   ]
  },
  {
   "cell_type": "markdown",
   "id": "QQnLNDKaWomw",
   "metadata": {
    "id": "QQnLNDKaWomw"
   },
   "source": [
    "#### SHAP Analysis"
   ]
  },
  {
   "cell_type": "code",
   "execution_count": null,
   "id": "Es54yR81O14Z",
   "metadata": {
    "colab": {
     "base_uri": "https://localhost:8080/",
     "height": 1000
    },
    "id": "Es54yR81O14Z",
    "outputId": "8c7b42dd-70f3-4145-ef86-e004ecd16db4"
   },
   "outputs": [],
   "source": [
    "# SHAP analysis\n",
    "import shap\n",
    "\n",
    "# Convert pandas DataFrame to numpy array if needed\n",
    "X_train_scaled_new_array = np.array(X_train_scaled_new)\n",
    "X_test_scaled_new_array = np.array(X_test_scaled_new)\n",
    "\n",
    "# Use a smaller random sample for background\n",
    "background_sample = X_train_scaled_new_array[np.random.choice(X_train_scaled_new_array.shape[0], 1000, replace=False)]\n",
    "\n",
    "# Initialize the explainer object\n",
    "explainer = shap.DeepExplainer(model, background_sample)\n",
    "\n",
    "# Compute the SHAP values\n",
    "shap_values = explainer.shap_values(X_test_scaled_new_array)\n",
    "\n",
    "# Summary plot to show feature importance for the entire dataset\n",
    "shap.summary_plot(shap_values, X_test_scaled_new_array)\n",
    "\n"
   ]
  },
  {
   "cell_type": "code",
   "execution_count": null,
   "id": "hsajMNUHO160",
   "metadata": {
    "id": "hsajMNUHO160"
   },
   "outputs": [],
   "source": []
  },
  {
   "cell_type": "markdown",
   "id": "frpV3R9ZNwVf",
   "metadata": {
    "id": "frpV3R9ZNwVf"
   },
   "source": [
    "## Deep Neural Network (DNN)"
   ]
  },
  {
   "cell_type": "code",
   "execution_count": null,
   "id": "iDRdGR_4NsSB",
   "metadata": {
    "colab": {
     "base_uri": "https://localhost:8080/"
    },
    "id": "iDRdGR_4NsSB",
    "outputId": "a697d0a1-5f6e-41cb-8ac6-3912613dee13"
   },
   "outputs": [],
   "source": [
    "# Adjust class weight\n",
    "# class_weight_0 = len(y_train) / (2 * np.sum(y_train == 0))\n",
    "# class_weight_1 = len(y_train) / (2 * np.sum(y_train == 1))\n",
    "# class_weights = {0: class_weight_0, 1: class_weight_1}\n",
    "\n",
    "from sklearn.utils.class_weight import compute_sample_weight\n",
    "\n",
    "# Compute sample weights\n",
    "sample_weights = compute_sample_weight(class_weight='balanced', y=y_train)\n",
    "\n",
    "# Performance Scheduling\n",
    "lr_scheduler = tf.keras.callbacks.ReduceLROnPlateau(factor=0.5, patience=5)\n",
    "\n",
    "# early stopping\n",
    "early_stopping = EarlyStopping(patience=10, restore_best_weights=True)\n",
    "\n",
    "\n",
    "model = Sequential()\n",
    "model.add(Dense(64, input_shape=(X_train_scaled.shape[1],), activation='relu'))\n",
    "model.add(Dropout(0.2))\n",
    "model.add(Dense(32, activation='relu'))\n",
    "model.add(Dropout(0.2))\n",
    "model.add(Dense(16, activation='relu'))\n",
    "model.add(Dropout(0.2))\n",
    "model.add(Dense(1, activation='sigmoid'))\n",
    "\n",
    "model.compile(loss='binary_crossentropy', optimizer='Adam', metrics=['accuracy'])\n",
    "history = model.fit(X_train_scaled, y_train, epochs=100, batch_size=64, sample_weight=sample_weights, validation_data=(X_val, y_val),\n",
    "                    callbacks=[early_stopping, lr_scheduler])"
   ]
  },
  {
   "cell_type": "code",
   "execution_count": null,
   "id": "tts8L5mrOIxB",
   "metadata": {
    "colab": {
     "base_uri": "https://localhost:8080/"
    },
    "id": "tts8L5mrOIxB",
    "outputId": "e6dce326-db97-41d1-8f23-fb6217b8e0db"
   },
   "outputs": [],
   "source": [
    "model.summary()"
   ]
  },
  {
   "cell_type": "markdown",
   "id": "Wm434JB0P52-",
   "metadata": {
    "id": "Wm434JB0P52-"
   },
   "source": [
    "Plot Learning Curves"
   ]
  },
  {
   "cell_type": "code",
   "execution_count": null,
   "id": "yZADAYKpP3WQ",
   "metadata": {
    "colab": {
     "base_uri": "https://localhost:8080/",
     "height": 407
    },
    "id": "yZADAYKpP3WQ",
    "outputId": "60e2e006-6f6f-43de-b682-b0eaee4ee0eb"
   },
   "outputs": [],
   "source": [
    "def plot_learning_curves(history):\n",
    "    # Extract the training and validation losses & accuracies\n",
    "    train_loss = history.history['loss']\n",
    "    val_loss = history.history['val_loss']\n",
    "    train_acc = history.history['accuracy']\n",
    "    val_acc = history.history['val_accuracy']\n",
    "\n",
    "    epochs = range(1, len(train_loss) + 1)\n",
    "\n",
    "    plt.figure(figsize=(12, 4))\n",
    "\n",
    "    # Plot training and validation accuracies\n",
    "    plt.subplot(1, 2, 1)\n",
    "    plt.plot(epochs, train_acc, 'r', label='Training Accuracy')\n",
    "    plt.plot(epochs, val_acc, 'b', label='Validation Accuracy')\n",
    "    plt.title('Training Accuracy')\n",
    "    plt.xlabel('Epochs')\n",
    "    plt.ylabel('Accuracy')\n",
    "    plt.legend()\n",
    "    plt.grid(True)\n",
    "\n",
    "    # Plot training and validation losses\n",
    "    plt.subplot(1, 2, 2)\n",
    "    plt.plot(epochs, train_loss, 'r', label='Training Loss')\n",
    "    plt.plot(epochs, val_loss, 'b', label='Validation Loss')\n",
    "    plt.title('Training Loss')\n",
    "    plt.xlabel('Epochs')\n",
    "    plt.ylabel('Loss')\n",
    "    plt.legend()\n",
    "    plt.grid(True)\n",
    "\n",
    "    plt.tight_layout()\n",
    "    plt.show()\n",
    "\n",
    "plot_learning_curves(history)"
   ]
  },
  {
   "cell_type": "markdown",
   "id": "mu3jIyojQGiH",
   "metadata": {
    "id": "mu3jIyojQGiH"
   },
   "source": [
    "**DNN Model Evaluation**"
   ]
  },
  {
   "cell_type": "code",
   "execution_count": null,
   "id": "zSaNWJ-UZDEM",
   "metadata": {
    "colab": {
     "base_uri": "https://localhost:8080/"
    },
    "id": "zSaNWJ-UZDEM",
    "outputId": "0b843768-2fe1-4659-e484-441de65305f1"
   },
   "outputs": [],
   "source": [
    "# train and test predictions\n",
    "dnn_y_test_pred = model.predict(X_test_scaled)\n",
    "dnn_y_train_pred = model.predict(X_train_scaled)"
   ]
  },
  {
   "cell_type": "code",
   "execution_count": null,
   "id": "wuewJwfXboj0",
   "metadata": {
    "colab": {
     "base_uri": "https://localhost:8080/"
    },
    "id": "wuewJwfXboj0",
    "outputId": "769948e7-32e0-489a-aa91-64e4f6cb85b6"
   },
   "outputs": [],
   "source": [
    "print(classification_report(y_test, dnn_y_test_pred.round()))"
   ]
  },
  {
   "cell_type": "code",
   "execution_count": null,
   "id": "KbSOv5nmVTSx",
   "metadata": {
    "colab": {
     "base_uri": "https://localhost:8080/"
    },
    "id": "KbSOv5nmVTSx",
    "outputId": "60718602-0851-4cac-dbd1-d2306df662de"
   },
   "outputs": [],
   "source": [
    "# calculate balanced accuracy\n",
    "print(f\"{balanced_accuracy_score(y_test, dnn_y_test_pred.round()) * 100:.2f}% - Balanced accuracy Test\")\n",
    "print(f\"{balanced_accuracy_score(y_train, dnn_y_train_pred.round()) * 100:.2f}% - Balanced accuracy Train\")"
   ]
  },
  {
   "cell_type": "code",
   "execution_count": null,
   "id": "TK6e8f89ZsZc",
   "metadata": {
    "colab": {
     "base_uri": "https://localhost:8080/",
     "height": 428
    },
    "id": "TK6e8f89ZsZc",
    "outputId": "705ec0b7-2add-451d-b9df-2d89f892e233"
   },
   "outputs": [],
   "source": [
    "# define labels\n",
    "labels = ['0', '1']\n",
    "\n",
    "# confusion matrix\n",
    "test_cm = confusion_matrix(y_test, dnn_y_test_pred.round())\n",
    "#train_cm = confusion_matrix(y_train, dnn_y_train_pred.round())\n",
    "fig, ax = plt.subplots(figsize=(5, 4))\n",
    "sns.heatmap(test_cm, annot=True, fmt='d', cmap='Blues', xticklabels=labels, yticklabels=labels, ax=ax)\n",
    "ax.set_title('Confusion Matrix for Test Set')\n",
    "ax.set_xlabel('Predicted')\n",
    "ax.set_ylabel('Actual')"
   ]
  },
  {
   "cell_type": "code",
   "execution_count": null,
   "id": "OWN68c9Nq-l9",
   "metadata": {
    "colab": {
     "base_uri": "https://localhost:8080/",
     "height": 487
    },
    "id": "OWN68c9Nq-l9",
    "outputId": "01f3fcbd-0397-43ba-ed63-64ce04e2b1b9"
   },
   "outputs": [],
   "source": [
    "# calibration curve\n",
    "\n",
    "prob_true, prob_pred = calibration_curve(y_test, dnn_y_test_pred, n_bins=10, strategy='uniform')\n",
    "\n",
    "plt.figure(figsize=(5, 5))\n",
    "plt.plot([0, 1], [0, 1], 'k:', label='Perfectly calibrated')\n",
    "plt.plot(prob_pred, prob_true, 's-', label='Calibration curve')\n",
    "plt.ylabel('Fraction of Positives')\n",
    "plt.xlabel('Mean Predicted Value')\n",
    "plt.legend()\n",
    "plt.title('Calibration Curve')\n",
    "plt.show()"
   ]
  },
  {
   "cell_type": "markdown",
   "id": "m01v0SzCsl8V",
   "metadata": {
    "id": "m01v0SzCsl8V"
   },
   "source": [
    "Perfectly Calibrated: In a perfectly calibrated model, the calibration curve would be a diagonal line, going from the bottom left corner to the top right corner of the plot (i.e., a 45-degree line, often labeled as \"Perfectly calibrated\"). This would mean that for items where the model predicts, say, a 70% chance, 70% of those items actually belong to the positive class.\n",
    "\n",
    "Over-confident: If the curve is below the diagonal line, the model's predicted probabilities are generally higher than the actual fraction of positives, indicating over-confidence."
   ]
  },
  {
   "cell_type": "markdown",
   "id": "uJ0hwgBGasVA",
   "metadata": {
    "id": "uJ0hwgBGasVA"
   },
   "source": [
    "## Random Forest"
   ]
  },
  {
   "cell_type": "code",
   "execution_count": null,
   "id": "bt4C8Q8iVZXM",
   "metadata": {
    "colab": {
     "base_uri": "https://localhost:8080/",
     "height": 75
    },
    "id": "bt4C8Q8iVZXM",
    "outputId": "76cebf1c-adb5-4935-ff97-62c41c742520"
   },
   "outputs": [],
   "source": [
    "from sklearn.ensemble import RandomForestClassifier\n",
    "\n",
    "rf = RandomForestClassifier(n_estimators=100, random_state=42)\n",
    "rf.fit(X_train_scaled, y_train)"
   ]
  },
  {
   "cell_type": "code",
   "execution_count": null,
   "id": "C3ozgTIta1WX",
   "metadata": {
    "colab": {
     "base_uri": "https://localhost:8080/"
    },
    "id": "C3ozgTIta1WX",
    "outputId": "2b76be64-d2ad-4bb3-e624-f99ef9dfb495"
   },
   "outputs": [],
   "source": [
    "rf_y_pred = rf.predict(X_test_scaled)\n",
    "rf_y_train_pred = rf.predict(X_train_scaled)\n",
    "print(classification_report(y_test, rf_y_pred))"
   ]
  },
  {
   "cell_type": "code",
   "execution_count": null,
   "id": "hnjBtxXGcnnj",
   "metadata": {
    "colab": {
     "base_uri": "https://localhost:8080/"
    },
    "id": "hnjBtxXGcnnj",
    "outputId": "8c38a243-1bfc-4c50-8df7-aeab67843dd3"
   },
   "outputs": [],
   "source": [
    "# calculate balanced accuracy\n",
    "from sklearn.metrics import balanced_accuracy_score\n",
    "print(f\"{balanced_accuracy_score(y_test, rf_y_pred.round()) * 100:.2f}% - Balanced accuracy Test\")\n",
    "print(f\"{balanced_accuracy_score(y_train, rf_y_train_pred.round()) * 100:.2f}% - Balanced accuracy Train\")"
   ]
  },
  {
   "cell_type": "code",
   "execution_count": null,
   "id": "6XoguqCzqJ0f",
   "metadata": {
    "colab": {
     "base_uri": "https://localhost:8080/",
     "height": 428
    },
    "id": "6XoguqCzqJ0f",
    "outputId": "8531fd8a-b098-4131-950c-d9f7b1730642"
   },
   "outputs": [],
   "source": [
    "# define labels\n",
    "labels = ['0', '1']\n",
    "\n",
    "# confusion matrix\n",
    "test_cm = confusion_matrix(y_test, rf_y_pred.round())\n",
    "train_cm = confusion_matrix(y_train, rf_y_train_pred.round())\n",
    "fig, ax = plt.subplots(figsize=(5, 4))\n",
    "sns.heatmap(test_cm, annot=True, fmt='d', cmap='Blues', xticklabels=labels, yticklabels=labels, ax=ax)\n",
    "ax.set_title('Confusion Matrix for Test Set')\n",
    "ax.set_xlabel('Predicted')\n",
    "ax.set_ylabel('Actual')"
   ]
  },
  {
   "cell_type": "code",
   "execution_count": null,
   "id": "PcM3jy5mGF09",
   "metadata": {
    "colab": {
     "base_uri": "https://localhost:8080/",
     "height": 807
    },
    "id": "PcM3jy5mGF09",
    "outputId": "ba5da0d0-273d-4338-b8a1-5d2b56e584b8"
   },
   "outputs": [],
   "source": [
    "from sklearn.tree import plot_tree\n",
    "\n",
    "# Visualizing the first decision tree\n",
    "plt.figure(figsize=(20,10))\n",
    "plot_tree(rf.estimators_[0], filled=True, max_depth=2, feature_names=X.columns)\n",
    "plt.show()"
   ]
  },
  {
   "cell_type": "code",
   "execution_count": null,
   "id": "zwRk8Co6GMq-",
   "metadata": {
    "colab": {
     "base_uri": "https://localhost:8080/",
     "height": 1000
    },
    "id": "zwRk8Co6GMq-",
    "outputId": "5eb700dd-e02a-4d4f-958a-ecae372d8003"
   },
   "outputs": [],
   "source": [
    "importances = rf.feature_importances_\n",
    "features = X.columns\n",
    "\n",
    "# Get the indices of the top 50 features\n",
    "sorted_indices = np.argsort(importances)[-50:]\n",
    "\n",
    "plt.figure(figsize=(10,18))\n",
    "plt.barh(features[sorted_indices], importances[sorted_indices])\n",
    "plt.xlabel('Importance Score')\n",
    "plt.ylabel('Features')\n",
    "plt.title('Top 50 Feature Importance Scores')\n",
    "plt.show()\n"
   ]
  },
  {
   "cell_type": "markdown",
   "id": "RxP-mSEXbYUR",
   "metadata": {
    "id": "RxP-mSEXbYUR"
   },
   "source": [
    "## XGBoost"
   ]
  },
  {
   "cell_type": "code",
   "execution_count": null,
   "id": "zUxFK2TYa8iB",
   "metadata": {
    "colab": {
     "base_uri": "https://localhost:8080/"
    },
    "id": "zUxFK2TYa8iB",
    "outputId": "3aed5370-f93a-4cf6-8096-32aaed95e416"
   },
   "outputs": [],
   "source": [
    "import xgboost as xgb\n",
    "\n",
    "# Create and train the model\n",
    "xgb_model = xgb.XGBClassifier(objective=\"binary:logistic\", random_state=42)\n",
    "xgb_model.fit(X_train_scaled, y_train)\n",
    "\n",
    "# predict using test set\n",
    "xgb_predictions = xgb_model.predict(X_test_scaled)\n",
    "xgb_train_predictions = xgb_model.predict(X_train_scaled)\n",
    "\n",
    "# show classification report\n",
    "print(\"XGBoost Classification Report:\\n\")\n",
    "print(classification_report(y_test, xgb_predictions))"
   ]
  },
  {
   "cell_type": "code",
   "execution_count": null,
   "id": "H67t9_n3bjcq",
   "metadata": {
    "colab": {
     "base_uri": "https://localhost:8080/"
    },
    "id": "H67t9_n3bjcq",
    "outputId": "be34a99e-7dc3-4d43-a63b-95d78b27afb4"
   },
   "outputs": [],
   "source": [
    "# calculate balanced accuracy\n",
    "from sklearn.metrics import balanced_accuracy_score\n",
    "print(f\"{balanced_accuracy_score(y_test, xgb_predictions.round()) * 100:.2f}% - Balanced accuracy Test\")\n",
    "print(f\"{balanced_accuracy_score(y_train, xgb_train_predictions.round()) * 100:.2f}% - Balanced accuracy Train\")"
   ]
  },
  {
   "cell_type": "code",
   "execution_count": null,
   "id": "T7DnvBe-qUoD",
   "metadata": {
    "colab": {
     "base_uri": "https://localhost:8080/",
     "height": 428
    },
    "id": "T7DnvBe-qUoD",
    "outputId": "07cf0eb6-b571-47b2-b46f-ff41b15b9b19"
   },
   "outputs": [],
   "source": [
    "# define labels\n",
    "labels = ['0', '1']\n",
    "\n",
    "# confusion matrix\n",
    "test_cm = confusion_matrix(y_test, xgb_predictions.round())\n",
    "train_cm = confusion_matrix(y_train, xgb_train_predictions.round())\n",
    "fig, ax = plt.subplots(figsize=(5, 4))\n",
    "sns.heatmap(test_cm, annot=True, fmt='d', cmap='Blues', xticklabels=labels, yticklabels=labels, ax=ax)\n",
    "ax.set_title('XGBoost Confusion Matrix for Test Set')\n",
    "ax.set_xlabel('Predicted')\n",
    "ax.set_ylabel('Actual')"
   ]
  },
  {
   "cell_type": "markdown",
   "id": "f0EMRPnJpqP3",
   "metadata": {
    "id": "f0EMRPnJpqP3"
   },
   "source": [
    "## LightGBM"
   ]
  },
  {
   "cell_type": "code",
   "execution_count": null,
   "id": "EYlW1NTud1yl",
   "metadata": {
    "colab": {
     "base_uri": "https://localhost:8080/"
    },
    "id": "EYlW1NTud1yl",
    "outputId": "04434f06-3c04-4779-a245-5b834d9e307f"
   },
   "outputs": [],
   "source": [
    "import lightgbm as lgb\n",
    "\n",
    "# Create and train the model\n",
    "lgb_model = lgb.LGBMClassifier(objective=\"binary\", random_state=42)\n",
    "lgb_model.fit(X_train_scaled, y_train)\n",
    "\n",
    "# predict using test set\n",
    "lgb_predictions = lgb_model.predict(X_test_scaled)\n",
    "lgb_train_predictions = lgb_model.predict(X_train_scaled)\n",
    "\n",
    "# show classification report\n",
    "print(\"LightGBM Classification Report:\\n\")\n",
    "print(classification_report(y_test, lgb_predictions))"
   ]
  },
  {
   "cell_type": "code",
   "execution_count": null,
   "id": "HV5Rg3uup7ih",
   "metadata": {
    "colab": {
     "base_uri": "https://localhost:8080/"
    },
    "id": "HV5Rg3uup7ih",
    "outputId": "141df3e0-de07-49ed-a7df-f8ed4060f3c5"
   },
   "outputs": [],
   "source": [
    "# calculate balanced accuracy\n",
    "from sklearn.metrics import balanced_accuracy_score\n",
    "print(f\"{balanced_accuracy_score(y_test, lgb_predictions.round()) * 100:.2f}% - Balanced accuracy Test\")\n",
    "print(f\"{balanced_accuracy_score(y_train, lgb_train_predictions.round()) * 100:.2f}% - Balanced accuracy Train\")"
   ]
  },
  {
   "cell_type": "code",
   "execution_count": null,
   "id": "8rKx_XPAp_yA",
   "metadata": {
    "colab": {
     "base_uri": "https://localhost:8080/",
     "height": 428
    },
    "id": "8rKx_XPAp_yA",
    "outputId": "fc2f5660-e90e-4da3-8d1b-f94a49889c25"
   },
   "outputs": [],
   "source": [
    "# define labels\n",
    "labels = ['0', '1']\n",
    "\n",
    "# confusion matrix\n",
    "test_cm = confusion_matrix(y_test, lgb_predictions.round())\n",
    "train_cm = confusion_matrix(y_train, lgb_train_predictions.round())\n",
    "fig, ax = plt.subplots(figsize=(5, 4))\n",
    "sns.heatmap(test_cm, annot=True, fmt='d', cmap='Blues', xticklabels=labels, yticklabels=labels, ax=ax)\n",
    "ax.set_title('Light GBM Confusion Matrix for Test Set')\n",
    "ax.set_xlabel('Predicted')\n",
    "ax.set_ylabel('Actual')"
   ]
  },
  {
   "cell_type": "markdown",
   "id": "ps8rM4U_s-Dp",
   "metadata": {
    "id": "ps8rM4U_s-Dp"
   },
   "source": [
    "## Logistic Regression"
   ]
  },
  {
   "cell_type": "code",
   "execution_count": null,
   "id": "2rGXbNdps_gt",
   "metadata": {
    "colab": {
     "base_uri": "https://localhost:8080/"
    },
    "id": "2rGXbNdps_gt",
    "outputId": "9737b90e-c36a-4cfa-94d1-bc4b4e6dbf78"
   },
   "outputs": [],
   "source": [
    "from sklearn.linear_model import LogisticRegression\n",
    "from sklearn.metrics import classification_report\n",
    "\n",
    "# Create and train the model with balanced class weights and increased iterations\n",
    "logistic_model = LogisticRegression(random_state=42, class_weight='balanced', max_iter=1000)\n",
    "logistic_model.fit(X_train_scaled, y_train)\n",
    "\n",
    "# Predict using test set\n",
    "logistic_predictions = logistic_model.predict(X_test_scaled)\n",
    "logistic_train_predictions = logistic_model.predict(X_train_scaled)\n",
    "\n",
    "# Show classification report\n",
    "print(\"Logistic Regression Classification Report:\\n\")\n",
    "print(classification_report(y_test, logistic_predictions))\n"
   ]
  },
  {
   "cell_type": "code",
   "execution_count": null,
   "id": "YcST2QV2tGqg",
   "metadata": {
    "colab": {
     "base_uri": "https://localhost:8080/"
    },
    "id": "YcST2QV2tGqg",
    "outputId": "2e426905-c39a-4013-e7e5-2093c75cf2d7"
   },
   "outputs": [],
   "source": [
    "# calculate balanced accuracy\n",
    "from sklearn.metrics import balanced_accuracy_score\n",
    "print(f\"{balanced_accuracy_score(y_test, logistic_predictions.round()) * 100:.2f}% - Balanced accuracy Test\")\n",
    "print(f\"{balanced_accuracy_score(y_train, logistic_train_predictions.round()) * 100:.2f}% - Balanced accuracy Train\")"
   ]
  },
  {
   "cell_type": "code",
   "execution_count": null,
   "id": "boQRya2etRz_",
   "metadata": {
    "colab": {
     "base_uri": "https://localhost:8080/",
     "height": 428
    },
    "id": "boQRya2etRz_",
    "outputId": "af8dd758-0647-4576-ea18-b829df4c9141"
   },
   "outputs": [],
   "source": [
    "# define labels\n",
    "labels = ['0', '1']\n",
    "\n",
    "# confusion matrix\n",
    "test_cm = confusion_matrix(y_test, logistic_predictions.round())\n",
    "train_cm = confusion_matrix(y_train, logistic_train_predictions.round())\n",
    "fig, ax = plt.subplots(figsize=(5, 4))\n",
    "sns.heatmap(test_cm, annot=True, fmt='d', cmap='Blues', xticklabels=labels, yticklabels=labels, ax=ax)\n",
    "ax.set_title('Logistic Regression Confusion Matrix for Test Set')\n",
    "ax.set_xlabel('Predicted')\n",
    "ax.set_ylabel('Actual')"
   ]
  },
  {
   "cell_type": "markdown",
   "id": "i3b1xbRb5p_u",
   "metadata": {
    "id": "i3b1xbRb5p_u"
   },
   "source": [
    "**SHAP (SHapley Additive exPlanations)**\n",
    "\n",
    "Explain the output of machine learning models and identifying feature importance by using Shapley values to fairly allocate contributions of each feature for individual predictions."
   ]
  },
  {
   "cell_type": "code",
   "execution_count": null,
   "id": "QeMvXLpO6QWP",
   "metadata": {
    "colab": {
     "base_uri": "https://localhost:8080/"
    },
    "id": "QeMvXLpO6QWP",
    "outputId": "272af8c9-9062-46d2-db25-e98666bbd574"
   },
   "outputs": [],
   "source": [
    "!pip install shap"
   ]
  },
  {
   "cell_type": "code",
   "execution_count": null,
   "id": "O9wjZ0jo9Qis",
   "metadata": {
    "id": "O9wjZ0jo9Qis"
   },
   "outputs": [],
   "source": [
    "import shap\n",
    "\n",
    "# Get feature names\n",
    "feature_names = X.columns.tolist()\n",
    "\n",
    "# # Convert training and test sets to DataFrames with those feature names\n",
    "X_train_scaled = pd.DataFrame(X_train_scaled, columns=feature_names)\n",
    "X_test_scaled = pd.DataFrame(X_test_scaled, columns=feature_names)\n",
    "\n",
    "# Initialize the explainer object with the appropriate masker\n",
    "masker = shap.maskers.Independent(data=X_train_scaled)\n",
    "explainer = shap.LinearExplainer(logistic_model, masker=masker)\n",
    "\n",
    "# Compute SHAP values for a particular set (e.g., test set)\n",
    "shap_values = explainer(X_test_scaled)\n",
    "\n",
    "# force plot for the first instance\n",
    "# shap.initjs()\n",
    "# shap.plots.force(shap_values[0])\n",
    "\n",
    "# Summary plot to show feature importance for the entire dataset\n",
    "shap.summary_plot(shap_values, X_test_scaled)"
   ]
  },
  {
   "cell_type": "code",
   "execution_count": null,
   "id": "0vUnSnVYtXUw",
   "metadata": {
    "colab": {
     "base_uri": "https://localhost:8080/",
     "height": 975
    },
    "id": "0vUnSnVYtXUw",
    "outputId": "340fe9c2-cae0-4139-c4e0-4cc8cf79e45b"
   },
   "outputs": [],
   "source": []
  },
  {
   "cell_type": "markdown",
   "id": "xSFjCVEJAv1B",
   "metadata": {
    "id": "xSFjCVEJAv1B"
   },
   "source": [
    "Red: Feature has a high value for that observation\n",
    "\n",
    "Blue: Feature has a low value for that observation\n",
    "\n",
    "Position on the x-axis: Indicates the effect of that value on the output"
   ]
  },
  {
   "cell_type": "markdown",
   "id": "ziHvCiD8900u",
   "metadata": {
    "id": "ziHvCiD8900u"
   },
   "source": [
    "## ROC Curve for all models"
   ]
  },
  {
   "cell_type": "code",
   "execution_count": null,
   "id": "G7qda2-X925_",
   "metadata": {
    "colab": {
     "base_uri": "https://localhost:8080/",
     "height": 509
    },
    "id": "G7qda2-X925_",
    "outputId": "3d44e945-7184-4d90-fc16-a9fc705acd01"
   },
   "outputs": [],
   "source": [
    "from sklearn.metrics import roc_curve, auc\n",
    "\n",
    "# For DNN\n",
    "y_pred_dnn = model.predict(X_test_scaled).ravel()\n",
    "fpr_dnn, tpr_dnn, thresholds_dnn = roc_curve(y_test, y_pred_dnn)\n",
    "roc_auc_dnn = auc(fpr_dnn, tpr_dnn)\n",
    "\n",
    "# For Random Forest\n",
    "y_pred_rf = rf.predict_proba(X_test_scaled)[:, 1]\n",
    "fpr_rf, tpr_rf, thresholds_rf = roc_curve(y_test, y_pred_rf)\n",
    "roc_auc_rf = auc(fpr_rf, tpr_rf)\n",
    "\n",
    "# For XGBoost\n",
    "y_pred_xgb = xgb_model.predict_proba(X_test_scaled)[:, 1]\n",
    "fpr_xgb, tpr_xgb, thresholds_xgb = roc_curve(y_test, y_pred_xgb)\n",
    "roc_auc_xgb = auc(fpr_xgb, tpr_xgb)\n",
    "\n",
    "# For LightGBM\n",
    "y_pred_lgb = lgb_model.predict_proba(X_test_scaled)[:, 1]\n",
    "fpr_lgb, tpr_lgb, thresholds_lgb = roc_curve(y_test, y_pred_lgb)\n",
    "roc_auc_lgb = auc(fpr_lgb, tpr_lgb)\n",
    "\n",
    "# For Logistic Regression\n",
    "y_pred_logistic = logistic_model.predict_proba(X_test_scaled)[:, 1]\n",
    "fpr_logistic, tpr_logistic, thresholds_logistic = roc_curve(y_test, y_pred_logistic)\n",
    "roc_auc_logistic = auc(fpr_logistic, tpr_logistic)\n",
    "\n",
    "# Plotting\n",
    "plt.figure()\n",
    "plt.plot(fpr_dnn, tpr_dnn, label=f'DNN (area = {roc_auc_dnn:.2f})')\n",
    "plt.plot(fpr_rf, tpr_rf, label=f'Random Forest (area = {roc_auc_rf:.2f})')\n",
    "plt.plot(fpr_xgb, tpr_xgb, label=f'XGBoost (area = {roc_auc_xgb:.2f})')\n",
    "plt.plot(fpr_lgb, tpr_lgb, label=f'LightGBM (area = {roc_auc_lgb:.2f})')\n",
    "plt.plot(fpr_logistic, tpr_logistic, label=f'Logistic Regression (area = {roc_auc_logistic:.2f})')\n",
    "\n",
    "plt.plot([0, 1], [0, 1], 'k--')\n",
    "plt.xlim([0.0, 1.0])\n",
    "plt.ylim([0.0, 1.05])\n",
    "plt.xlabel('False Positive Rate')\n",
    "plt.ylabel('True Positive Rate')\n",
    "plt.title('Receiver Operating Characteristic')\n",
    "plt.legend(loc=\"lower right\")\n",
    "plt.show()\n"
   ]
  }
 ],
 "metadata": {
  "accelerator": "GPU",
  "colab": {
   "gpuType": "T4",
   "include_colab_link": true,
   "machine_shape": "hm",
   "provenance": [],
   "toc_visible": true
  },
  "kernelspec": {
   "display_name": "Python 3 (ipykernel)",
   "language": "python",
   "name": "python3"
  },
  "language_info": {
   "codemirror_mode": {
    "name": "ipython",
    "version": 3
   },
   "file_extension": ".py",
   "mimetype": "text/x-python",
   "name": "python",
   "nbconvert_exporter": "python",
   "pygments_lexer": "ipython3",
   "version": "3.11.0rc1"
  },
  "toc-showtags": false
 },
 "nbformat": 4,
 "nbformat_minor": 5
}
